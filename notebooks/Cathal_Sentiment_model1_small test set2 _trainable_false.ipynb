{
 "cells": [
  {
   "cell_type": "code",
   "execution_count": 2,
   "id": "3cae071f",
   "metadata": {},
   "outputs": [],
   "source": [
    "%load_ext autoreload\n",
    "%autoreload 2"
   ]
  },
  {
   "cell_type": "code",
   "execution_count": 50,
   "id": "50cb4bc9",
   "metadata": {},
   "outputs": [],
   "source": [
    "from customerchurn.mlflow import MLFlowBase\n",
    "from customerchurn.params import MLFLOW_URI\n",
    "from customerchurn.params import EXPERIMENT_NAME"
   ]
  },
  {
   "cell_type": "code",
   "execution_count": 53,
   "id": "052fb833",
   "metadata": {},
   "outputs": [],
   "source": [
    "client = MLFlowBase( '[AUS] [MEL] [NLP709] CUSTOMERCHURN dummy', MLFLOW_URI)\n"
   ]
  },
  {
   "cell_type": "code",
   "execution_count": null,
   "id": "46ca972a",
   "metadata": {},
   "outputs": [],
   "source": []
  },
  {
   "cell_type": "code",
   "execution_count": 3,
   "id": "859767ce",
   "metadata": {},
   "outputs": [
    {
     "name": "stderr",
     "output_type": "stream",
     "text": [
      "/tmp/ipykernel_8790/1251664015.py:6: DtypeWarning: Columns (1,2) have mixed types. Specify dtype option on import or set low_memory=False.\n",
      "  df = pd.read_csv('../raw_data/raw_en.csv')\n"
     ]
    },
    {
     "name": "stdout",
     "output_type": "stream",
     "text": [
      "<class 'pandas.core.frame.DataFrame'>\n",
      "RangeIndex: 457074 entries, 0 to 457073\n",
      "Data columns (total 8 columns):\n",
      " #   Column          Non-Null Count   Dtype  \n",
      "---  ------          --------------   -----  \n",
      " 0   name            457074 non-null  object \n",
      " 1   date            351179 non-null  object \n",
      " 2   recommendation  350678 non-null  object \n",
      " 3   review          457074 non-null  object \n",
      " 4   playing_hours   350678 non-null  float64\n",
      " 5   source          457074 non-null  object \n",
      " 6   stars           106396 non-null  float64\n",
      " 7   language        457074 non-null  object \n",
      "dtypes: float64(2), object(6)\n",
      "memory usage: 27.9+ MB\n"
     ]
    }
   ],
   "source": [
    "import pandas as pd\n",
    "import numpy as np\n",
    "import seaborn as sns\n",
    "import matplotlib.pyplot as plt\n",
    "\n",
    "df = pd.read_csv('../raw_data/raw_en.csv')\n",
    "\n",
    "df.info()"
   ]
  },
  {
   "cell_type": "code",
   "execution_count": 4,
   "id": "fbacf785",
   "metadata": {},
   "outputs": [
    {
     "data": {
      "text/plain": [
       "en    457074\n",
       "Name: language, dtype: int64"
      ]
     },
     "execution_count": 4,
     "metadata": {},
     "output_type": "execute_result"
    }
   ],
   "source": [
    "df['language'].value_counts()"
   ]
  },
  {
   "cell_type": "code",
   "execution_count": 5,
   "id": "03051fda",
   "metadata": {},
   "outputs": [],
   "source": [
    "df1 = df.head(10000).copy()\n",
    "# creating small sample to train with"
   ]
  },
  {
   "cell_type": "code",
   "execution_count": 8,
   "id": "805a58c3",
   "metadata": {},
   "outputs": [],
   "source": [
    "from customerchurn.pre_pipeline import create_pre_pipe\n",
    "from customerchurn.pre_pipeline import series_prepro\n",
    "from sklearn.pipeline import make_pipeline\n",
    "from sklearn.pipeline import Pipeline\n",
    "from sklearn.compose import ColumnTransformer\n",
    "from sklearn.preprocessing import FunctionTransformer\n",
    "\n",
    "\n",
    "\n",
    "pipe = create_pre_pipe()\n",
    "\n",
    "# pipe.fit(df1)\n",
    "\n",
    "# df1['review_clean'] = pipe.transform(df1)[:,0]"
   ]
  },
  {
   "cell_type": "code",
   "execution_count": 9,
   "id": "49f94bcd",
   "metadata": {},
   "outputs": [],
   "source": [
    "df2 = df.head(1000).copy()\n",
    "# creating small sample to train with"
   ]
  },
  {
   "cell_type": "code",
   "execution_count": 23,
   "id": "02d040b4",
   "metadata": {},
   "outputs": [
    {
     "name": "stdout",
     "output_type": "stream",
     "text": [
      "\u001b[33mWARNING: You are using pip version 21.3.1; however, version 22.0.3 is available.\r\n",
      "You should consider upgrading via the '/home/cathal/.pyenv/versions/3.8.6/envs/customerchurn/bin/python -m pip install --upgrade pip' command.\u001b[0m\r\n"
     ]
    }
   ],
   "source": [
    "# !pip install -q -U tensorflow-text\n",
    "# !pip install -q tf-models-official"
   ]
  },
  {
   "cell_type": "code",
   "execution_count": 10,
   "id": "b0f628ce",
   "metadata": {},
   "outputs": [
    {
     "name": "stderr",
     "output_type": "stream",
     "text": [
      "2022-02-10 13:58:37.980677: W tensorflow/stream_executor/platform/default/dso_loader.cc:64] Could not load dynamic library 'libcudart.so.11.0'; dlerror: libcudart.so.11.0: cannot open shared object file: No such file or directory\n",
      "2022-02-10 13:58:37.980812: I tensorflow/stream_executor/cuda/cudart_stub.cc:29] Ignore above cudart dlerror if you do not have a GPU set up on your machine.\n",
      "/home/cathal/.pyenv/versions/3.8.6/envs/customerchurn/lib/python3.8/site-packages/tensorflow_addons/utils/ensure_tf_install.py:53: UserWarning: Tensorflow Addons supports using Python ops for all Tensorflow versions above or equal to 2.5.0 and strictly below 2.8.0 (nightly versions are not supported). \n",
      " The versions of TensorFlow you are currently using is 2.8.0 and is not supported. \n",
      "Some things might work, some things might not.\n",
      "If you were to encounter a bug, do not file an issue.\n",
      "If you want to make sure you're using a tested and supported configuration, either change the TensorFlow version or the TensorFlow Addons's version. \n",
      "You can find the compatibility matrix in TensorFlow Addon's readme:\n",
      "https://github.com/tensorflow/addons\n",
      "  warnings.warn(\n"
     ]
    }
   ],
   "source": [
    "import os\n",
    "import shutil\n",
    "\n",
    "import tensorflow as tf\n",
    "import tensorflow_hub as hub\n",
    "import tensorflow_text as text\n",
    "from official.nlp import optimization  # to create AdamW optimizer\n",
    "\n",
    "import matplotlib.pyplot as plt\n",
    "\n",
    "tf.get_logger().setLevel('ERROR')\n"
   ]
  },
  {
   "cell_type": "code",
   "execution_count": 12,
   "id": "152238a6",
   "metadata": {
    "scrolled": true
   },
   "outputs": [
    {
     "data": {
      "text/plain": [
       "Recommended        673\n",
       "Not Recommended    327\n",
       "Name: recommendation, dtype: int64"
      ]
     },
     "execution_count": 12,
     "metadata": {},
     "output_type": "execute_result"
    }
   ],
   "source": [
    "df2.recommendation.value_counts()"
   ]
  },
  {
   "cell_type": "code",
   "execution_count": 13,
   "id": "a3cd9131",
   "metadata": {
    "scrolled": true
   },
   "outputs": [
    {
     "data": {
      "text/html": [
       "<div>\n",
       "<style scoped>\n",
       "    .dataframe tbody tr th:only-of-type {\n",
       "        vertical-align: middle;\n",
       "    }\n",
       "\n",
       "    .dataframe tbody tr th {\n",
       "        vertical-align: top;\n",
       "    }\n",
       "\n",
       "    .dataframe thead th {\n",
       "        text-align: right;\n",
       "    }\n",
       "</style>\n",
       "<table border=\"1\" class=\"dataframe\">\n",
       "  <thead>\n",
       "    <tr style=\"text-align: right;\">\n",
       "      <th></th>\n",
       "      <th>name</th>\n",
       "      <th>date</th>\n",
       "      <th>recommendation</th>\n",
       "      <th>review</th>\n",
       "      <th>playing_hours</th>\n",
       "      <th>source</th>\n",
       "      <th>stars</th>\n",
       "      <th>language</th>\n",
       "    </tr>\n",
       "  </thead>\n",
       "  <tbody>\n",
       "    <tr>\n",
       "      <th>0</th>\n",
       "      <td>Expansion - Hearts of Iron IV: Man the Guns</td>\n",
       "      <td>2019-02-10</td>\n",
       "      <td>Recommended</td>\n",
       "      <td>&amp;gt Played as German Reich&amp;gt Declare war on B...</td>\n",
       "      <td>578.0</td>\n",
       "      <td>steam</td>\n",
       "      <td>NaN</td>\n",
       "      <td>en</td>\n",
       "    </tr>\n",
       "    <tr>\n",
       "      <th>1</th>\n",
       "      <td>Expansion - Hearts of Iron IV: Man the Guns</td>\n",
       "      <td>2019-02-07</td>\n",
       "      <td>Recommended</td>\n",
       "      <td>Very good game although a bit overpriced in my...</td>\n",
       "      <td>892.0</td>\n",
       "      <td>steam</td>\n",
       "      <td>NaN</td>\n",
       "      <td>en</td>\n",
       "    </tr>\n",
       "    <tr>\n",
       "      <th>2</th>\n",
       "      <td>Dead by Daylight</td>\n",
       "      <td>2018-06-14</td>\n",
       "      <td>Recommended</td>\n",
       "      <td>Out of all the reviews I wrote This one is pro...</td>\n",
       "      <td>676.0</td>\n",
       "      <td>steam</td>\n",
       "      <td>NaN</td>\n",
       "      <td>en</td>\n",
       "    </tr>\n",
       "    <tr>\n",
       "      <th>3</th>\n",
       "      <td>Dead by Daylight</td>\n",
       "      <td>2017-06-20</td>\n",
       "      <td>Recommended</td>\n",
       "      <td>Disclaimer I survivor main. I play games for f...</td>\n",
       "      <td>612.0</td>\n",
       "      <td>steam</td>\n",
       "      <td>NaN</td>\n",
       "      <td>en</td>\n",
       "    </tr>\n",
       "    <tr>\n",
       "      <th>4</th>\n",
       "      <td>Dead by Daylight</td>\n",
       "      <td>2016-12-12</td>\n",
       "      <td>Recommended</td>\n",
       "      <td>ENGLISH After playing for more than two years ...</td>\n",
       "      <td>2694.0</td>\n",
       "      <td>steam</td>\n",
       "      <td>NaN</td>\n",
       "      <td>en</td>\n",
       "    </tr>\n",
       "  </tbody>\n",
       "</table>\n",
       "</div>"
      ],
      "text/plain": [
       "                                          name        date recommendation  \\\n",
       "0  Expansion - Hearts of Iron IV: Man the Guns  2019-02-10    Recommended   \n",
       "1  Expansion - Hearts of Iron IV: Man the Guns  2019-02-07    Recommended   \n",
       "2                             Dead by Daylight  2018-06-14    Recommended   \n",
       "3                             Dead by Daylight  2017-06-20    Recommended   \n",
       "4                             Dead by Daylight  2016-12-12    Recommended   \n",
       "\n",
       "                                              review  playing_hours source  \\\n",
       "0  &gt Played as German Reich&gt Declare war on B...          578.0  steam   \n",
       "1  Very good game although a bit overpriced in my...          892.0  steam   \n",
       "2  Out of all the reviews I wrote This one is pro...          676.0  steam   \n",
       "3  Disclaimer I survivor main. I play games for f...          612.0  steam   \n",
       "4  ENGLISH After playing for more than two years ...         2694.0  steam   \n",
       "\n",
       "   stars language  \n",
       "0    NaN       en  \n",
       "1    NaN       en  \n",
       "2    NaN       en  \n",
       "3    NaN       en  \n",
       "4    NaN       en  "
      ]
     },
     "execution_count": 13,
     "metadata": {},
     "output_type": "execute_result"
    }
   ],
   "source": [
    "df2.head()"
   ]
  },
  {
   "cell_type": "code",
   "execution_count": 14,
   "id": "e4aa42a4",
   "metadata": {},
   "outputs": [],
   "source": [
    "X= df2['review']\n",
    "y = df2['recommendation'].apply(lambda x: 0 if x == 'Not Recommended' else 1)"
   ]
  },
  {
   "cell_type": "code",
   "execution_count": 15,
   "id": "2667c200",
   "metadata": {},
   "outputs": [
    {
     "data": {
      "text/plain": [
       "1    673\n",
       "0    327\n",
       "Name: recommendation, dtype: int64"
      ]
     },
     "execution_count": 15,
     "metadata": {},
     "output_type": "execute_result"
    }
   ],
   "source": [
    "y.value_counts()"
   ]
  },
  {
   "cell_type": "code",
   "execution_count": null,
   "id": "6e4b057a",
   "metadata": {},
   "outputs": [],
   "source": [
    "# AUTOTUNE = tf.data.AUTOTUNE\n",
    "# batch_size = 32\n",
    "# seed = 42\n",
    "\n",
    "# raw_train_ds = tf.keras.utils.text_dataset_from_directory(\n",
    "#     'customer/train',\n",
    "#     batch_size=batch_size,\n",
    "#     validation_split=0.2,\n",
    "#     subset='training',\n",
    "#     seed=seed)\n",
    "\n",
    "# class_names = raw_train_ds.class_names\n",
    "# train_ds = raw_train_ds.cache().prefetch(buffer_size=AUTOTUNE)\n",
    "\n",
    "# val_ds = tf.keras.utils.text_dataset_from_directory(\n",
    "#     'customer/train',\n",
    "#     batch_size=batch_size,\n",
    "#     validation_split=0.2,\n",
    "#     subset='validation',\n",
    "#     seed=seed)\n",
    "\n",
    "# val_ds = val_ds.cache().prefetch(buffer_size=AUTOTUNE)\n",
    "\n",
    "# test_ds = tf.keras.utils.text_dataset_from_directory(\n",
    "#     'customer/test',\n",
    "#     batch_size=batch_size)\n",
    "\n",
    "# test_ds = test_ds.cache().prefetch(buffer_size=AUTOTUNE)"
   ]
  },
  {
   "cell_type": "code",
   "execution_count": 16,
   "id": "4c3acedc",
   "metadata": {},
   "outputs": [],
   "source": [
    "tfhub_handle_preprocess = 'https://tfhub.dev/tensorflow/bert_en_uncased_preprocess/3'"
   ]
  },
  {
   "cell_type": "code",
   "execution_count": 17,
   "id": "2247fe83",
   "metadata": {},
   "outputs": [],
   "source": [
    "tfhub_handle_encoder = 'https://tfhub.dev/tensorflow/small_bert/bert_en_uncased_L-4_H-512_A-8/1'\n",
    "tfhub_handle_preprocess= 'https://tfhub.dev/tensorflow/bert_en_uncased_preprocess/3'"
   ]
  },
  {
   "cell_type": "code",
   "execution_count": 18,
   "id": "6ac0346a",
   "metadata": {},
   "outputs": [
    {
     "name": "stderr",
     "output_type": "stream",
     "text": [
      "2022-02-10 13:58:57.414535: W tensorflow/stream_executor/platform/default/dso_loader.cc:64] Could not load dynamic library 'libcuda.so.1'; dlerror: libcuda.so.1: cannot open shared object file: No such file or directory\n",
      "2022-02-10 13:58:57.414599: W tensorflow/stream_executor/cuda/cuda_driver.cc:269] failed call to cuInit: UNKNOWN ERROR (303)\n",
      "2022-02-10 13:58:57.414621: I tensorflow/stream_executor/cuda/cuda_diagnostics.cc:156] kernel driver does not appear to be running on this host (DESKTOP-1CG9GS9): /proc/driver/nvidia/version does not exist\n",
      "2022-02-10 13:58:57.415964: I tensorflow/core/platform/cpu_feature_guard.cc:151] This TensorFlow binary is optimized with oneAPI Deep Neural Network Library (oneDNN) to use the following CPU instructions in performance-critical operations:  AVX2 FMA\n",
      "To enable them in other operations, rebuild TensorFlow with the appropriate compiler flags.\n"
     ]
    }
   ],
   "source": [
    "bert_preprocess_model = hub.KerasLayer(tfhub_handle_preprocess)"
   ]
  },
  {
   "cell_type": "code",
   "execution_count": 12,
   "id": "1913a961",
   "metadata": {},
   "outputs": [
    {
     "name": "stdout",
     "output_type": "stream",
     "text": [
      "Keys       : ['input_type_ids', 'input_mask', 'input_word_ids']\n",
      "Shape      : (1, 128)\n",
      "Word Ids   : [ 101 2023 2003 2107 2019 6429 3185  999  102    0    0    0]\n",
      "Input Mask : [1 1 1 1 1 1 1 1 1 0 0 0]\n",
      "Type Ids   : [0 0 0 0 0 0 0 0 0 0 0 0]\n"
     ]
    }
   ],
   "source": [
    "text_test = ['this is such an amazing movie!']\n",
    "text_preprocessed = bert_preprocess_model(text_test)\n",
    "\n",
    "print(f'Keys       : {list(text_preprocessed.keys())}')\n",
    "print(f'Shape      : {text_preprocessed[\"input_word_ids\"].shape}')\n",
    "print(f'Word Ids   : {text_preprocessed[\"input_word_ids\"][0, :12]}')\n",
    "print(f'Input Mask : {text_preprocessed[\"input_mask\"][0, :12]}')\n",
    "print(f'Type Ids   : {text_preprocessed[\"input_type_ids\"][0, :12]}')"
   ]
  },
  {
   "cell_type": "code",
   "execution_count": 19,
   "id": "a2ff9b6f",
   "metadata": {},
   "outputs": [],
   "source": [
    "bert_model = hub.KerasLayer(tfhub_handle_encoder)"
   ]
  },
  {
   "cell_type": "code",
   "execution_count": 15,
   "id": "5e43df6b",
   "metadata": {},
   "outputs": [
    {
     "name": "stdout",
     "output_type": "stream",
     "text": [
      "Loaded BERT: https://tfhub.dev/tensorflow/small_bert/bert_en_uncased_L-4_H-512_A-8/1\n",
      "Pooled Outputs Shape:(1, 512)\n",
      "Pooled Outputs Values:[ 0.76262903  0.9928099  -0.1861187   0.3667383   0.15233696  0.65504414\n",
      "  0.9681154  -0.9486272   0.00216167 -0.9877732   0.06842678 -0.9763059 ]\n",
      "Sequence Outputs Shape:(1, 128, 512)\n",
      "Sequence Outputs Values:[[-0.28946355  0.34321314  0.3323151  ...  0.2130079   0.7102079\n",
      "  -0.05771136]\n",
      " [-0.28742105  0.31981066 -0.2301857  ...  0.58455014 -0.21329743\n",
      "   0.7269204 ]\n",
      " [-0.6615694   0.6887674  -0.8743296  ...  0.10877217 -0.26173162\n",
      "   0.4785526 ]\n",
      " ...\n",
      " [-0.22561109 -0.28925592 -0.07064441 ...  0.4756602   0.83277166\n",
      "   0.40025324]\n",
      " [-0.29824194 -0.2747312  -0.05450527 ...  0.48849782  1.0955361\n",
      "   0.18163359]\n",
      " [-0.4437828   0.00930762  0.07223727 ...  0.17290081  1.1833241\n",
      "   0.07897999]]\n"
     ]
    }
   ],
   "source": [
    "bert_results = bert_model(text_preprocessed)\n",
    "\n",
    "print(f'Loaded BERT: {tfhub_handle_encoder}')\n",
    "print(f'Pooled Outputs Shape:{bert_results[\"pooled_output\"].shape}')\n",
    "print(f'Pooled Outputs Values:{bert_results[\"pooled_output\"][0, :12]}')\n",
    "print(f'Sequence Outputs Shape:{bert_results[\"sequence_output\"].shape}')\n",
    "print(f'Sequence Outputs Values:{bert_results[\"sequence_output\"][0, :12]}')"
   ]
  },
  {
   "cell_type": "code",
   "execution_count": 20,
   "id": "89dccf29",
   "metadata": {},
   "outputs": [],
   "source": [
    "def build_classifier_model():\n",
    "    text_input = tf.keras.layers.Input(shape=(), dtype=tf.string, name='text')\n",
    "    preprocessing_layer = hub.KerasLayer(tfhub_handle_preprocess, name='preprocessing')\n",
    "\n",
    "    encoder_inputs = preprocessing_layer(text_input)\n",
    "    encoder = hub.KerasLayer(tfhub_handle_encoder, trainable=False, name='BERT_encoder')\n",
    "\n",
    "    outputs = encoder(encoder_inputs)\n",
    "    net = outputs['pooled_output']\n",
    "\n",
    "    net = tf.keras.layers.Dropout(0.1)(net)\n",
    "    net = tf.keras.layers.Dense(1, activation='sigmoid', name='classifier')(net)\n",
    "\n",
    "    return tf.keras.Model(text_input, net)"
   ]
  },
  {
   "cell_type": "code",
   "execution_count": 21,
   "id": "da6b2575",
   "metadata": {},
   "outputs": [],
   "source": [
    "classifier_model = build_classifier_model()\n",
    "# bert_raw_result = classifier_model(tf.constant(text_test))\n",
    "# print(tf.sigmoid(bert_raw_result))"
   ]
  },
  {
   "cell_type": "code",
   "execution_count": 43,
   "id": "035b715f",
   "metadata": {},
   "outputs": [],
   "source": [
    "# loss = tf.keras.losses.BinaryCrossentropy(from_logits=True)\n",
    "# metrics = tf.metrics.BinaryAccuracy()"
   ]
  },
  {
   "cell_type": "code",
   "execution_count": 1,
   "id": "7cd0cfc1",
   "metadata": {},
   "outputs": [],
   "source": [
    "# epochs = 5\n",
    "# steps_per_epoch = tf.data.experimental.cardinality(X).numpy()\n",
    "# num_train_steps = steps_per_epoch * epochs\n",
    "# num_warmup_steps = int(0.1*num_train_steps)\n",
    "\n",
    "# init_lr = 3e-5\n",
    "# optimizer = optimization.create_optimizer(init_lr=init_lr,\n",
    "#                                           num_train_steps=num_train_steps,\n",
    "#                                           num_warmup_steps=num_warmup_steps,\n",
    "#                                           optimizer_type='adamw')"
   ]
  },
  {
   "cell_type": "code",
   "execution_count": 54,
   "id": "09ce50d3",
   "metadata": {},
   "outputs": [],
   "source": [
    "client.mlflow_create_run()"
   ]
  },
  {
   "cell_type": "code",
   "execution_count": 55,
   "id": "0b9371d2",
   "metadata": {},
   "outputs": [],
   "source": [
    "client.mlflow_log_param('optimizer', 'adam')"
   ]
  },
  {
   "cell_type": "code",
   "execution_count": 22,
   "id": "3f79cbae",
   "metadata": {
    "scrolled": true
   },
   "outputs": [
    {
     "name": "stdout",
     "output_type": "stream",
     "text": [
      "125/125 [==============================] - 53s 389ms/step - loss: 0.6358 - accuracy: 0.6550\n"
     ]
    },
    {
     "data": {
      "text/plain": [
       "<keras.callbacks.History at 0x7fd9c2157130>"
      ]
     },
     "execution_count": 22,
     "metadata": {},
     "output_type": "execute_result"
    }
   ],
   "source": [
    "classifier_model.compile(loss='binary_crossentropy',\n",
    "              optimizer='adam',\n",
    "              metrics=['accuracy'])\n",
    "\n",
    "classifier_model.fit(X,y, batch_size =8 , epochs =1)"
   ]
  },
  {
   "cell_type": "code",
   "execution_count": 62,
   "id": "4d74f77e",
   "metadata": {},
   "outputs": [],
   "source": [
    "client.mlflow_log_metric('accuracy', history1.history['accuracy'][0])"
   ]
  },
  {
   "cell_type": "code",
   "execution_count": 46,
   "id": "9f1f4ff7",
   "metadata": {},
   "outputs": [
    {
     "name": "stdout",
     "output_type": "stream",
     "text": [
      "Model: \"model\"\n",
      "__________________________________________________________________________________________________\n",
      " Layer (type)                   Output Shape         Param #     Connected to                     \n",
      "==================================================================================================\n",
      " text (InputLayer)              [(None,)]            0           []                               \n",
      "                                                                                                  \n",
      " preprocessing (KerasLayer)     {'input_word_ids':   0           ['text[0][0]']                   \n",
      "                                (None, 128),                                                      \n",
      "                                 'input_type_ids':                                                \n",
      "                                (None, 128),                                                      \n",
      "                                 'input_mask': (Non                                               \n",
      "                                e, 128)}                                                          \n",
      "                                                                                                  \n",
      " BERT_encoder (KerasLayer)      {'default': (None,   28763649    ['preprocessing[0][0]',          \n",
      "                                512),                             'preprocessing[0][1]',          \n",
      "                                 'encoder_outputs':               'preprocessing[0][2]']          \n",
      "                                 [(None, 128, 512),                                               \n",
      "                                 (None, 128, 512),                                                \n",
      "                                 (None, 128, 512),                                                \n",
      "                                 (None, 128, 512)],                                               \n",
      "                                 'pooled_output': (                                               \n",
      "                                None, 512),                                                       \n",
      "                                 'sequence_output':                                               \n",
      "                                 (None, 128, 512)}                                                \n",
      "                                                                                                  \n",
      " dropout (Dropout)              (None, 512)          0           ['BERT_encoder[0][5]']           \n",
      "                                                                                                  \n",
      " classifier (Dense)             (None, 1)            513         ['dropout[0][0]']                \n",
      "                                                                                                  \n",
      "==================================================================================================\n",
      "Total params: 28,764,162\n",
      "Trainable params: 513\n",
      "Non-trainable params: 28,763,649\n",
      "__________________________________________________________________________________________________\n"
     ]
    }
   ],
   "source": [
    "classifier_model.summary()"
   ]
  },
  {
   "cell_type": "code",
   "execution_count": 36,
   "id": "8827c252",
   "metadata": {},
   "outputs": [],
   "source": [
    "metrics =classifier_model.metrics"
   ]
  },
  {
   "cell_type": "code",
   "execution_count": 38,
   "id": "ce4a7a0d",
   "metadata": {},
   "outputs": [
    {
     "name": "stdout",
     "output_type": "stream",
     "text": [
      "[<keras.metrics.Mean object at 0x7fd9c3a0d3a0>, <keras.metrics.MeanMetricWrapper object at 0x7fd9bc475670>]\n"
     ]
    }
   ],
   "source": [
    "print(metrics.)"
   ]
  },
  {
   "cell_type": "code",
   "execution_count": 32,
   "id": "ca73abf2",
   "metadata": {},
   "outputs": [],
   "source": [
    "history1 =classifier_model.history"
   ]
  },
  {
   "cell_type": "code",
   "execution_count": 33,
   "id": "1160338d",
   "metadata": {},
   "outputs": [
    {
     "data": {
      "text/plain": [
       "{'verbose': 1, 'epochs': 1, 'steps': 125}"
      ]
     },
     "execution_count": 33,
     "metadata": {},
     "output_type": "execute_result"
    }
   ],
   "source": [
    "history1.params"
   ]
  },
  {
   "cell_type": "code",
   "execution_count": 60,
   "id": "1d3e07f3",
   "metadata": {},
   "outputs": [
    {
     "data": {
      "text/plain": [
       "0.6549999713897705"
      ]
     },
     "execution_count": 60,
     "metadata": {},
     "output_type": "execute_result"
    }
   ],
   "source": [
    "history1.history['accuracy'][0]"
   ]
  },
  {
   "cell_type": "code",
   "execution_count": 25,
   "id": "e084f643",
   "metadata": {},
   "outputs": [],
   "source": [
    "import multiprocessing\n",
    "import time\n",
    "import warnings\n",
    "from tempfile import mkdtemp\n",
    "\n",
    "# import category_encoders as ce\n",
    "import joblib\n",
    "import mlflow\n",
    "# from TaxiFareModel.data import get_data, clean_df, DIST_ARGS\n",
    "# from TaxiFareModel.encoders import TimeFeaturesEncoder, DistanceTransformer, AddGeohash, Direction, \\\n",
    "#     DistanceToCenter\n",
    "# from TaxiFareModel.utils import compute_rmse, simple_time_tracker\n",
    "from memoized_property import memoized_property\n",
    "from mlflow.tracking import MlflowClient\n",
    "from psutil import virtual_memory\n",
    "from sklearn.compose import ColumnTransformer\n",
    "from sklearn.ensemble import GradientBoostingRegressor, RandomForestRegressor\n",
    "from sklearn.linear_model import Lasso, Ridge, LinearRegression\n",
    "from sklearn.model_selection import train_test_split, RandomizedSearchCV\n",
    "from sklearn.pipeline import Pipeline, make_pipeline\n",
    "from sklearn.preprocessing import OneHotEncoder, StandardScaler\n",
    "from termcolor import colored\n",
    "# from xgboost import XGBRegressor"
   ]
  },
  {
   "cell_type": "code",
   "execution_count": null,
   "id": "bc78df6c",
   "metadata": {},
   "outputs": [],
   "source": [
    "MLFLOW_URI = \"https://mlflow.lewagon.co/\"\n",
    "EXPERIMENT_NAME = \"first_experiment\""
   ]
  },
  {
   "cell_type": "code",
   "execution_count": null,
   "id": "d67f0671",
   "metadata": {},
   "outputs": [],
   "source": [
    "# create the model\n",
    "import mlflow\n",
    "import numpy as np\n",
    "# from sklearn.linear_model import LogisticRegression\n",
    "# from azureml.core import Workspace\n",
    "\n",
    "# # connect to your workspace\n",
    "# ws = Workspace.from_config()\n",
    "\n",
    "# create experiment and start logging to a new run in the experiment\n",
    "experiment_name = \"azure-ml-in10-mins-tutorial\"\n",
    "\n",
    "# set up MLflow to track the metrics\n",
    "mlflow.set_tracking_uri(ws.get_mlflow_tracking_uri())\n",
    "mlflow.set_experiment(experiment_name)\n",
    "mlflow.autolog()\n",
    "\n",
    "# set up the Logistic regression model\n",
    "reg = 0.5\n",
    "clf = classifier_model.compile(loss='binary_crossentropy',\n",
    "              optimizer='adam',\n",
    "              metrics=['accuracy'])\n",
    "\n",
    "\n",
    "# train the model\n",
    "with mlflow.start_run() as run:\n",
    "    clf.fit(X_train, y_train)"
   ]
  },
  {
   "cell_type": "code",
   "execution_count": null,
   "id": "36445554",
   "metadata": {},
   "outputs": [],
   "source": [
    "\n",
    "\n",
    "MODEL_DIRECTY = \"PipelineTest\"  # must the same as PATH_TO_MODEL inside Makefile\n",
    "MLFLOW_URI = \"https://mlflow.lewagon.co/\"\n",
    "\n",
    "\n",
    "class Trainer(object):\n",
    "    ESTIMATOR = \"Linear\"\n",
    "    EXPERIMENT_NAME = \"customerchurnMLFOWPOC\"\n",
    "\n",
    "    def __init__(self, X, y, **kwargs):\n",
    "        \"\"\"\n",
    "        FYI:\n",
    "        __init__ is called every time you instatiate Trainer\n",
    "        Consider kwargs as a dict containig all possible parameters given to your constructor\n",
    "        Example:\n",
    "            TT = Trainer(nrows=1000, estimator=\"Linear\")\n",
    "               ==> kwargs = {\"nrows\": 1000,\n",
    "                            \"estimator\": \"Linear\"}\n",
    "        :param X:\n",
    "        :param y:\n",
    "        :param kwargs:\n",
    "        \"\"\"\n",
    "        self.pipeline = None\n",
    "        self.kwargs = kwargs\n",
    "        self.local = kwargs.get(\"local\", False)  # if True training is done locally\n",
    "        self.mlflow = kwargs.get(\"mlflow\", False)  # if True log info to nlflow\n",
    "        self.experiment_name = kwargs.get(\"experiment_name\", self.EXPERIMENT_NAME)  # cf doc above\n",
    "        self.model_params = None  # for\n",
    "        self.X_train = X\n",
    "        self.y_train = y\n",
    "        del X, y\n",
    "        self.split = self.kwargs.get(\"split\", True)  # cf doc above\n",
    "        if self.split:\n",
    "            self.X_train, self.X_val, self.y_train, self.y_val = train_test_split(self.X_train, self.y_train,\n",
    "                                                                                  test_size=0.15)\n",
    "        self.nrows = self.X_train.shape[0]  # nb of rows to train on\n",
    "        self.log_kwargs_params()\n",
    "        self.log_machine_specs()\n",
    "\n",
    "#     def get_estimator(self):\n",
    "#         estimator = self.kwargs.get(\"estimator\", self.ESTIMATOR)\n",
    "#         if estimator == \"Lasso\":\n",
    "#             model = Lasso()\n",
    "#         elif estimator == \"Ridge\":\n",
    "#             model = Ridge()\n",
    "#         elif estimator == \"Linear\":\n",
    "#             model = LinearRegression()\n",
    "#         elif estimator == \"GBM\":\n",
    "#             model = GradientBoostingRegressor()\n",
    "#         elif estimator == \"RandomForest\":\n",
    "#             model = RandomForestRegressor()\n",
    "#             self.model_params = {  # 'n_estimators': [int(x) for x in np.linspace(start = 50, stop = 200, num = 10)],\n",
    "#                 'max_features': ['auto', 'sqrt']}\n",
    "#             # 'max_depth' : [int(x) for x in np.linspace(10, 110, num = 11)]}\n",
    "#         elif estimator == \"xgboost\":\n",
    "#             model = XGBRegressor(objective='reg:squarederror', n_jobs=-1, max_depth=10, learning_rate=0.05,\n",
    "#                                  gamma=3)\n",
    "#             self.model_params = {'max_depth': range(10, 20, 2),\n",
    "#                                  'n_estimators': range(60, 220, 40),\n",
    "#                                  'learning_rate': [0.1, 0.01, 0.05]\n",
    "#                                  }\n",
    "#         else:\n",
    "#             model = Lasso()\n",
    "#         estimator_params = self.kwargs.get(\"estimator_params\", {})\n",
    "#         self.mlflow_log_param(\"estimator\", estimator)\n",
    "#         model.set_params(**estimator_params)\n",
    "#         print(colored(model.__class__.__name__, \"red\"))\n",
    "#         return model\n",
    "\n",
    "#     def set_pipeline(self):\n",
    "#         memory = self.kwargs.get(\"pipeline_memory\", None)\n",
    "#         dist = self.kwargs.get(\"distance_type\", \"euclidian\")\n",
    "#         feateng_steps = self.kwargs.get(\"feateng\", [\"distance\", \"time_features\"])\n",
    "#         if memory:\n",
    "#              memory = mkdtemp()\n",
    "\n",
    "#         # Define feature engineering pipeline blocks here\n",
    "#         pipe_time_features = make_pipeline(TimeFeaturesEncoder(time_column='pickup_datetime'),\n",
    "#                                            OneHotEncoder(handle_unknown='ignore'))\n",
    "#         pipe_distance = make_pipeline(DistanceTransformer(distance_type=dist, **DIST_ARGS), StandardScaler())\n",
    "#         pipe_geohash = make_pipeline(AddGeohash(), ce.HashingEncoder())\n",
    "#         pipe_direction = make_pipeline(Direction(), StandardScaler())\n",
    "#         pipe_distance_to_center = make_pipeline(DistanceToCenter(), StandardScaler())\n",
    "\n",
    "#         # Define default feature engineering blocs\n",
    "#         feateng_blocks = [\n",
    "#             ('distance', pipe_distance, list(DIST_ARGS.values())),\n",
    "#             ('time_features', pipe_time_features, ['pickup_datetime']),\n",
    "#             ('geohash', pipe_geohash, list(DIST_ARGS.values())),\n",
    "#             ('direction', pipe_direction, list(DIST_ARGS.values())),\n",
    "#             ('distance_to_center', pipe_distance_to_center, list(DIST_ARGS.values())),\n",
    "#         ]\n",
    "#         # Filter out some bocks according to input parameters\n",
    "#         for bloc in feateng_blocks:\n",
    "#             if bloc[0] not in feateng_steps:\n",
    "#                 feateng_blocks.remove(bloc)\n",
    "\n",
    "#         features_encoder = ColumnTransformer(feateng_blocks, n_jobs=None, remainder=\"drop\")\n",
    "\n",
    "#         self.pipeline = Pipeline(steps=[\n",
    "#                     ('features', features_encoder),\n",
    "#                     ('rgs', self.get_estimator())],\n",
    "#                                  memory=memory)\n",
    "\n",
    "\n",
    "\n",
    "    def set_pipeline(self):\n",
    "#         self.pipeline =classifier_model.compile(loss='binary_crossentropy',\n",
    "#               optimizer='adam',\n",
    "#               metrics=['accuracy'])\n",
    "        self.pipeline = build_classifier_model()\n",
    "\n",
    "# classifier_model.fit(X,y, batch_size =8 , epochs =1)\n",
    "        \n",
    "\n",
    "    @simple_time_tracker\n",
    "    def train(self):\n",
    "        tic = time.time()\n",
    "        self.set_pipeline()\n",
    "        self.pipeline.fit(self.X_train, self.y_train)\n",
    "        # mlflow logs\n",
    "        self.mlflow_log_metric(\"train_time\", int(time.time() - tic))\n",
    "\n",
    "    def evaluate(self):\n",
    "        rmse_train = self.compute_rmse(self.X_train, self.y_train)\n",
    "        self.mlflow_log_metric(\"rmse_train\", rmse_train)\n",
    "        if self.split:\n",
    "            rmse_val = self.compute_rmse(self.X_val, self.y_val, show=True)\n",
    "            self.mlflow_log_metric(\"rmse_val\", rmse_val)\n",
    "            print(colored(\"rmse train: {} || rmse val: {}\".format(rmse_train, rmse_val), \"blue\"))\n",
    "        else:\n",
    "            print(colored(\"rmse train: {}\".format(rmse_train), \"blue\"))\n",
    "\n",
    "    def compute_rmse(self, X_test, y_test, show=False):\n",
    "        if self.pipeline is None:\n",
    "            raise (\"Cannot evaluate an empty pipeline\")\n",
    "        y_pred = self.pipeline.predict(X_test)\n",
    "        if show:\n",
    "            res = pd.DataFrame(y_test)\n",
    "            res[\"pred\"] = y_pred\n",
    "            print(colored(res.sample(5), \"blue\"))\n",
    "        rmse = compute_rmse(y_pred, y_test)\n",
    "        return round(rmse, 3)\n",
    "\n",
    "    def save_model(self):\n",
    "        \"\"\"Save the model into a .joblib format\"\"\"\n",
    "        joblib.dump(self.pipeline, 'model.joblib')\n",
    "        print(colored(\"model.joblib saved locally\", \"green\"))\n",
    "\n",
    "    ### MLFlow methods\n",
    "    @memoized_property\n",
    "    def mlflow_client(self):\n",
    "        mlflow.set_tracking_uri(MLFLOW_URI)\n",
    "        return MlflowClient()\n",
    "\n",
    "    @memoized_property\n",
    "    def mlflow_experiment_id(self):\n",
    "        try:\n",
    "            return self.mlflow_client.create_experiment(self.experiment_name)\n",
    "        except BaseException:\n",
    "            return self.mlflow_client.get_experiment_by_name(self.experiment_name).experiment_id\n",
    "\n",
    "    @memoized_property\n",
    "    def mlflow_run(self):\n",
    "        return self.mlflow_client.create_run(self.mlflow_experiment_id)\n",
    "\n",
    "    def mlflow_log_param(self, key, value):\n",
    "        if self.mlflow:\n",
    "            self.mlflow_client.log_param(self.mlflow_run.info.run_id, key, value)\n",
    "\n",
    "    def mlflow_log_metric(self, key, value):\n",
    "        if self.mlflow:\n",
    "            self.mlflow_client.log_metric(self.mlflow_run.info.run_id, key, value)\n",
    "\n",
    "    def log_estimator_params(self):\n",
    "        reg = self.get_estimator()\n",
    "        self.mlflow_log_param('estimator_name', reg.__class__.__name__)\n",
    "        params = reg.get_params()\n",
    "        for k, v in params.items():\n",
    "            self.mlflow_log_param(k, v)\n",
    "\n",
    "    def log_kwargs_params(self):\n",
    "        if self.mlflow:\n",
    "            for k, v in self.kwargs.items():\n",
    "                self.mlflow_log_param(k, v)\n",
    "\n",
    "    def log_machine_specs(self):\n",
    "        cpus = multiprocessing.cpu_count()\n",
    "        mem = virtual_memory()\n",
    "        ram = int(mem.total / 1000000000)\n",
    "        self.mlflow_log_param(\"ram\", ram)\n",
    "        self.mlflow_log_param(\"cpus\", cpus)\n",
    "\n",
    "\n",
    "\n"
   ]
  },
  {
   "cell_type": "code",
   "execution_count": null,
   "id": "a7052da5",
   "metadata": {},
   "outputs": [],
   "source": [
    "if __name__ == \"__main__\":\n",
    "    warnings.simplefilter(action='ignore', category=FutureWarning)\n",
    "    # Get and clean data\n",
    "    experiment = \"taxifare_set_YOURNAME\"\n",
    "    if \"YOURNAME\" in experiment:\n",
    "        print(colored(\"Please define MlFlow experiment variable with your own name\", \"red\"))\n",
    "    params = dict(nrows=1000000,\n",
    "                  local=False,  # set to False to get data from GCP (Storage or BigQuery)\n",
    "                  optimize=True,\n",
    "                  estimator=\"xgboost\",\n",
    "                  mlflow=True,  # set to True to log params to mlflow\n",
    "                  experiment_name=experiment,\n",
    "                  pipeline_memory=None,\n",
    "                  distance_type=\"manhattan\",\n",
    "                  feateng=[\"distance_to_center\", \"direction\", \"distance\", \"time_features\", \"geohash\"])\n",
    "    print(\"############   Loading Data   ############\")\n",
    "    df = get_data(**params)\n",
    "    df = clean_df(df)\n",
    "    y_train = df[\"fare_amount\"]\n",
    "    X_train = df.drop(\"fare_amount\", axis=1)\n",
    "    del df\n",
    "    print(\"shape: {}\".format(X_train.shape))\n",
    "    print(\"size: {} Mb\".format(X_train.memory_usage().sum() / 1e6))\n",
    "    # Train and save model, locally and\n",
    "    t = Trainer(X=X_train, y=y_train, **params)\n",
    "    del X_train, y_train\n",
    "    print(colored(\"############  Training model   ############\", \"red\"))\n",
    "    t.train()\n",
    "    print(colored(\"############  Evaluating model ############\", \"blue\"))\n",
    "    t.evaluate()\n",
    "    print(colored(\"############   Saving model    ############\", \"green\"))\n",
    "    t.save_model()"
   ]
  },
  {
   "cell_type": "code",
   "execution_count": null,
   "id": "266f8183",
   "metadata": {},
   "outputs": [],
   "source": []
  },
  {
   "cell_type": "code",
   "execution_count": 19,
   "id": "3324f1fd",
   "metadata": {},
   "outputs": [
    {
     "name": "stdout",
     "output_type": "stream",
     "text": [
      "Collecting pydot\n",
      "  Downloading pydot-1.4.2-py2.py3-none-any.whl (21 kB)\n",
      "Requirement already satisfied: pyparsing>=2.1.4 in /home/cathal/.pyenv/versions/3.8.6/envs/customerchurn/lib/python3.8/site-packages (from pydot) (3.0.7)\n",
      "Installing collected packages: pydot\n",
      "Successfully installed pydot-1.4.2\n",
      "\u001b[33mWARNING: You are using pip version 21.3.1; however, version 22.0.3 is available.\n",
      "You should consider upgrading via the '/home/cathal/.pyenv/versions/3.8.6/envs/customerchurn/bin/python -m pip install --upgrade pip' command.\u001b[0m\n"
     ]
    }
   ],
   "source": [
    "!pip install pydot"
   ]
  },
  {
   "cell_type": "code",
   "execution_count": 21,
   "id": "8deafd5b",
   "metadata": {},
   "outputs": [
    {
     "name": "stdout",
     "output_type": "stream",
     "text": [
      "[sudo] password for cathal: \n"
     ]
    }
   ],
   "source": [
    "# !sudo apt install graphviz"
   ]
  },
  {
   "cell_type": "code",
   "execution_count": 24,
   "id": "289ada12",
   "metadata": {},
   "outputs": [
    {
     "name": "stdout",
     "output_type": "stream",
     "text": [
      "You must install pydot (`pip install pydot`) and install graphviz (see instructions at https://graphviz.gitlab.io/download/) for plot_model/model_to_dot to work.\n"
     ]
    }
   ],
   "source": [
    "tf.keras.utils.plot_model(classifier_model)"
   ]
  },
  {
   "cell_type": "code",
   "execution_count": null,
   "id": "4bdd4ffb",
   "metadata": {},
   "outputs": [],
   "source": []
  }
 ],
 "metadata": {
  "kernelspec": {
   "display_name": "Python 3 (ipykernel)",
   "language": "python",
   "name": "python3"
  },
  "language_info": {
   "codemirror_mode": {
    "name": "ipython",
    "version": 3
   },
   "file_extension": ".py",
   "mimetype": "text/x-python",
   "name": "python",
   "nbconvert_exporter": "python",
   "pygments_lexer": "ipython3",
   "version": "3.8.6"
  },
  "toc": {
   "base_numbering": 1,
   "nav_menu": {},
   "number_sections": true,
   "sideBar": true,
   "skip_h1_title": false,
   "title_cell": "Table of Contents",
   "title_sidebar": "Contents",
   "toc_cell": false,
   "toc_position": {},
   "toc_section_display": true,
   "toc_window_display": false
  }
 },
 "nbformat": 4,
 "nbformat_minor": 5
}
