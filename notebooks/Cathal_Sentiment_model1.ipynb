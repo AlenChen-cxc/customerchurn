{
 "cells": [
  {
   "cell_type": "code",
   "execution_count": 1,
   "id": "610af868",
   "metadata": {},
   "outputs": [],
   "source": [
    "%load_ext autoreload\n",
    "%autoreload 2"
   ]
  },
  {
   "cell_type": "code",
   "execution_count": 2,
   "id": "859767ce",
   "metadata": {},
   "outputs": [
    {
     "name": "stderr",
     "output_type": "stream",
     "text": [
      "/tmp/ipykernel_6673/1251664015.py:6: DtypeWarning: Columns (1,2) have mixed types. Specify dtype option on import or set low_memory=False.\n",
      "  df = pd.read_csv('../raw_data/raw_en.csv')\n"
     ]
    },
    {
     "name": "stdout",
     "output_type": "stream",
     "text": [
      "<class 'pandas.core.frame.DataFrame'>\n",
      "RangeIndex: 457074 entries, 0 to 457073\n",
      "Data columns (total 8 columns):\n",
      " #   Column          Non-Null Count   Dtype  \n",
      "---  ------          --------------   -----  \n",
      " 0   name            457074 non-null  object \n",
      " 1   date            351179 non-null  object \n",
      " 2   recommendation  350678 non-null  object \n",
      " 3   review          457074 non-null  object \n",
      " 4   playing_hours   350678 non-null  float64\n",
      " 5   source          457074 non-null  object \n",
      " 6   stars           106396 non-null  float64\n",
      " 7   language        457074 non-null  object \n",
      "dtypes: float64(2), object(6)\n",
      "memory usage: 27.9+ MB\n"
     ]
    }
   ],
   "source": [
    "import pandas as pd\n",
    "import numpy as np\n",
    "import seaborn as sns\n",
    "import matplotlib.pyplot as plt\n",
    "\n",
    "df = pd.read_csv('../raw_data/raw_en.csv')\n",
    "\n",
    "df.info()"
   ]
  },
  {
   "cell_type": "code",
   "execution_count": 3,
   "id": "fbacf785",
   "metadata": {},
   "outputs": [
    {
     "data": {
      "text/plain": [
       "en    457074\n",
       "Name: language, dtype: int64"
      ]
     },
     "execution_count": 3,
     "metadata": {},
     "output_type": "execute_result"
    }
   ],
   "source": [
    "df['language'].value_counts()"
   ]
  },
  {
   "cell_type": "code",
   "execution_count": 4,
   "id": "b5f794a1",
   "metadata": {},
   "outputs": [
    {
     "data": {
      "text/html": [
       "<div>\n",
       "<style scoped>\n",
       "    .dataframe tbody tr th:only-of-type {\n",
       "        vertical-align: middle;\n",
       "    }\n",
       "\n",
       "    .dataframe tbody tr th {\n",
       "        vertical-align: top;\n",
       "    }\n",
       "\n",
       "    .dataframe thead th {\n",
       "        text-align: right;\n",
       "    }\n",
       "</style>\n",
       "<table border=\"1\" class=\"dataframe\">\n",
       "  <thead>\n",
       "    <tr style=\"text-align: right;\">\n",
       "      <th></th>\n",
       "      <th>name</th>\n",
       "      <th>date</th>\n",
       "      <th>recommendation</th>\n",
       "      <th>review</th>\n",
       "      <th>playing_hours</th>\n",
       "      <th>source</th>\n",
       "      <th>stars</th>\n",
       "      <th>language</th>\n",
       "    </tr>\n",
       "  </thead>\n",
       "  <tbody>\n",
       "    <tr>\n",
       "      <th>0</th>\n",
       "      <td>Expansion - Hearts of Iron IV: Man the Guns</td>\n",
       "      <td>2019-02-10</td>\n",
       "      <td>Recommended</td>\n",
       "      <td>&amp;gt Played as German Reich&amp;gt Declare war on B...</td>\n",
       "      <td>578.0</td>\n",
       "      <td>steam</td>\n",
       "      <td>NaN</td>\n",
       "      <td>en</td>\n",
       "    </tr>\n",
       "    <tr>\n",
       "      <th>1</th>\n",
       "      <td>Expansion - Hearts of Iron IV: Man the Guns</td>\n",
       "      <td>2019-02-07</td>\n",
       "      <td>Recommended</td>\n",
       "      <td>Very good game although a bit overpriced in my...</td>\n",
       "      <td>892.0</td>\n",
       "      <td>steam</td>\n",
       "      <td>NaN</td>\n",
       "      <td>en</td>\n",
       "    </tr>\n",
       "    <tr>\n",
       "      <th>2</th>\n",
       "      <td>Dead by Daylight</td>\n",
       "      <td>2018-06-14</td>\n",
       "      <td>Recommended</td>\n",
       "      <td>Out of all the reviews I wrote This one is pro...</td>\n",
       "      <td>676.0</td>\n",
       "      <td>steam</td>\n",
       "      <td>NaN</td>\n",
       "      <td>en</td>\n",
       "    </tr>\n",
       "    <tr>\n",
       "      <th>3</th>\n",
       "      <td>Dead by Daylight</td>\n",
       "      <td>2017-06-20</td>\n",
       "      <td>Recommended</td>\n",
       "      <td>Disclaimer I survivor main. I play games for f...</td>\n",
       "      <td>612.0</td>\n",
       "      <td>steam</td>\n",
       "      <td>NaN</td>\n",
       "      <td>en</td>\n",
       "    </tr>\n",
       "    <tr>\n",
       "      <th>4</th>\n",
       "      <td>Dead by Daylight</td>\n",
       "      <td>2016-12-12</td>\n",
       "      <td>Recommended</td>\n",
       "      <td>ENGLISH After playing for more than two years ...</td>\n",
       "      <td>2694.0</td>\n",
       "      <td>steam</td>\n",
       "      <td>NaN</td>\n",
       "      <td>en</td>\n",
       "    </tr>\n",
       "  </tbody>\n",
       "</table>\n",
       "</div>"
      ],
      "text/plain": [
       "                                          name        date recommendation  \\\n",
       "0  Expansion - Hearts of Iron IV: Man the Guns  2019-02-10    Recommended   \n",
       "1  Expansion - Hearts of Iron IV: Man the Guns  2019-02-07    Recommended   \n",
       "2                             Dead by Daylight  2018-06-14    Recommended   \n",
       "3                             Dead by Daylight  2017-06-20    Recommended   \n",
       "4                             Dead by Daylight  2016-12-12    Recommended   \n",
       "\n",
       "                                              review  playing_hours source  \\\n",
       "0  &gt Played as German Reich&gt Declare war on B...          578.0  steam   \n",
       "1  Very good game although a bit overpriced in my...          892.0  steam   \n",
       "2  Out of all the reviews I wrote This one is pro...          676.0  steam   \n",
       "3  Disclaimer I survivor main. I play games for f...          612.0  steam   \n",
       "4  ENGLISH After playing for more than two years ...         2694.0  steam   \n",
       "\n",
       "   stars language  \n",
       "0    NaN       en  \n",
       "1    NaN       en  \n",
       "2    NaN       en  \n",
       "3    NaN       en  \n",
       "4    NaN       en  "
      ]
     },
     "execution_count": 4,
     "metadata": {},
     "output_type": "execute_result"
    }
   ],
   "source": [
    "df.head()\n"
   ]
  },
  {
   "cell_type": "code",
   "execution_count": 7,
   "id": "805a58c3",
   "metadata": {},
   "outputs": [
    {
     "name": "stdout",
     "output_type": "stream",
     "text": [
      "CPU times: user 19min 56s, sys: 31.5 s, total: 20min 28s\n",
      "Wall time: 20min 28s\n"
     ]
    }
   ],
   "source": [
    "%%time\n",
    "from customerchurn.pre_pipeline import create_pre_pipe\n",
    "from customerchurn.pre_pipeline import series_prepro\n",
    "from sklearn.pipeline import make_pipeline\n",
    "from sklearn.pipeline import Pipeline\n",
    "from sklearn.compose import ColumnTransformer\n",
    "from sklearn.preprocessing import FunctionTransformer\n",
    "\n",
    "\n",
    "\n",
    "pipe = create_pre_pipe()\n",
    "\n",
    "pipe.fit(df)\n",
    "\n",
    "df['review_clean'] = pipe.transform(df)[:,0]\n",
    "\n"
   ]
  },
  {
   "cell_type": "code",
   "execution_count": 8,
   "id": "a1505ab7",
   "metadata": {},
   "outputs": [],
   "source": [
    "df.to_csv('../raw_data/processed_df.csv', index=False)"
   ]
  },
  {
   "cell_type": "code",
   "execution_count": null,
   "id": "71fa3d92",
   "metadata": {},
   "outputs": [],
   "source": [
    "import os\n",
    "import shutil\n",
    "\n",
    "import tensorflow as tf\n",
    "import tensorflow_hub as hub\n",
    "import tensorflow_text as text\n",
    "from official.nlp import optimization  # to create AdamW optimizer\n",
    "\n",
    "import matplotlib.pyplot as plt\n",
    "\n",
    "tf.get_logger().setLevel('ERROR')"
   ]
  },
  {
   "cell_type": "code",
   "execution_count": null,
   "id": "91da4a77",
   "metadata": {},
   "outputs": [],
   "source": []
  },
  {
   "cell_type": "code",
   "execution_count": null,
   "id": "71be6266",
   "metadata": {},
   "outputs": [],
   "source": []
  }
 ],
 "metadata": {
  "kernelspec": {
   "display_name": "Python 3 (ipykernel)",
   "language": "python",
   "name": "python3"
  },
  "language_info": {
   "codemirror_mode": {
    "name": "ipython",
    "version": 3
   },
   "file_extension": ".py",
   "mimetype": "text/x-python",
   "name": "python",
   "nbconvert_exporter": "python",
   "pygments_lexer": "ipython3",
   "version": "3.8.6"
  },
  "toc": {
   "base_numbering": 1,
   "nav_menu": {},
   "number_sections": true,
   "sideBar": true,
   "skip_h1_title": false,
   "title_cell": "Table of Contents",
   "title_sidebar": "Contents",
   "toc_cell": false,
   "toc_position": {},
   "toc_section_display": true,
   "toc_window_display": false
  }
 },
 "nbformat": 4,
 "nbformat_minor": 5
}
