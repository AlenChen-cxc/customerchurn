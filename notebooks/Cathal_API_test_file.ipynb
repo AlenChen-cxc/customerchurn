{
 "cells": [
  {
   "cell_type": "code",
   "execution_count": 5,
   "id": "c18ca90f",
   "metadata": {},
   "outputs": [],
   "source": [
    "import pandas as pd"
   ]
  },
  {
   "cell_type": "code",
   "execution_count": 2,
   "id": "2d99f97c",
   "metadata": {},
   "outputs": [],
   "source": [
    "import tensorflow as tf\n",
    "import tensorflow_text as text\n",
    "new_model = tf.keras.models.load_model('../sentiment_model1')"
   ]
  },
  {
   "cell_type": "code",
   "execution_count": 9,
   "id": "354e5fd8",
   "metadata": {},
   "outputs": [],
   "source": [
    "X_pred = pd.read_csv('../raw_data/bank_reviews_apitest.csv')['review']\n",
    "pred = new_model.predict(X_pred)"
   ]
  },
  {
   "cell_type": "code",
   "execution_count": 10,
   "id": "60bf9233",
   "metadata": {},
   "outputs": [
    {
     "data": {
      "text/plain": [
       "array([[0.9754037 ],\n",
       "       [0.9940408 ],\n",
       "       [0.83211327],\n",
       "       [0.82221365],\n",
       "       [0.9769417 ],\n",
       "       [0.8918745 ],\n",
       "       [0.9711585 ],\n",
       "       [0.9198754 ],\n",
       "       [0.5514314 ]], dtype=float32)"
      ]
     },
     "execution_count": 10,
     "metadata": {},
     "output_type": "execute_result"
    }
   ],
   "source": [
    "pred"
   ]
  },
  {
   "cell_type": "code",
   "execution_count": 11,
   "id": "52e0e195",
   "metadata": {},
   "outputs": [
    {
     "data": {
      "text/plain": [
       "array([0.9754037], dtype=float32)"
      ]
     },
     "execution_count": 11,
     "metadata": {},
     "output_type": "execute_result"
    }
   ],
   "source": [
    "pred[0]"
   ]
  },
  {
   "cell_type": "code",
   "execution_count": 25,
   "id": "29f74b27",
   "metadata": {},
   "outputs": [],
   "source": [
    "dict_pred = {'pred':[str(x) for x in list(pred.reshape(-1))]}"
   ]
  },
  {
   "cell_type": "code",
   "execution_count": 26,
   "id": "706f097a",
   "metadata": {},
   "outputs": [
    {
     "data": {
      "text/plain": [
       "{'pred': ['0.9754037',\n",
       "  '0.9940408',\n",
       "  '0.83211327',\n",
       "  '0.82221365',\n",
       "  '0.9769417',\n",
       "  '0.8918745',\n",
       "  '0.9711585',\n",
       "  '0.9198754',\n",
       "  '0.5514314']}"
      ]
     },
     "execution_count": 26,
     "metadata": {},
     "output_type": "execute_result"
    }
   ],
   "source": [
    "dict_pred"
   ]
  },
  {
   "cell_type": "code",
   "execution_count": null,
   "id": "ea6e3c93",
   "metadata": {},
   "outputs": [],
   "source": []
  }
 ],
 "metadata": {
  "kernelspec": {
   "display_name": "Python 3 (ipykernel)",
   "language": "python",
   "name": "python3"
  },
  "language_info": {
   "codemirror_mode": {
    "name": "ipython",
    "version": 3
   },
   "file_extension": ".py",
   "mimetype": "text/x-python",
   "name": "python",
   "nbconvert_exporter": "python",
   "pygments_lexer": "ipython3",
   "version": "3.8.6"
  },
  "toc": {
   "base_numbering": 1,
   "nav_menu": {},
   "number_sections": true,
   "sideBar": true,
   "skip_h1_title": false,
   "title_cell": "Table of Contents",
   "title_sidebar": "Contents",
   "toc_cell": false,
   "toc_position": {},
   "toc_section_display": true,
   "toc_window_display": false
  }
 },
 "nbformat": 4,
 "nbformat_minor": 5
}
