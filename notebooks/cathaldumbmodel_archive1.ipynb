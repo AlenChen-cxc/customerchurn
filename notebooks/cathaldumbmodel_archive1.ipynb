{
 "cells": [
  {
   "cell_type": "code",
   "execution_count": 93,
   "id": "0740a79f",
   "metadata": {
    "scrolled": true
   },
   "outputs": [],
   "source": [
    "from nltk.corpus import stopwords\n",
    "from nltk.tokenize import word_tokenize\n",
    "from nltk.stem import WordNetLemmatizer\n",
    "import string\n",
    "import spacy\n",
    "import nltk"
   ]
  },
  {
   "cell_type": "code",
   "execution_count": 102,
   "id": "10c861ce",
   "metadata": {},
   "outputs": [],
   "source": [
    "from sklearn.feature_extraction.text import TfidfVectorizer\n",
    "from sklearn.naive_bayes import MultinomialNB\n",
    "from sklearn.model_selection import cross_validate\n",
    "from sklearn.feature_extraction.text import CountVectorizer"
   ]
  },
  {
   "cell_type": "code",
   "execution_count": 94,
   "id": "77e22a6f",
   "metadata": {},
   "outputs": [
    {
     "name": "stderr",
     "output_type": "stream",
     "text": [
      "[nltk_data] Downloading package omw-1.4 to /home/cathal/nltk_data...\n",
      "[nltk_data]   Unzipping corpora/omw-1.4.zip.\n"
     ]
    },
    {
     "data": {
      "text/plain": [
       "True"
      ]
     },
     "execution_count": 94,
     "metadata": {},
     "output_type": "execute_result"
    }
   ],
   "source": [
    "from sklearn.model_selection import train_test_split\n",
    "nltk.download('omw-1.4')"
   ]
  },
  {
   "cell_type": "code",
   "execution_count": 1,
   "id": "b3cca2f2",
   "metadata": {},
   "outputs": [
    {
     "name": "stderr",
     "output_type": "stream",
     "text": [
      "/tmp/ipykernel_3196/4288383160.py:6: DtypeWarning: Columns (2,3) have mixed types. Specify dtype option on import or set low_memory=False.\n",
      "  df = pd.read_csv('../raw_data/concat.csv')\n"
     ]
    },
    {
     "name": "stdout",
     "output_type": "stream",
     "text": [
      "<class 'pandas.core.frame.DataFrame'>\n",
      "RangeIndex: 575716 entries, 0 to 575715\n",
      "Data columns (total 8 columns):\n",
      " #   Column          Non-Null Count   Dtype  \n",
      "---  ------          --------------   -----  \n",
      " 0   Unnamed: 0      575716 non-null  int64  \n",
      " 1   name            575716 non-null  object \n",
      " 2   date            435396 non-null  object \n",
      " 3   recommendation  434891 non-null  object \n",
      " 4   review          574197 non-null  object \n",
      " 5   playing_hours   434891 non-null  float64\n",
      " 6   source          575716 non-null  object \n",
      " 7   stars           140825 non-null  float64\n",
      "dtypes: float64(2), int64(1), object(5)\n",
      "memory usage: 35.1+ MB\n"
     ]
    }
   ],
   "source": [
    "import pandas as pd\n",
    "import numpy as np\n",
    "import seaborn as sns\n",
    "import matplotlib.pyplot as plt\n",
    "\n",
    "df = pd.read_csv('../raw_data/concat.csv')\n",
    "\n",
    "df.info()"
   ]
  },
  {
   "cell_type": "code",
   "execution_count": 63,
   "id": "8ca579e3",
   "metadata": {},
   "outputs": [
    {
     "data": {
      "text/html": [
       "<div>\n",
       "<style scoped>\n",
       "    .dataframe tbody tr th:only-of-type {\n",
       "        vertical-align: middle;\n",
       "    }\n",
       "\n",
       "    .dataframe tbody tr th {\n",
       "        vertical-align: top;\n",
       "    }\n",
       "\n",
       "    .dataframe thead th {\n",
       "        text-align: right;\n",
       "    }\n",
       "</style>\n",
       "<table border=\"1\" class=\"dataframe\">\n",
       "  <thead>\n",
       "    <tr style=\"text-align: right;\">\n",
       "      <th></th>\n",
       "      <th>Unnamed: 0</th>\n",
       "      <th>name</th>\n",
       "      <th>date</th>\n",
       "      <th>recommendation</th>\n",
       "      <th>review</th>\n",
       "      <th>playing_hours</th>\n",
       "      <th>source</th>\n",
       "      <th>stars</th>\n",
       "    </tr>\n",
       "  </thead>\n",
       "  <tbody>\n",
       "    <tr>\n",
       "      <th>0</th>\n",
       "      <td>0</td>\n",
       "      <td>Expansion - Hearts of Iron IV: Man the Guns</td>\n",
       "      <td>2019-02-10</td>\n",
       "      <td>Recommended</td>\n",
       "      <td>&amp;gt Played as German Reich&amp;gt Declare war on B...</td>\n",
       "      <td>578.0</td>\n",
       "      <td>steam</td>\n",
       "      <td>NaN</td>\n",
       "    </tr>\n",
       "    <tr>\n",
       "      <th>1</th>\n",
       "      <td>1</td>\n",
       "      <td>Expansion - Hearts of Iron IV: Man the Guns</td>\n",
       "      <td>2019-02-10</td>\n",
       "      <td>Recommended</td>\n",
       "      <td>yes.</td>\n",
       "      <td>184.0</td>\n",
       "      <td>steam</td>\n",
       "      <td>NaN</td>\n",
       "    </tr>\n",
       "    <tr>\n",
       "      <th>2</th>\n",
       "      <td>2</td>\n",
       "      <td>Expansion - Hearts of Iron IV: Man the Guns</td>\n",
       "      <td>2019-02-07</td>\n",
       "      <td>Recommended</td>\n",
       "      <td>Very good game although a bit overpriced in my...</td>\n",
       "      <td>892.0</td>\n",
       "      <td>steam</td>\n",
       "      <td>NaN</td>\n",
       "    </tr>\n",
       "    <tr>\n",
       "      <th>3</th>\n",
       "      <td>3</td>\n",
       "      <td>Dead by Daylight</td>\n",
       "      <td>2018-06-14</td>\n",
       "      <td>Recommended</td>\n",
       "      <td>Out of all the reviews I wrote This one is pro...</td>\n",
       "      <td>676.0</td>\n",
       "      <td>steam</td>\n",
       "      <td>NaN</td>\n",
       "    </tr>\n",
       "    <tr>\n",
       "      <th>4</th>\n",
       "      <td>4</td>\n",
       "      <td>Dead by Daylight</td>\n",
       "      <td>2017-06-20</td>\n",
       "      <td>Recommended</td>\n",
       "      <td>Disclaimer I survivor main. I play games for f...</td>\n",
       "      <td>612.0</td>\n",
       "      <td>steam</td>\n",
       "      <td>NaN</td>\n",
       "    </tr>\n",
       "  </tbody>\n",
       "</table>\n",
       "</div>"
      ],
      "text/plain": [
       "   Unnamed: 0                                         name        date  \\\n",
       "0           0  Expansion - Hearts of Iron IV: Man the Guns  2019-02-10   \n",
       "1           1  Expansion - Hearts of Iron IV: Man the Guns  2019-02-10   \n",
       "2           2  Expansion - Hearts of Iron IV: Man the Guns  2019-02-07   \n",
       "3           3                             Dead by Daylight  2018-06-14   \n",
       "4           4                             Dead by Daylight  2017-06-20   \n",
       "\n",
       "  recommendation                                             review  \\\n",
       "0    Recommended  &gt Played as German Reich&gt Declare war on B...   \n",
       "1    Recommended                                               yes.   \n",
       "2    Recommended  Very good game although a bit overpriced in my...   \n",
       "3    Recommended  Out of all the reviews I wrote This one is pro...   \n",
       "4    Recommended  Disclaimer I survivor main. I play games for f...   \n",
       "\n",
       "   playing_hours source  stars  \n",
       "0          578.0  steam    NaN  \n",
       "1          184.0  steam    NaN  \n",
       "2          892.0  steam    NaN  \n",
       "3          676.0  steam    NaN  \n",
       "4          612.0  steam    NaN  "
      ]
     },
     "execution_count": 63,
     "metadata": {},
     "output_type": "execute_result"
    }
   ],
   "source": [
    "df = df[df['review'].notnull()]\n",
    "\n",
    "df.head()"
   ]
  },
  {
   "cell_type": "code",
   "execution_count": 64,
   "id": "5d808e12",
   "metadata": {},
   "outputs": [
    {
     "data": {
      "text/plain": [
       "5.0    106924\n",
       "4.0     22460\n",
       "3.0      5923\n",
       "1.0      2961\n",
       "2.0      2554\n",
       "Name: stars, dtype: int64"
      ]
     },
     "execution_count": 64,
     "metadata": {},
     "output_type": "execute_result"
    }
   ],
   "source": [
    "dfstars = df[df['source'] != 'steam'] \n",
    "dfstars['stars'].value_counts()"
   ]
  },
  {
   "cell_type": "code",
   "execution_count": 65,
   "id": "81310e12",
   "metadata": {},
   "outputs": [
    {
     "data": {
      "text/html": [
       "<div>\n",
       "<style scoped>\n",
       "    .dataframe tbody tr th:only-of-type {\n",
       "        vertical-align: middle;\n",
       "    }\n",
       "\n",
       "    .dataframe tbody tr th {\n",
       "        vertical-align: top;\n",
       "    }\n",
       "\n",
       "    .dataframe thead th {\n",
       "        text-align: right;\n",
       "    }\n",
       "</style>\n",
       "<table border=\"1\" class=\"dataframe\">\n",
       "  <thead>\n",
       "    <tr style=\"text-align: right;\">\n",
       "      <th></th>\n",
       "      <th>Unnamed: 0</th>\n",
       "      <th>name</th>\n",
       "      <th>date</th>\n",
       "      <th>recommendation</th>\n",
       "      <th>review</th>\n",
       "      <th>playing_hours</th>\n",
       "      <th>source</th>\n",
       "      <th>stars</th>\n",
       "    </tr>\n",
       "  </thead>\n",
       "  <tbody>\n",
       "    <tr>\n",
       "      <th>435401</th>\n",
       "      <td>5</td>\n",
       "      <td>2-speed-it</td>\n",
       "      <td>NaN</td>\n",
       "      <td>NaN</td>\n",
       "      <td>I was disappointed because the name is mislead...</td>\n",
       "      <td>NaN</td>\n",
       "      <td>coursera</td>\n",
       "      <td>3.0</td>\n",
       "    </tr>\n",
       "    <tr>\n",
       "      <th>435408</th>\n",
       "      <td>12</td>\n",
       "      <td>2-speed-it</td>\n",
       "      <td>NaN</td>\n",
       "      <td>NaN</td>\n",
       "      <td>Good content, but the course setting does (at ...</td>\n",
       "      <td>NaN</td>\n",
       "      <td>coursera</td>\n",
       "      <td>3.0</td>\n",
       "    </tr>\n",
       "    <tr>\n",
       "      <th>435416</th>\n",
       "      <td>20</td>\n",
       "      <td>2-speed-it</td>\n",
       "      <td>NaN</td>\n",
       "      <td>NaN</td>\n",
       "      <td>The course content is quite good, though it co...</td>\n",
       "      <td>NaN</td>\n",
       "      <td>coursera</td>\n",
       "      <td>3.0</td>\n",
       "    </tr>\n",
       "    <tr>\n",
       "      <th>435489</th>\n",
       "      <td>93</td>\n",
       "      <td>3d-printing-applications</td>\n",
       "      <td>NaN</td>\n",
       "      <td>NaN</td>\n",
       "      <td>I'll start by saying that this course gives a ...</td>\n",
       "      <td>NaN</td>\n",
       "      <td>coursera</td>\n",
       "      <td>3.0</td>\n",
       "    </tr>\n",
       "    <tr>\n",
       "      <th>435493</th>\n",
       "      <td>97</td>\n",
       "      <td>3d-printing-applications</td>\n",
       "      <td>NaN</td>\n",
       "      <td>NaN</td>\n",
       "      <td>It should be merged with course 1</td>\n",
       "      <td>NaN</td>\n",
       "      <td>coursera</td>\n",
       "      <td>3.0</td>\n",
       "    </tr>\n",
       "    <tr>\n",
       "      <th>435502</th>\n",
       "      <td>106</td>\n",
       "      <td>3d-printing-applications</td>\n",
       "      <td>NaN</td>\n",
       "      <td>NaN</td>\n",
       "      <td>Full Individuals speaking</td>\n",
       "      <td>NaN</td>\n",
       "      <td>coursera</td>\n",
       "      <td>3.0</td>\n",
       "    </tr>\n",
       "    <tr>\n",
       "      <th>435503</th>\n",
       "      <td>107</td>\n",
       "      <td>3d-printing-applications</td>\n",
       "      <td>NaN</td>\n",
       "      <td>NaN</td>\n",
       "      <td>It should be less repetitive and full of usefu...</td>\n",
       "      <td>NaN</td>\n",
       "      <td>coursera</td>\n",
       "      <td>3.0</td>\n",
       "    </tr>\n",
       "    <tr>\n",
       "      <th>435506</th>\n",
       "      <td>110</td>\n",
       "      <td>3d-printing-applications</td>\n",
       "      <td>NaN</td>\n",
       "      <td>NaN</td>\n",
       "      <td>it could be easily compressed in a two-weeks c...</td>\n",
       "      <td>NaN</td>\n",
       "      <td>coursera</td>\n",
       "      <td>3.0</td>\n",
       "    </tr>\n",
       "    <tr>\n",
       "      <th>435507</th>\n",
       "      <td>111</td>\n",
       "      <td>3d-printing-applications</td>\n",
       "      <td>NaN</td>\n",
       "      <td>NaN</td>\n",
       "      <td>good introduction into the applications of 3D ...</td>\n",
       "      <td>NaN</td>\n",
       "      <td>coursera</td>\n",
       "      <td>3.0</td>\n",
       "    </tr>\n",
       "    <tr>\n",
       "      <th>435509</th>\n",
       "      <td>113</td>\n",
       "      <td>3d-printing-applications</td>\n",
       "      <td>NaN</td>\n",
       "      <td>NaN</td>\n",
       "      <td>This session was too long and a little boring....</td>\n",
       "      <td>NaN</td>\n",
       "      <td>coursera</td>\n",
       "      <td>3.0</td>\n",
       "    </tr>\n",
       "    <tr>\n",
       "      <th>435556</th>\n",
       "      <td>160</td>\n",
       "      <td>3d-printing-revolution</td>\n",
       "      <td>NaN</td>\n",
       "      <td>NaN</td>\n",
       "      <td>Not according what I expected</td>\n",
       "      <td>NaN</td>\n",
       "      <td>coursera</td>\n",
       "      <td>3.0</td>\n",
       "    </tr>\n",
       "    <tr>\n",
       "      <th>435593</th>\n",
       "      <td>197</td>\n",
       "      <td>3d-printing-revolution</td>\n",
       "      <td>NaN</td>\n",
       "      <td>NaN</td>\n",
       "      <td>good introduction to 3D printing</td>\n",
       "      <td>NaN</td>\n",
       "      <td>coursera</td>\n",
       "      <td>3.0</td>\n",
       "    </tr>\n",
       "    <tr>\n",
       "      <th>435633</th>\n",
       "      <td>237</td>\n",
       "      <td>3d-printing-revolution</td>\n",
       "      <td>NaN</td>\n",
       "      <td>NaN</td>\n",
       "      <td>Good information but way too short for what Co...</td>\n",
       "      <td>NaN</td>\n",
       "      <td>coursera</td>\n",
       "      <td>3.0</td>\n",
       "    </tr>\n",
       "    <tr>\n",
       "      <th>435647</th>\n",
       "      <td>251</td>\n",
       "      <td>3d-printing-software</td>\n",
       "      <td>NaN</td>\n",
       "      <td>NaN</td>\n",
       "      <td>This particular module (week 3) is written for...</td>\n",
       "      <td>NaN</td>\n",
       "      <td>coursera</td>\n",
       "      <td>3.0</td>\n",
       "    </tr>\n",
       "    <tr>\n",
       "      <th>435651</th>\n",
       "      <td>255</td>\n",
       "      <td>3d-printing-software</td>\n",
       "      <td>NaN</td>\n",
       "      <td>NaN</td>\n",
       "      <td>The instructor does an excellent job, but real...</td>\n",
       "      <td>NaN</td>\n",
       "      <td>coursera</td>\n",
       "      <td>3.0</td>\n",
       "    </tr>\n",
       "    <tr>\n",
       "      <th>435668</th>\n",
       "      <td>272</td>\n",
       "      <td>a-programar</td>\n",
       "      <td>NaN</td>\n",
       "      <td>NaN</td>\n",
       "      <td>esta bien</td>\n",
       "      <td>NaN</td>\n",
       "      <td>coursera</td>\n",
       "      <td>3.0</td>\n",
       "    </tr>\n",
       "    <tr>\n",
       "      <th>435766</th>\n",
       "      <td>370</td>\n",
       "      <td>a-programar</td>\n",
       "      <td>NaN</td>\n",
       "      <td>NaN</td>\n",
       "      <td>Sería bueno un módulo en donde enseñen a aplic...</td>\n",
       "      <td>NaN</td>\n",
       "      <td>coursera</td>\n",
       "      <td>3.0</td>\n",
       "    </tr>\n",
       "    <tr>\n",
       "      <th>435798</th>\n",
       "      <td>402</td>\n",
       "      <td>a-programar</td>\n",
       "      <td>NaN</td>\n",
       "      <td>NaN</td>\n",
       "      <td>Es muy sencillo si ya tienes experiencia progr...</td>\n",
       "      <td>NaN</td>\n",
       "      <td>coursera</td>\n",
       "      <td>3.0</td>\n",
       "    </tr>\n",
       "    <tr>\n",
       "      <th>435840</th>\n",
       "      <td>444</td>\n",
       "      <td>a-programar</td>\n",
       "      <td>NaN</td>\n",
       "      <td>NaN</td>\n",
       "      <td>basico, pero util</td>\n",
       "      <td>NaN</td>\n",
       "      <td>coursera</td>\n",
       "      <td>3.0</td>\n",
       "    </tr>\n",
       "    <tr>\n",
       "      <th>435913</th>\n",
       "      <td>517</td>\n",
       "      <td>a-programar</td>\n",
       "      <td>NaN</td>\n",
       "      <td>NaN</td>\n",
       "      <td>Muy interesante para iniciarse en la programac...</td>\n",
       "      <td>NaN</td>\n",
       "      <td>coursera</td>\n",
       "      <td>3.0</td>\n",
       "    </tr>\n",
       "  </tbody>\n",
       "</table>\n",
       "</div>"
      ],
      "text/plain": [
       "        Unnamed: 0                      name date recommendation  \\\n",
       "435401           5                2-speed-it  NaN            NaN   \n",
       "435408          12                2-speed-it  NaN            NaN   \n",
       "435416          20                2-speed-it  NaN            NaN   \n",
       "435489          93  3d-printing-applications  NaN            NaN   \n",
       "435493          97  3d-printing-applications  NaN            NaN   \n",
       "435502         106  3d-printing-applications  NaN            NaN   \n",
       "435503         107  3d-printing-applications  NaN            NaN   \n",
       "435506         110  3d-printing-applications  NaN            NaN   \n",
       "435507         111  3d-printing-applications  NaN            NaN   \n",
       "435509         113  3d-printing-applications  NaN            NaN   \n",
       "435556         160    3d-printing-revolution  NaN            NaN   \n",
       "435593         197    3d-printing-revolution  NaN            NaN   \n",
       "435633         237    3d-printing-revolution  NaN            NaN   \n",
       "435647         251      3d-printing-software  NaN            NaN   \n",
       "435651         255      3d-printing-software  NaN            NaN   \n",
       "435668         272               a-programar  NaN            NaN   \n",
       "435766         370               a-programar  NaN            NaN   \n",
       "435798         402               a-programar  NaN            NaN   \n",
       "435840         444               a-programar  NaN            NaN   \n",
       "435913         517               a-programar  NaN            NaN   \n",
       "\n",
       "                                                   review  playing_hours  \\\n",
       "435401  I was disappointed because the name is mislead...            NaN   \n",
       "435408  Good content, but the course setting does (at ...            NaN   \n",
       "435416  The course content is quite good, though it co...            NaN   \n",
       "435489  I'll start by saying that this course gives a ...            NaN   \n",
       "435493                  It should be merged with course 1            NaN   \n",
       "435502                          Full Individuals speaking            NaN   \n",
       "435503  It should be less repetitive and full of usefu...            NaN   \n",
       "435506  it could be easily compressed in a two-weeks c...            NaN   \n",
       "435507  good introduction into the applications of 3D ...            NaN   \n",
       "435509  This session was too long and a little boring....            NaN   \n",
       "435556                      Not according what I expected            NaN   \n",
       "435593                   good introduction to 3D printing            NaN   \n",
       "435633  Good information but way too short for what Co...            NaN   \n",
       "435647  This particular module (week 3) is written for...            NaN   \n",
       "435651  The instructor does an excellent job, but real...            NaN   \n",
       "435668                                          esta bien            NaN   \n",
       "435766  Sería bueno un módulo en donde enseñen a aplic...            NaN   \n",
       "435798  Es muy sencillo si ya tienes experiencia progr...            NaN   \n",
       "435840                                  basico, pero util            NaN   \n",
       "435913  Muy interesante para iniciarse en la programac...            NaN   \n",
       "\n",
       "          source  stars  \n",
       "435401  coursera    3.0  \n",
       "435408  coursera    3.0  \n",
       "435416  coursera    3.0  \n",
       "435489  coursera    3.0  \n",
       "435493  coursera    3.0  \n",
       "435502  coursera    3.0  \n",
       "435503  coursera    3.0  \n",
       "435506  coursera    3.0  \n",
       "435507  coursera    3.0  \n",
       "435509  coursera    3.0  \n",
       "435556  coursera    3.0  \n",
       "435593  coursera    3.0  \n",
       "435633  coursera    3.0  \n",
       "435647  coursera    3.0  \n",
       "435651  coursera    3.0  \n",
       "435668  coursera    3.0  \n",
       "435766  coursera    3.0  \n",
       "435798  coursera    3.0  \n",
       "435840  coursera    3.0  \n",
       "435913  coursera    3.0  "
      ]
     },
     "execution_count": 65,
     "metadata": {},
     "output_type": "execute_result"
    }
   ],
   "source": [
    "df3 = dfstars[dfstars['stars']==3]\n",
    "df3.head(20)"
   ]
  },
  {
   "cell_type": "code",
   "execution_count": 66,
   "id": "c64f4222",
   "metadata": {},
   "outputs": [],
   "source": [
    "df_dumb = df[df['source'] != 'steam'] \n",
    "             \n",
    "# df_dumb = df_dumb[df_dumb['stars'] != 3]\n",
    "\n",
    "#here we are filtering the data base to only have sources whihc are not steam until stream has non english removed\n",
    "#& we are removing 3 stars as they are hard tp convent to binary CANCEL"
   ]
  },
  {
   "cell_type": "code",
   "execution_count": 67,
   "id": "fd0bebdd",
   "metadata": {},
   "outputs": [
    {
     "name": "stdout",
     "output_type": "stream",
     "text": [
      "<class 'pandas.core.frame.DataFrame'>\n",
      "Int64Index: 140822 entries, 434891 to 575715\n",
      "Data columns (total 8 columns):\n",
      " #   Column          Non-Null Count   Dtype  \n",
      "---  ------          --------------   -----  \n",
      " 0   Unnamed: 0      140822 non-null  int64  \n",
      " 1   name            140822 non-null  object \n",
      " 2   date            505 non-null     object \n",
      " 3   recommendation  0 non-null       object \n",
      " 4   review          140822 non-null  object \n",
      " 5   playing_hours   0 non-null       float64\n",
      " 6   source          140822 non-null  object \n",
      " 7   stars           140822 non-null  float64\n",
      "dtypes: float64(2), int64(1), object(5)\n",
      "memory usage: 9.7+ MB\n"
     ]
    }
   ],
   "source": [
    "df_dumb.info()"
   ]
  },
  {
   "cell_type": "code",
   "execution_count": 68,
   "id": "e82feacc",
   "metadata": {},
   "outputs": [
    {
     "name": "stderr",
     "output_type": "stream",
     "text": [
      "/tmp/ipykernel_3196/302876873.py:1: SettingWithCopyWarning: \n",
      "A value is trying to be set on a copy of a slice from a DataFrame.\n",
      "Try using .loc[row_indexer,col_indexer] = value instead\n",
      "\n",
      "See the caveats in the documentation: https://pandas.pydata.org/pandas-docs/stable/user_guide/indexing.html#returning-a-view-versus-a-copy\n",
      "  df_dumb['recommendation'] = df_dumb['stars'].apply(lambda row:1 if row > 3 else 0)\n"
     ]
    }
   ],
   "source": [
    "df_dumb['recommendation'] = df_dumb['stars'].apply(lambda row:1 if row > 3 else 0)\n",
    "\n",
    "#1 is recommended\n",
    "#0 is not recommended\n",
    "#concatenate with steam / as steam cannot go through this filter"
   ]
  },
  {
   "cell_type": "code",
   "execution_count": 69,
   "id": "6de4efaf",
   "metadata": {},
   "outputs": [
    {
     "data": {
      "text/html": [
       "<div>\n",
       "<style scoped>\n",
       "    .dataframe tbody tr th:only-of-type {\n",
       "        vertical-align: middle;\n",
       "    }\n",
       "\n",
       "    .dataframe tbody tr th {\n",
       "        vertical-align: top;\n",
       "    }\n",
       "\n",
       "    .dataframe thead th {\n",
       "        text-align: right;\n",
       "    }\n",
       "</style>\n",
       "<table border=\"1\" class=\"dataframe\">\n",
       "  <thead>\n",
       "    <tr style=\"text-align: right;\">\n",
       "      <th></th>\n",
       "      <th>Unnamed: 0</th>\n",
       "      <th>name</th>\n",
       "      <th>date</th>\n",
       "      <th>recommendation</th>\n",
       "      <th>review</th>\n",
       "      <th>playing_hours</th>\n",
       "      <th>source</th>\n",
       "      <th>stars</th>\n",
       "    </tr>\n",
       "  </thead>\n",
       "  <tbody>\n",
       "    <tr>\n",
       "      <th>434891</th>\n",
       "      <td>0</td>\n",
       "      <td>Wyndham Capital Mortgage</td>\n",
       "      <td>10-04-2017</td>\n",
       "      <td>1</td>\n",
       "      <td>Great job, Wyndham Capital! Each person was pr...</td>\n",
       "      <td>NaN</td>\n",
       "      <td>bank</td>\n",
       "      <td>5.0</td>\n",
       "    </tr>\n",
       "    <tr>\n",
       "      <th>434892</th>\n",
       "      <td>1</td>\n",
       "      <td>Wyndham Capital Mortgage</td>\n",
       "      <td>10-02-2017</td>\n",
       "      <td>1</td>\n",
       "      <td>Matthew Richardson is professional and helpful...</td>\n",
       "      <td>NaN</td>\n",
       "      <td>bank</td>\n",
       "      <td>5.0</td>\n",
       "    </tr>\n",
       "    <tr>\n",
       "      <th>434893</th>\n",
       "      <td>2</td>\n",
       "      <td>Wyndham Capital Mortgage</td>\n",
       "      <td>21-08-2017</td>\n",
       "      <td>1</td>\n",
       "      <td>We had a past experience with Wyndham Mortgage...</td>\n",
       "      <td>NaN</td>\n",
       "      <td>bank</td>\n",
       "      <td>5.0</td>\n",
       "    </tr>\n",
       "    <tr>\n",
       "      <th>434894</th>\n",
       "      <td>3</td>\n",
       "      <td>Wyndham Capital Mortgage</td>\n",
       "      <td>17-12-2017</td>\n",
       "      <td>1</td>\n",
       "      <td>We have been dealing with Brad Thomka from the...</td>\n",
       "      <td>NaN</td>\n",
       "      <td>bank</td>\n",
       "      <td>5.0</td>\n",
       "    </tr>\n",
       "    <tr>\n",
       "      <th>434895</th>\n",
       "      <td>4</td>\n",
       "      <td>Wyndham Capital Mortgage</td>\n",
       "      <td>27-05-2016</td>\n",
       "      <td>1</td>\n",
       "      <td>I can't express how grateful I am for the supp...</td>\n",
       "      <td>NaN</td>\n",
       "      <td>bank</td>\n",
       "      <td>5.0</td>\n",
       "    </tr>\n",
       "  </tbody>\n",
       "</table>\n",
       "</div>"
      ],
      "text/plain": [
       "        Unnamed: 0                      name        date  recommendation  \\\n",
       "434891           0  Wyndham Capital Mortgage  10-04-2017               1   \n",
       "434892           1  Wyndham Capital Mortgage  10-02-2017               1   \n",
       "434893           2  Wyndham Capital Mortgage  21-08-2017               1   \n",
       "434894           3  Wyndham Capital Mortgage  17-12-2017               1   \n",
       "434895           4  Wyndham Capital Mortgage  27-05-2016               1   \n",
       "\n",
       "                                                   review  playing_hours  \\\n",
       "434891  Great job, Wyndham Capital! Each person was pr...            NaN   \n",
       "434892  Matthew Richardson is professional and helpful...            NaN   \n",
       "434893  We had a past experience with Wyndham Mortgage...            NaN   \n",
       "434894  We have been dealing with Brad Thomka from the...            NaN   \n",
       "434895  I can't express how grateful I am for the supp...            NaN   \n",
       "\n",
       "       source  stars  \n",
       "434891   bank    5.0  \n",
       "434892   bank    5.0  \n",
       "434893   bank    5.0  \n",
       "434894   bank    5.0  \n",
       "434895   bank    5.0  "
      ]
     },
     "execution_count": 69,
     "metadata": {},
     "output_type": "execute_result"
    }
   ],
   "source": [
    "df_dumb.head()"
   ]
  },
  {
   "cell_type": "code",
   "execution_count": 70,
   "id": "09264655",
   "metadata": {},
   "outputs": [
    {
     "data": {
      "text/plain": [
       "(140822, 8)"
      ]
     },
     "execution_count": 70,
     "metadata": {},
     "output_type": "execute_result"
    }
   ],
   "source": [
    "df_dumb.shape"
   ]
  },
  {
   "cell_type": "code",
   "execution_count": 71,
   "id": "1ece9841",
   "metadata": {},
   "outputs": [
    {
     "data": {
      "text/plain": [
       "1    129384\n",
       "0     11438\n",
       "Name: recommendation, dtype: int64"
      ]
     },
     "execution_count": 71,
     "metadata": {},
     "output_type": "execute_result"
    }
   ],
   "source": [
    "df_dumb['recommendation'].value_counts()"
   ]
  },
  {
   "cell_type": "code",
   "execution_count": 72,
   "id": "fca7b0f9",
   "metadata": {},
   "outputs": [],
   "source": [
    "df_model = df_dumb[['recommendation','review']]"
   ]
  },
  {
   "cell_type": "code",
   "execution_count": 73,
   "id": "e7343690",
   "metadata": {},
   "outputs": [],
   "source": [
    "X = df_model[['review']]\n",
    "y = df_model['recommendation']\n",
    "X_train, X_test, y_train, y_test = train_test_split(\n",
    "X, y, test_size=0.20, random_state=42)"
   ]
  },
  {
   "cell_type": "code",
   "execution_count": 74,
   "id": "f134e5f7",
   "metadata": {},
   "outputs": [
    {
     "data": {
      "text/plain": [
       "recommendation     int64\n",
       "review            object\n",
       "dtype: object"
      ]
     },
     "execution_count": 74,
     "metadata": {},
     "output_type": "execute_result"
    }
   ],
   "source": [
    "df_model.dtypes"
   ]
  },
  {
   "cell_type": "code",
   "execution_count": 75,
   "id": "1e3a29cf",
   "metadata": {},
   "outputs": [
    {
     "ename": "SyntaxError",
     "evalue": "invalid syntax (11084182.py, line 1)",
     "output_type": "error",
     "traceback": [
      "\u001b[0;36m  Input \u001b[0;32mIn [75]\u001b[0;36m\u001b[0m\n\u001b[0;31m    df_model.\u001b[0m\n\u001b[0m             ^\u001b[0m\n\u001b[0;31mSyntaxError\u001b[0m\u001b[0;31m:\u001b[0m invalid syntax\n"
     ]
    }
   ],
   "source": [
    "df_model."
   ]
  },
  {
   "cell_type": "code",
   "execution_count": 76,
   "id": "b17f27da",
   "metadata": {},
   "outputs": [],
   "source": [
    "\n",
    "\n",
    "def remove_punctuations(text):\n",
    "    punctuations = string.punctuation\n",
    "    for punctuation in punctuations:\n",
    "        text = text.replace(punctuation, '')\n",
    "    return text\n",
    "\n",
    "def lowercase(text):\n",
    "    text = text.lower()\n",
    "    return text\n",
    "\n",
    "def remove_num(text):\n",
    "    text = ''.join(word for word in text if not word.isdigit())\n",
    "    return text\n",
    "\n",
    "\n",
    "# nlp = spacy.load(\"en_core_web_sm\")\n",
    "# def lemmatize(text):\n",
    "#     text = ' '.join(token.lemma_ for token in nlp(text))\n",
    "#     return text\n",
    "\n",
    "def lemmatize(text):\n",
    "    lemmatizer = WordNetLemmatizer()\n",
    "    word_tokens = word_tokenize(text) \n",
    "    lemmatized = [lemmatizer.lemmatize(word) for word in word_tokens]\n",
    "\n",
    "    return ' '.join(lemmatized)\n",
    "\n",
    "def remove_stopwords(text):\n",
    "    stop_words = set(stopwords.words('english'))\n",
    "    word_tokens = word_tokenize(text)\n",
    "    word_tokens = [word for word in word_tokens if not word in stop_words]\n",
    "    return ' '.join(word_tokens)"
   ]
  },
  {
   "cell_type": "code",
   "execution_count": 79,
   "id": "01c5b37a",
   "metadata": {
    "scrolled": false
   },
   "outputs": [
    {
     "name": "stderr",
     "output_type": "stream",
     "text": [
      "/tmp/ipykernel_3196/1222423747.py:1: SettingWithCopyWarning: \n",
      "A value is trying to be set on a copy of a slice from a DataFrame.\n",
      "Try using .loc[row_indexer,col_indexer] = value instead\n",
      "\n",
      "See the caveats in the documentation: https://pandas.pydata.org/pandas-docs/stable/user_guide/indexing.html#returning-a-view-versus-a-copy\n",
      "  df_model['review'] = df_model['review'].apply(remove_punctuations).apply(lowercase).apply(remove_num).apply(remove_stopwords)\n"
     ]
    }
   ],
   "source": [
    "df_model['review'] = df_model['review'].apply(remove_punctuations).apply(lowercase).apply(remove_num).apply(remove_stopwords)\n",
    "# need to add lemmatizer not working"
   ]
  },
  {
   "cell_type": "code",
   "execution_count": 96,
   "id": "172e4e75",
   "metadata": {},
   "outputs": [
    {
     "name": "stderr",
     "output_type": "stream",
     "text": [
      "/tmp/ipykernel_3196/2982901621.py:1: SettingWithCopyWarning: \n",
      "A value is trying to be set on a copy of a slice from a DataFrame.\n",
      "Try using .loc[row_indexer,col_indexer] = value instead\n",
      "\n",
      "See the caveats in the documentation: https://pandas.pydata.org/pandas-docs/stable/user_guide/indexing.html#returning-a-view-versus-a-copy\n",
      "  df_model['review'] = df_model['review'].apply(lemmatize)\n"
     ]
    }
   ],
   "source": [
    "df_model['review'] = df_model['review'].apply(lemmatize)"
   ]
  },
  {
   "cell_type": "code",
   "execution_count": 97,
   "id": "33ce5cfc",
   "metadata": {},
   "outputs": [
    {
     "name": "stdout",
     "output_type": "stream",
     "text": [
      "great job wyndham capital person professional helped u move refinance process smoothly thank\n",
      "matthew richardson professional helpful helped u find correct product mortgage thank much excellent service matthew\n"
     ]
    }
   ],
   "source": [
    "for i in range(2):\n",
    "    print (df_model['review'].iloc[i]) "
   ]
  },
  {
   "cell_type": "code",
   "execution_count": 98,
   "id": "478809a5",
   "metadata": {},
   "outputs": [
    {
     "data": {
      "text/html": [
       "<div>\n",
       "<style scoped>\n",
       "    .dataframe tbody tr th:only-of-type {\n",
       "        vertical-align: middle;\n",
       "    }\n",
       "\n",
       "    .dataframe tbody tr th {\n",
       "        vertical-align: top;\n",
       "    }\n",
       "\n",
       "    .dataframe thead th {\n",
       "        text-align: right;\n",
       "    }\n",
       "</style>\n",
       "<table border=\"1\" class=\"dataframe\">\n",
       "  <thead>\n",
       "    <tr style=\"text-align: right;\">\n",
       "      <th></th>\n",
       "      <th>recommendation</th>\n",
       "      <th>review</th>\n",
       "    </tr>\n",
       "  </thead>\n",
       "  <tbody>\n",
       "    <tr>\n",
       "      <th>434891</th>\n",
       "      <td>1</td>\n",
       "      <td>great job wyndham capital person professional ...</td>\n",
       "    </tr>\n",
       "    <tr>\n",
       "      <th>434892</th>\n",
       "      <td>1</td>\n",
       "      <td>matthew richardson professional helpful helped...</td>\n",
       "    </tr>\n",
       "    <tr>\n",
       "      <th>434893</th>\n",
       "      <td>1</td>\n",
       "      <td>past experience wyndham mortgage would without...</td>\n",
       "    </tr>\n",
       "    <tr>\n",
       "      <th>434894</th>\n",
       "      <td>1</td>\n",
       "      <td>dealing brad thomka beginning started stressfu...</td>\n",
       "    </tr>\n",
       "    <tr>\n",
       "      <th>434895</th>\n",
       "      <td>1</td>\n",
       "      <td>cant express grateful support zach provided fa...</td>\n",
       "    </tr>\n",
       "  </tbody>\n",
       "</table>\n",
       "</div>"
      ],
      "text/plain": [
       "        recommendation                                             review\n",
       "434891               1  great job wyndham capital person professional ...\n",
       "434892               1  matthew richardson professional helpful helped...\n",
       "434893               1  past experience wyndham mortgage would without...\n",
       "434894               1  dealing brad thomka beginning started stressfu...\n",
       "434895               1  cant express grateful support zach provided fa..."
      ]
     },
     "execution_count": 98,
     "metadata": {},
     "output_type": "execute_result"
    }
   ],
   "source": [
    "df_model.head()"
   ]
  },
  {
   "cell_type": "code",
   "execution_count": 105,
   "id": "bac64345",
   "metadata": {},
   "outputs": [],
   "source": [
    "X = df_model['review']\n",
    "y = df_model['recommendation']\n",
    "X_train, X_test, y_train, y_test = train_test_split(\n",
    "X, y, test_size=0.20, random_state=42)"
   ]
  },
  {
   "cell_type": "code",
   "execution_count": 110,
   "id": "b5f0253d",
   "metadata": {},
   "outputs": [],
   "source": [
    "vectorizer = CountVectorizer()\n",
    "\n",
    "X1_train = vectorizer.fit_transform(X_train)\n",
    "\n",
    "\n",
    "y1 = y_train\n",
    "\n",
    "nb_model = MultinomialNB()\n",
    "\n",
    "cv_results = cross_validate(\n",
    "    nb_model,\n",
    "    X1_train,\n",
    "    y1,\n",
    "    scoring = ['f1','accuracy','recall', 'precision'],\n",
    "    cv = 5)\n",
    "\n",
    "\n",
    "from sklearn.feature_extraction.text import TfidfVectorizer\n",
    "\n",
    "tf_idf_vectorizer = TfidfVectorizer(ngram_range = (2,2))\n",
    "\n",
    "X2_train = tf_idf_vectorizer.fit_transform(X_train)\n",
    "\n",
    "nb_model2 = MultinomialNB()\n",
    "\n",
    "cv_results2 = cross_validate(\n",
    "    nb_model2,\n",
    "    X2_train,\n",
    "    y1,\n",
    "    scoring = ['f1','accuracy','recall', 'precision'],\n",
    "    cv = 5)\n",
    "\n",
    "\n",
    "# print(f\" Model1: {cv_results['test_score'].mean()} Model2: {cv_results2['test_score'].mean()}\")"
   ]
  },
  {
   "cell_type": "code",
   "execution_count": 111,
   "id": "32940015",
   "metadata": {},
   "outputs": [
    {
     "data": {
      "text/plain": [
       "{'fit_time': array([0.03483939, 0.02989459, 0.04559517, 0.0380218 , 0.03375268]),\n",
       " 'score_time': array([0.03998685, 0.02942443, 0.03272009, 0.03753424, 0.03686452]),\n",
       " 'test_f1': array([0.95704052, 0.95682798, 0.95620752, 0.95709192, 0.95653423]),\n",
       " 'test_accuracy': array([0.92042429, 0.92002485, 0.91877857, 0.92042075, 0.91939994]),\n",
       " 'test_recall': array([0.96450476, 0.96440645, 0.9648894 , 0.96575872, 0.96503429]),\n",
       " 'test_precision': array([0.94969092, 0.94936769, 0.94768049, 0.94857929, 0.94818259])}"
      ]
     },
     "execution_count": 111,
     "metadata": {},
     "output_type": "execute_result"
    }
   ],
   "source": [
    "cv_results"
   ]
  },
  {
   "cell_type": "code",
   "execution_count": 112,
   "id": "594cbe87",
   "metadata": {},
   "outputs": [
    {
     "data": {
      "text/plain": [
       "{'fit_time': array([0.07916737, 0.06989098, 0.07408786, 0.08148932, 0.10857749]),\n",
       " 'score_time': array([0.04780149, 0.0498476 , 0.04031682, 0.03746414, 0.07737947]),\n",
       " 'test_f1': array([0.95803257, 0.9578755 , 0.95784944, 0.95787355, 0.95782924]),\n",
       " 'test_accuracy': array([0.91949228, 0.91918161, 0.91913364, 0.91917802, 0.91908925]),\n",
       " 'test_recall': array([0.99990341, 0.99990341, 0.99980682, 0.99985511, 0.99985511]),\n",
       " 'test_precision': array([0.91952747, 0.91923811, 0.91927176, 0.91927534, 0.91919371])}"
      ]
     },
     "execution_count": 112,
     "metadata": {},
     "output_type": "execute_result"
    }
   ],
   "source": [
    "cv_results2"
   ]
  },
  {
   "cell_type": "code",
   "execution_count": 114,
   "id": "d1531cd9",
   "metadata": {},
   "outputs": [],
   "source": [
    "df_test = pd.DataFrame()\n",
    "df_test['review'] = X_test\n",
    "df_test['recommended']=y_test"
   ]
  },
  {
   "cell_type": "code",
   "execution_count": 115,
   "id": "d28fd2cc",
   "metadata": {},
   "outputs": [
    {
     "data": {
      "text/html": [
       "<div>\n",
       "<style scoped>\n",
       "    .dataframe tbody tr th:only-of-type {\n",
       "        vertical-align: middle;\n",
       "    }\n",
       "\n",
       "    .dataframe tbody tr th {\n",
       "        vertical-align: top;\n",
       "    }\n",
       "\n",
       "    .dataframe thead th {\n",
       "        text-align: right;\n",
       "    }\n",
       "</style>\n",
       "<table border=\"1\" class=\"dataframe\">\n",
       "  <thead>\n",
       "    <tr style=\"text-align: right;\">\n",
       "      <th></th>\n",
       "      <th>review</th>\n",
       "      <th>recommended</th>\n",
       "    </tr>\n",
       "  </thead>\n",
       "  <tbody>\n",
       "    <tr>\n",
       "      <th>500853</th>\n",
       "      <td>excellent course beginner must programming mat...</td>\n",
       "      <td>1</td>\n",
       "    </tr>\n",
       "    <tr>\n",
       "      <th>468986</th>\n",
       "      <td>awesome learn new thing</td>\n",
       "      <td>1</td>\n",
       "    </tr>\n",
       "    <tr>\n",
       "      <th>527721</th>\n",
       "      <td>great perspective multiple technique</td>\n",
       "      <td>1</td>\n",
       "    </tr>\n",
       "    <tr>\n",
       "      <th>551302</th>\n",
       "      <td>great teachergreat teaching methodologyinvalua...</td>\n",
       "      <td>1</td>\n",
       "    </tr>\n",
       "    <tr>\n",
       "      <th>529550</th>\n",
       "      <td>teacher explains well concept behind objective...</td>\n",
       "      <td>1</td>\n",
       "    </tr>\n",
       "  </tbody>\n",
       "</table>\n",
       "</div>"
      ],
      "text/plain": [
       "                                                   review  recommended\n",
       "500853  excellent course beginner must programming mat...            1\n",
       "468986                            awesome learn new thing            1\n",
       "527721               great perspective multiple technique            1\n",
       "551302  great teachergreat teaching methodologyinvalua...            1\n",
       "529550  teacher explains well concept behind objective...            1"
      ]
     },
     "execution_count": 115,
     "metadata": {},
     "output_type": "execute_result"
    }
   ],
   "source": [
    "df_test.head()"
   ]
  },
  {
   "cell_type": "code",
   "execution_count": null,
   "id": "33ab626b",
   "metadata": {},
   "outputs": [],
   "source": [
    "# You're looking for stratification. Why?\n",
    "\n",
    "# There's a parameter stratify in method train_test_split to which you can give the labels list e.g. :\n",
    "\n",
    "# from sklearn.model_selection import train_test_split\n",
    "# X_train, X_test, y_train, y_test = train_test_split(X, y,\n",
    "#                                                     stratify=y, \n",
    "#                                                     test_size=0.2)\n",
    "\n",
    "# Classification report might be what we want to understand how good/bad the model is at predicting the \n"
   ]
  }
 ],
 "metadata": {
  "kernelspec": {
   "display_name": "Python 3 (ipykernel)",
   "language": "python",
   "name": "python3"
  },
  "language_info": {
   "codemirror_mode": {
    "name": "ipython",
    "version": 3
   },
   "file_extension": ".py",
   "mimetype": "text/x-python",
   "name": "python",
   "nbconvert_exporter": "python",
   "pygments_lexer": "ipython3",
   "version": "3.8.6"
  },
  "toc": {
   "base_numbering": 1,
   "nav_menu": {},
   "number_sections": true,
   "sideBar": true,
   "skip_h1_title": false,
   "title_cell": "Table of Contents",
   "title_sidebar": "Contents",
   "toc_cell": false,
   "toc_position": {},
   "toc_section_display": true,
   "toc_window_display": false
  }
 },
 "nbformat": 4,
 "nbformat_minor": 5
}
