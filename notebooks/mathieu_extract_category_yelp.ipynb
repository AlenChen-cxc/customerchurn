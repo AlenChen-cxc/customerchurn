{
 "cells": [
  {
   "cell_type": "code",
   "execution_count": 1,
   "id": "e55ca026",
   "metadata": {},
   "outputs": [],
   "source": [
    "import pandas as pd\n",
    "import numpy as np\n",
    "import matplotlib.pyplot as plt"
   ]
  },
  {
   "cell_type": "code",
   "execution_count": 2,
   "id": "36cd6f34",
   "metadata": {},
   "outputs": [],
   "source": [
    "fname = 'yelp_review1'"
   ]
  },
  {
   "cell_type": "code",
   "execution_count": 3,
   "id": "80674971",
   "metadata": {},
   "outputs": [],
   "source": [
    "df = pd.read_csv(f'../raw_data/yelp/{fname}')"
   ]
  },
  {
   "cell_type": "code",
   "execution_count": 7,
   "id": "b8dc9573",
   "metadata": {},
   "outputs": [
    {
     "data": {
      "text/plain": [
       "Index(['Unnamed: 0.1', 'Unnamed: 0', 'star', 'useful', 'funny', 'cool',\n",
       "       'review', 'date', 'name', 'stars_avg', 'review_count', 'is_open',\n",
       "       'categories', 'is_Active Life', 'is_Arts & Entertainment',\n",
       "       'is_Automotive', 'is_Beauty & Spas', 'is_Education',\n",
       "       'is_Event Planning & Services', 'is_Financial Services', 'is_Food',\n",
       "       'is_Health & Medical', 'is_Home Services', 'is_Hotels & Travel',\n",
       "       'is_Local Flavor', 'is_Local Services', 'is_Mass Media', 'is_Nightlife',\n",
       "       'is_Pets', 'is_Professional Services',\n",
       "       'is_Public Services & Government', 'is_Real Estate',\n",
       "       'is_Religious Organizations', 'is_Restaurants', 'is_Shopping'],\n",
       "      dtype='object')"
      ]
     },
     "execution_count": 7,
     "metadata": {},
     "output_type": "execute_result"
    }
   ],
   "source": [
    "df.columns"
   ]
  },
  {
   "cell_type": "code",
   "execution_count": 35,
   "id": "bcb63047",
   "metadata": {},
   "outputs": [
    {
     "name": "stdout",
     "output_type": "stream",
     "text": [
      "2022-02-19 12:40:51.306443: W tensorflow/stream_executor/platform/default/dso_loader.cc:64] Could not load dynamic library 'libcudart.so.11.0'; dlerror: libcudart.so.11.0: cannot open shared object file: No such file or directory\n",
      "2022-02-19 12:40:51.306512: I tensorflow/stream_executor/cuda/cudart_stub.cc:29] Ignore above cudart dlerror if you do not have a GPU set up on your machine.\n",
      "Collecting en-core-web-sm==3.2.0\n",
      "  Downloading https://github.com/explosion/spacy-models/releases/download/en_core_web_sm-3.2.0/en_core_web_sm-3.2.0-py3-none-any.whl (13.9 MB)\n",
      "     |████████████████████████████████| 13.9 MB 5.9 MB/s            \n",
      "\u001b[?25hRequirement already satisfied: spacy<3.3.0,>=3.2.0 in /home/mathieu/.pyenv/versions/3.8.6/envs/customerchurn/lib/python3.8/site-packages (from en-core-web-sm==3.2.0) (3.2.1)\n",
      "Requirement already satisfied: packaging>=20.0 in /home/mathieu/.pyenv/versions/3.8.6/envs/customerchurn/lib/python3.8/site-packages (from spacy<3.3.0,>=3.2.0->en-core-web-sm==3.2.0) (21.3)\n",
      "Requirement already satisfied: murmurhash<1.1.0,>=0.28.0 in /home/mathieu/.pyenv/versions/3.8.6/envs/customerchurn/lib/python3.8/site-packages (from spacy<3.3.0,>=3.2.0->en-core-web-sm==3.2.0) (1.0.6)\n",
      "Requirement already satisfied: blis<0.8.0,>=0.4.0 in /home/mathieu/.pyenv/versions/3.8.6/envs/customerchurn/lib/python3.8/site-packages (from spacy<3.3.0,>=3.2.0->en-core-web-sm==3.2.0) (0.7.5)\n",
      "Requirement already satisfied: langcodes<4.0.0,>=3.2.0 in /home/mathieu/.pyenv/versions/3.8.6/envs/customerchurn/lib/python3.8/site-packages (from spacy<3.3.0,>=3.2.0->en-core-web-sm==3.2.0) (3.3.0)\n",
      "Requirement already satisfied: srsly<3.0.0,>=2.4.1 in /home/mathieu/.pyenv/versions/3.8.6/envs/customerchurn/lib/python3.8/site-packages (from spacy<3.3.0,>=3.2.0->en-core-web-sm==3.2.0) (2.4.2)\n",
      "Requirement already satisfied: typer<0.5.0,>=0.3.0 in /home/mathieu/.pyenv/versions/3.8.6/envs/customerchurn/lib/python3.8/site-packages (from spacy<3.3.0,>=3.2.0->en-core-web-sm==3.2.0) (0.4.0)\n",
      "Requirement already satisfied: thinc<8.1.0,>=8.0.12 in /home/mathieu/.pyenv/versions/3.8.6/envs/customerchurn/lib/python3.8/site-packages (from spacy<3.3.0,>=3.2.0->en-core-web-sm==3.2.0) (8.0.13)\n",
      "Requirement already satisfied: numpy>=1.15.0 in /home/mathieu/.pyenv/versions/3.8.6/envs/customerchurn/lib/python3.8/site-packages (from spacy<3.3.0,>=3.2.0->en-core-web-sm==3.2.0) (1.22.1)\n",
      "Requirement already satisfied: setuptools in /home/mathieu/.pyenv/versions/3.8.6/envs/customerchurn/lib/python3.8/site-packages (from spacy<3.3.0,>=3.2.0->en-core-web-sm==3.2.0) (49.2.1)\n",
      "Requirement already satisfied: wasabi<1.1.0,>=0.8.1 in /home/mathieu/.pyenv/versions/3.8.6/envs/customerchurn/lib/python3.8/site-packages (from spacy<3.3.0,>=3.2.0->en-core-web-sm==3.2.0) (0.9.0)\n",
      "Requirement already satisfied: requests<3.0.0,>=2.13.0 in /home/mathieu/.pyenv/versions/3.8.6/envs/customerchurn/lib/python3.8/site-packages (from spacy<3.3.0,>=3.2.0->en-core-web-sm==3.2.0) (2.27.1)\n",
      "Requirement already satisfied: catalogue<2.1.0,>=2.0.6 in /home/mathieu/.pyenv/versions/3.8.6/envs/customerchurn/lib/python3.8/site-packages (from spacy<3.3.0,>=3.2.0->en-core-web-sm==3.2.0) (2.0.6)\n",
      "Requirement already satisfied: tqdm<5.0.0,>=4.38.0 in /home/mathieu/.pyenv/versions/3.8.6/envs/customerchurn/lib/python3.8/site-packages (from spacy<3.3.0,>=3.2.0->en-core-web-sm==3.2.0) (4.62.3)\n",
      "Requirement already satisfied: spacy-legacy<3.1.0,>=3.0.8 in /home/mathieu/.pyenv/versions/3.8.6/envs/customerchurn/lib/python3.8/site-packages (from spacy<3.3.0,>=3.2.0->en-core-web-sm==3.2.0) (3.0.8)\n",
      "Requirement already satisfied: jinja2 in /home/mathieu/.pyenv/versions/3.8.6/envs/customerchurn/lib/python3.8/site-packages (from spacy<3.3.0,>=3.2.0->en-core-web-sm==3.2.0) (3.0.3)\n",
      "Requirement already satisfied: cymem<2.1.0,>=2.0.2 in /home/mathieu/.pyenv/versions/3.8.6/envs/customerchurn/lib/python3.8/site-packages (from spacy<3.3.0,>=3.2.0->en-core-web-sm==3.2.0) (2.0.6)\n",
      "Requirement already satisfied: pydantic!=1.8,!=1.8.1,<1.9.0,>=1.7.4 in /home/mathieu/.pyenv/versions/3.8.6/envs/customerchurn/lib/python3.8/site-packages (from spacy<3.3.0,>=3.2.0->en-core-web-sm==3.2.0) (1.8.2)\n",
      "Requirement already satisfied: spacy-loggers<2.0.0,>=1.0.0 in /home/mathieu/.pyenv/versions/3.8.6/envs/customerchurn/lib/python3.8/site-packages (from spacy<3.3.0,>=3.2.0->en-core-web-sm==3.2.0) (1.0.1)\n",
      "Requirement already satisfied: preshed<3.1.0,>=3.0.2 in /home/mathieu/.pyenv/versions/3.8.6/envs/customerchurn/lib/python3.8/site-packages (from spacy<3.3.0,>=3.2.0->en-core-web-sm==3.2.0) (3.0.6)\n",
      "Requirement already satisfied: pathy>=0.3.5 in /home/mathieu/.pyenv/versions/3.8.6/envs/customerchurn/lib/python3.8/site-packages (from spacy<3.3.0,>=3.2.0->en-core-web-sm==3.2.0) (0.6.1)\n",
      "Requirement already satisfied: pyparsing!=3.0.5,>=2.0.2 in /home/mathieu/.pyenv/versions/3.8.6/envs/customerchurn/lib/python3.8/site-packages (from packaging>=20.0->spacy<3.3.0,>=3.2.0->en-core-web-sm==3.2.0) (3.0.7)\n",
      "Requirement already satisfied: smart-open<6.0.0,>=5.0.0 in /home/mathieu/.pyenv/versions/3.8.6/envs/customerchurn/lib/python3.8/site-packages (from pathy>=0.3.5->spacy<3.3.0,>=3.2.0->en-core-web-sm==3.2.0) (5.2.1)\n",
      "Requirement already satisfied: typing-extensions>=3.7.4.3 in /home/mathieu/.pyenv/versions/3.8.6/envs/customerchurn/lib/python3.8/site-packages (from pydantic!=1.8,!=1.8.1,<1.9.0,>=1.7.4->spacy<3.3.0,>=3.2.0->en-core-web-sm==3.2.0) (4.0.1)\n",
      "Requirement already satisfied: charset-normalizer~=2.0.0 in /home/mathieu/.pyenv/versions/3.8.6/envs/customerchurn/lib/python3.8/site-packages (from requests<3.0.0,>=2.13.0->spacy<3.3.0,>=3.2.0->en-core-web-sm==3.2.0) (2.0.10)\n",
      "Requirement already satisfied: idna<4,>=2.5 in /home/mathieu/.pyenv/versions/3.8.6/envs/customerchurn/lib/python3.8/site-packages (from requests<3.0.0,>=2.13.0->spacy<3.3.0,>=3.2.0->en-core-web-sm==3.2.0) (3.3)\n",
      "Requirement already satisfied: urllib3<1.27,>=1.21.1 in /home/mathieu/.pyenv/versions/3.8.6/envs/customerchurn/lib/python3.8/site-packages (from requests<3.0.0,>=2.13.0->spacy<3.3.0,>=3.2.0->en-core-web-sm==3.2.0) (1.26.8)\n",
      "Requirement already satisfied: certifi>=2017.4.17 in /home/mathieu/.pyenv/versions/3.8.6/envs/customerchurn/lib/python3.8/site-packages (from requests<3.0.0,>=2.13.0->spacy<3.3.0,>=3.2.0->en-core-web-sm==3.2.0) (2021.10.8)\n",
      "Requirement already satisfied: click<9.0.0,>=7.1.1 in /home/mathieu/.pyenv/versions/3.8.6/envs/customerchurn/lib/python3.8/site-packages (from typer<0.5.0,>=0.3.0->spacy<3.3.0,>=3.2.0->en-core-web-sm==3.2.0) (8.0.3)\n",
      "Requirement already satisfied: MarkupSafe>=2.0 in /home/mathieu/.pyenv/versions/3.8.6/envs/customerchurn/lib/python3.8/site-packages (from jinja2->spacy<3.3.0,>=3.2.0->en-core-web-sm==3.2.0) (2.0.1)\n",
      "Installing collected packages: en-core-web-sm\n",
      "Successfully installed en-core-web-sm-3.2.0\n",
      "\u001b[33mWARNING: You are using pip version 21.3.1; however, version 22.0.3 is available.\n",
      "You should consider upgrading via the '/home/mathieu/.pyenv/versions/customerchurn/bin/python3 -m pip install --upgrade pip' command.\u001b[0m\n",
      "\u001b[38;5;2m✔ Download and installation successful\u001b[0m\n",
      "You can now load the package via spacy.load('en_core_web_sm')\n"
     ]
    }
   ],
   "source": [
    "!python3 -m spacy download en_core_web_sm"
   ]
  },
  {
   "cell_type": "code",
   "execution_count": 36,
   "id": "a0bee8ef",
   "metadata": {},
   "outputs": [
    {
     "name": "stdout",
     "output_type": "stream",
     "text": [
      "{'language': 'nl', 'score': 0.999993160971745}\n"
     ]
    }
   ],
   "source": [
    "import spacy\n",
    "from spacy.language import Language\n",
    "from spacy_langdetect import LanguageDetector\n",
    "\n",
    "def get_lang_detector(nlp, name):\n",
    "    return LanguageDetector()\n",
    "\n",
    "nlp = spacy.load(\"en_core_web_sm\")\n",
    "Language.factory(\"language_detector\", func=get_lang_detector)\n",
    "nlp.add_pipe('language_detector', last=True)\n",
    "text = 'hello word'\n",
    "doc = nlp(text)\n",
    "print(doc._.language)"
   ]
  },
  {
   "cell_type": "code",
   "execution_count": 46,
   "id": "645ab6d2",
   "metadata": {},
   "outputs": [],
   "source": [
    "sectors = ['Real Estate','Financial Services']\n",
    "for sector in sectors:\n",
    "    negative_reviews = []\n",
    "    positive_reviews = []\n",
    "\n",
    "    for i in range(1,18):\n",
    "        fname = f'yelp_review{i}'\n",
    "        df = pd.read_csv(f'../raw_data/yelp/{fname}')\n",
    "\n",
    "        mask1 = df[f'is_{sector}'] == 1\n",
    "        df_temp = df[mask1][['review','star']].copy()\n",
    "        mask2 = df_temp['star'] < 3\n",
    "        df_temp_neg = df_temp[mask2][['review']].copy()\n",
    "        mask3 = df_temp['star'] > 3\n",
    "        df_temp_pos = df_temp[mask3][['review']].copy()\n",
    "\n",
    "        negative_reviews.append(df_temp_neg.copy())\n",
    "        positive_reviews.append(df_temp_pos.copy())\n",
    "        \n",
    "    negative_reviews_all =  pd.concat(negative_reviews)\n",
    "    positive_reviews_all =  pd.concat(positive_reviews)\n",
    "    \n",
    "    negative_reviews_all['lang'] = negative_reviews_all['review'].apply(lambda row: nlp(str(row))._.language['language'])\n",
    "    positive_reviews_all['lang'] = positive_reviews_all['review'].apply(lambda row: nlp(str(row))._.language['language'])\n",
    "    \n",
    "    negative_reviews_all [negative_reviews_all['lang'] == 'en'][['review']].to_csv(f'../raw_data/yelp/yelp_{sector}_neg.csv')\n",
    "    positive_reviews_all [positive_reviews_all['lang'] == 'en'][['review']].to_csv(f'../raw_data/yelp/yelp_{sector}_pos.csv')\n",
    "        \n",
    "    "
   ]
  },
  {
   "cell_type": "code",
   "execution_count": 31,
   "id": "4892a265",
   "metadata": {},
   "outputs": [],
   "source": [
    "|"
   ]
  },
  {
   "cell_type": "code",
   "execution_count": null,
   "id": "ad41f526",
   "metadata": {},
   "outputs": [],
   "source": []
  },
  {
   "cell_type": "code",
   "execution_count": null,
   "id": "3b14f97c",
   "metadata": {},
   "outputs": [],
   "source": []
  },
  {
   "cell_type": "code",
   "execution_count": null,
   "id": "c83aad67",
   "metadata": {},
   "outputs": [],
   "source": []
  },
  {
   "cell_type": "code",
   "execution_count": null,
   "id": "b0e77eb4",
   "metadata": {},
   "outputs": [],
   "source": []
  },
  {
   "cell_type": "code",
   "execution_count": null,
   "id": "485d33f1",
   "metadata": {},
   "outputs": [],
   "source": []
  },
  {
   "cell_type": "code",
   "execution_count": null,
   "id": "ae780252",
   "metadata": {},
   "outputs": [],
   "source": []
  }
 ],
 "metadata": {
  "kernelspec": {
   "display_name": "Python 3 (ipykernel)",
   "language": "python",
   "name": "python3"
  },
  "language_info": {
   "codemirror_mode": {
    "name": "ipython",
    "version": 3
   },
   "file_extension": ".py",
   "mimetype": "text/x-python",
   "name": "python",
   "nbconvert_exporter": "python",
   "pygments_lexer": "ipython3",
   "version": "3.8.6"
  },
  "toc": {
   "base_numbering": 1,
   "nav_menu": {},
   "number_sections": true,
   "sideBar": true,
   "skip_h1_title": false,
   "title_cell": "Table of Contents",
   "title_sidebar": "Contents",
   "toc_cell": false,
   "toc_position": {},
   "toc_section_display": true,
   "toc_window_display": false
  }
 },
 "nbformat": 4,
 "nbformat_minor": 5
}
