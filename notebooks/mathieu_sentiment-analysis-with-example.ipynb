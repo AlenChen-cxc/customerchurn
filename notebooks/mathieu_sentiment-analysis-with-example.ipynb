{
 "cells": [
  {
   "cell_type": "markdown",
   "metadata": {},
   "source": [
    "# Sentiment analysis with Word2Vec\n",
    "\n",
    "### Exercise objectives:\n",
    "- Convert words to vectors with Word2Vec\n",
    "- Use the word representation given by Word2vec to feed a RNN\n",
    "\n",
    "<hr>\n",
    "<hr>\n",
    "\n",
    "\n",
    "# The data\n",
    "\n",
    "\n",
    "❓ **Question** ❓ Let's first load the data. You don't have to understand what is going on in the function, it does not matter here.\n",
    "\n",
    "⚠️ **Warning** ⚠️ The `load_data` function has a `percentage_of_sentences` argument. Depending on your computer, there are chances that a too large number of sentences will make your compute slow down, or even freeze - your RAM can even overflow. For that reason, **you should start with 10% of the sentences** and see if your computer handles it. Otherwise, rerun with a lower number. \n",
    "\n",
    "⚠️ **DISCLAIMER** ⚠️ **No need to play _who has the biggest_ (RAM) !** The idea is to get to run your models quickly to prototype. Even in real life, it is recommended that you start with a subset of your data to loop and debug quickly. So increase the number only if you are into getting the best accuracy."
   ]
  },
  {
   "cell_type": "code",
   "execution_count": 1,
   "metadata": {},
   "outputs": [
    {
     "name": "stderr",
     "output_type": "stream",
     "text": [
      "2022-02-03 20:01:14.621131: W tensorflow/stream_executor/platform/default/dso_loader.cc:64] Could not load dynamic library 'libcudart.so.11.0'; dlerror: libcudart.so.11.0: cannot open shared object file: No such file or directory\n",
      "2022-02-03 20:01:14.621275: I tensorflow/stream_executor/cuda/cudart_stub.cc:29] Ignore above cudart dlerror if you do not have a GPU set up on your machine.\n"
     ]
    },
    {
     "name": "stdout",
     "output_type": "stream",
     "text": [
      "WARNING:tensorflow:From /home/mathieu/.pyenv/versions/3.8.6/envs/lewagon/lib/python3.8/site-packages/tensorflow_datasets/core/dataset_builder.py:622: get_single_element (from tensorflow.python.data.experimental.ops.get_single_element) is deprecated and will be removed in a future version.\n",
      "Instructions for updating:\n",
      "Use `tf.data.Dataset.get_single_element()`.\n"
     ]
    },
    {
     "name": "stderr",
     "output_type": "stream",
     "text": [
      "2022-02-03 20:01:23.453407: E tensorflow/stream_executor/cuda/cuda_driver.cc:271] failed call to cuInit: UNKNOWN ERROR (100)\n",
      "2022-02-03 20:01:23.453517: I tensorflow/stream_executor/cuda/cuda_diagnostics.cc:156] kernel driver does not appear to be running on this host (LAPTOP-KQUNRQ54): /proc/driver/nvidia/version does not exist\n",
      "2022-02-03 20:01:23.455305: I tensorflow/core/platform/cpu_feature_guard.cc:151] This TensorFlow binary is optimized with oneAPI Deep Neural Network Library (oneDNN) to use the following CPU instructions in performance-critical operations:  AVX2 FMA\n",
      "To enable them in other operations, rebuild TensorFlow with the appropriate compiler flags.\n",
      "WARNING:tensorflow:From /home/mathieu/.pyenv/versions/3.8.6/envs/lewagon/lib/python3.8/site-packages/tensorflow_datasets/core/dataset_builder.py:622: get_single_element (from tensorflow.python.data.experimental.ops.get_single_element) is deprecated and will be removed in a future version.\n",
      "Instructions for updating:\n",
      "Use `tf.data.Dataset.get_single_element()`.\n"
     ]
    }
   ],
   "source": [
    "###########################################\n",
    "### Just run this cell to load the data ###\n",
    "###########################################\n",
    "\n",
    "import tensorflow_datasets as tfds\n",
    "from tensorflow.keras.preprocessing.text import text_to_word_sequence\n",
    "\n",
    "def load_data(percentage_of_sentences=None):\n",
    "    train_data, test_data = tfds.load(name=\"imdb_reviews\", split=[\"train\", \"test\"], batch_size=-1, as_supervised=True)\n",
    "\n",
    "    train_sentences, y_train = tfds.as_numpy(train_data)\n",
    "    test_sentences, y_test = tfds.as_numpy(test_data)\n",
    "    \n",
    "    # Take only a given percentage of the entire data\n",
    "    if percentage_of_sentences is not None:\n",
    "        assert(percentage_of_sentences> 0 and percentage_of_sentences<=100)\n",
    "        \n",
    "        len_train = int(percentage_of_sentences/100*len(train_sentences))\n",
    "        train_sentences, y_train = train_sentences[:len_train], y_train[:len_train]\n",
    "  \n",
    "        len_test = int(percentage_of_sentences/100*len(test_sentences))\n",
    "        test_sentences, y_test = test_sentences[:len_test], y_test[:len_test]\n",
    "    \n",
    "    X_train = [text_to_word_sequence(_.decode(\"utf-8\")) for _ in train_sentences]\n",
    "    X_test = [text_to_word_sequence(_.decode(\"utf-8\")) for _ in test_sentences]\n",
    "    \n",
    "    return X_train, y_train, X_test, y_test\n",
    "\n",
    "X_train, y_train, X_test, y_test = load_data(percentage_of_sentences=10)"
   ]
  },
  {
   "cell_type": "markdown",
   "metadata": {},
   "source": [
    "In the previous exercise, you trained a Word2vec representation and converted all your training sentences in order to feed them into a RNN, as shown in the first step of this Figure : \n",
    "\n",
    "<img src=\"word2vec_representation.png\" width=\"400px\" />\n",
    "\n",
    "\n",
    "\n",
    "❓ **Question** ❓ Here, let's re-do exactly what you have done in the previous exercise. First, train a word2vec model (with the arguments that you want) on your training sentence. Store it into the `word2vec` variable."
   ]
  },
  {
   "cell_type": "code",
   "execution_count": 2,
   "metadata": {
    "tags": [
     "challengify"
    ]
   },
   "outputs": [],
   "source": [
    "from gensim.models import Word2Vec\n",
    "\n",
    "word2vec = Word2Vec(sentences=X_train, vector_size = 100, min_count = 10, window = 6)"
   ]
  },
  {
   "cell_type": "code",
   "execution_count": 5,
   "metadata": {},
   "outputs": [
    {
     "data": {
      "text/plain": [
       "array([ 0.87986517, -0.18382567,  0.2816751 ,  0.03649974, -0.7686907 ,\n",
       "       -0.36882693, -0.14136596,  0.81198746, -0.9606589 , -0.624932  ,\n",
       "        0.20872988, -0.34505993,  0.12400606,  0.77152544,  0.06400364,\n",
       "       -0.0236338 ,  0.23534687,  0.34574562, -0.50934726, -1.9771593 ,\n",
       "        0.03436977,  0.596651  ,  0.672445  , -0.42333674,  0.02952801,\n",
       "       -0.37855235,  0.63452584,  0.10470641, -0.66254854, -0.10995002,\n",
       "       -0.292759  ,  0.57641935,  0.92199874, -1.2787434 ,  0.09404639,\n",
       "        0.09261798,  0.83391565, -0.06339327, -0.15867162, -0.24388176,\n",
       "       -0.5079075 ,  0.09965529, -0.8760894 , -0.05570967,  0.0304227 ,\n",
       "       -0.78985333, -0.2766121 ,  1.0075377 , -0.05725787,  0.5955523 ,\n",
       "       -0.6641223 ,  0.01684951, -1.113806  ,  0.74939984,  0.6178747 ,\n",
       "        0.49316993, -0.55832076, -0.40789977, -0.22069435,  0.03694138,\n",
       "        0.6372632 , -0.14248656, -0.07525415,  0.00683134, -0.28158292,\n",
       "        0.09841053, -0.45956993, -0.28514543, -0.05068856,  0.05852599,\n",
       "        0.2964711 ,  0.93981814, -0.49022684, -0.41589412,  0.6191563 ,\n",
       "        0.36036986,  0.33982873,  0.06616677,  0.13835995, -0.47391334,\n",
       "        0.36169508, -0.54424834,  0.14540206,  0.38254544, -0.501777  ,\n",
       "       -0.03319298, -0.15490507,  0.25977823, -0.17373514,  1.0185028 ,\n",
       "       -0.38854387,  0.49468786, -0.49573997, -0.01216041,  0.3269978 ,\n",
       "        0.25368845, -0.2333973 , -0.31389195, -0.37778136,  0.40348577],\n",
       "      dtype=float32)"
      ]
     },
     "execution_count": 5,
     "metadata": {},
     "output_type": "execute_result"
    }
   ],
   "source": [
    "word2vec.wv[0]"
   ]
  },
  {
   "cell_type": "markdown",
   "metadata": {},
   "source": [
    "Let's reuse the functions of the previous exercise to convert your training and test data into something you can fed into a RNN.\n",
    "\n",
    "❓ **Question** ❓ Read the following function to be sure you understand what is going on, and run it."
   ]
  },
  {
   "cell_type": "code",
   "execution_count": 3,
   "metadata": {},
   "outputs": [],
   "source": [
    "from tensorflow.keras.preprocessing.sequence import pad_sequences\n",
    "import numpy as np\n",
    "\n",
    "# Function to convert a sentence (list of words) into a matrix representing the words in the embedding space\n",
    "def embed_sentence(word2vec, sentence):\n",
    "    embedded_sentence = []\n",
    "    for word in sentence:\n",
    "        if word in word2vec.wv:\n",
    "            embedded_sentence.append(word2vec.wv[word])\n",
    "        \n",
    "    return np.array(embedded_sentence)\n",
    "\n",
    "# Function that converts a list of sentences into a list of matrices\n",
    "def embedding(word2vec, sentences):\n",
    "    embed = []\n",
    "    \n",
    "    for sentence in sentences:\n",
    "        embedded_sentence = embed_sentence(word2vec, sentence)\n",
    "        embed.append(embedded_sentence)\n",
    "        \n",
    "    return embed\n",
    "\n",
    "# Embed the training and test sentences\n",
    "X_train_embed = embedding(word2vec, X_train)\n",
    "X_test_embed = embedding(word2vec, X_test)\n",
    "\n",
    "\n",
    "# Pad the training and test embedded sentences\n",
    "X_train_pad = pad_sequences(X_train_embed, dtype='float32', padding='post', maxlen=200)\n",
    "X_test_pad = pad_sequences(X_test_embed, dtype='float32', padding='post', maxlen=200)"
   ]
  },
  {
   "cell_type": "markdown",
   "metadata": {},
   "source": [
    "☝️ To be sure that it worked, let's check the following for `X_train_pad` and `X_test_pad` :\n",
    "- they are numpy arrays\n",
    "- they are 3-dimensional\n",
    "- the last dimension is of the size of your word2vec embedding space (you can get it with `word2vec.wv.vector_size`\n",
    "- the first dimension is of the size of your `X_train` and `X_test`\n",
    "\n",
    "✅ **Good Practice** ✅ Such tests are quite important! Not only in this exercise, but in real-life applications. It prevents from searching at errors too late and from letting them propagate through the entire notebook."
   ]
  },
  {
   "cell_type": "code",
   "execution_count": 9,
   "metadata": {},
   "outputs": [
    {
     "data": {
      "text/plain": [
       "array([[ 0.89005506,  0.22253354,  0.7855564 , ..., -0.18248144,\n",
       "        -0.18397295, -0.54403347],\n",
       "       [ 0.44280338, -0.50045085,  0.6310196 , ..., -1.2205391 ,\n",
       "         1.3660139 ,  1.0935569 ],\n",
       "       [-0.0286577 ,  0.51957184,  0.25439858, ..., -0.41317296,\n",
       "        -0.6410761 ,  0.41316113],\n",
       "       ...,\n",
       "       [ 0.        ,  0.        ,  0.        , ...,  0.        ,\n",
       "         0.        ,  0.        ],\n",
       "       [ 0.        ,  0.        ,  0.        , ...,  0.        ,\n",
       "         0.        ,  0.        ],\n",
       "       [ 0.        ,  0.        ,  0.        , ...,  0.        ,\n",
       "         0.        ,  0.        ]], dtype=float32)"
      ]
     },
     "execution_count": 9,
     "metadata": {},
     "output_type": "execute_result"
    }
   ],
   "source": [
    "X_train_pad[0]"
   ]
  },
  {
   "cell_type": "code",
   "execution_count": 4,
   "metadata": {},
   "outputs": [],
   "source": [
    "# TEST ME\n",
    "for X in [X_train_pad, X_test_pad]:\n",
    "    assert type(X) == np.ndarray\n",
    "    assert X.shape[-1] == word2vec.wv.vector_size\n",
    "\n",
    "\n",
    "assert X_train_pad.shape[0] == len(X_train)\n",
    "assert X_test_pad.shape[0] == len(X_test)"
   ]
  },
  {
   "cell_type": "markdown",
   "metadata": {},
   "source": [
    "# Baseline model\n",
    "\n",
    "It is always good to have a very simple model to test your own model against - to be sure you do something better than a very simple algorithm.\n",
    "\n",
    "❓ **Question** ❓ What is your baseline accuracy? In this case, your baseline can be to predict the label that is the most present in `y_train` (of course, if the dataset is balanced, the baseline accuracy is 1/n where n is the number of classes - 2 here)."
   ]
  },
  {
   "cell_type": "code",
   "execution_count": 8,
   "metadata": {
    "tags": [
     "challengify"
    ]
   },
   "outputs": [
    {
     "data": {
      "text/plain": [
       "0.506"
      ]
     },
     "execution_count": 8,
     "metadata": {},
     "output_type": "execute_result"
    }
   ],
   "source": [
    "baseline_acc = 1 - y_train.sum() / y_train.size #all reviews are negative\n",
    "baseline_acc"
   ]
  },
  {
   "cell_type": "markdown",
   "metadata": {},
   "source": [
    "# The model\n",
    "\n",
    "❓ **Question** ❓ Write a RNN with the following layers:\n",
    "- a `Masking` layer\n",
    "- a `LSTM` with 20 units and `tanh` activation function\n",
    "- a `Dense` with 10 units\n",
    "- an output layer that depends on your task\n",
    "\n",
    "Then, compile your model (we advise you to use the `rmsprop` as the optimizer - at least to begin with)"
   ]
  },
  {
   "cell_type": "code",
   "execution_count": 14,
   "metadata": {
    "tags": [
     "challengify"
    ]
   },
   "outputs": [],
   "source": [
    "from tensorflow.keras import layers, Sequential\n",
    "\n",
    "\n",
    "model = Sequential()\n",
    "model.add(layers.Masking(mask_value=0))\n",
    "model.add(layers.LSTM(20, activation=\"tanh\"))\n",
    "model.add(layers.Dense(10, activation=\"relu\"))\n",
    "model.add(layers.Dense(1, activation=\"sigmoid\"))\n"
   ]
  },
  {
   "cell_type": "markdown",
   "metadata": {},
   "source": [
    "❓ **Question** ❓ Fit the model on your embedded and padded data - do not forget the early stopping criterion.\n",
    "\n",
    "❗ **Remark** ❗ Your accuracy with greatly depend on your training test corpus. Here just make sure that your performance is above the baseline model (which should be the case even if you loaded only 20% of the initial IMDB data)."
   ]
  },
  {
   "cell_type": "code",
   "execution_count": 17,
   "metadata": {
    "tags": [
     "challengify"
    ]
   },
   "outputs": [],
   "source": [
    "from tensorflow.keras.callbacks import EarlyStopping\n",
    "es = EarlyStopping(patience = 4)\n",
    "\n",
    "model.compile(loss='binary_crossentropy', optimizer='rmsprop', metrics = ['acc'])"
   ]
  },
  {
   "cell_type": "code",
   "execution_count": 18,
   "metadata": {},
   "outputs": [
    {
     "name": "stdout",
     "output_type": "stream",
     "text": [
      "Epoch 1/50\n",
      "14/14 [==============================] - 12s 401ms/step - loss: 0.6924 - acc: 0.5143 - val_loss: 0.6825 - val_acc: 0.5773\n",
      "Epoch 2/50\n",
      "14/14 [==============================] - 3s 250ms/step - loss: 0.6841 - acc: 0.5514 - val_loss: 0.6799 - val_acc: 0.5853\n",
      "Epoch 3/50\n",
      "14/14 [==============================] - 4s 258ms/step - loss: 0.6775 - acc: 0.5840 - val_loss: 0.6767 - val_acc: 0.5733\n",
      "Epoch 4/50\n",
      "14/14 [==============================] - 4s 279ms/step - loss: 0.6689 - acc: 0.5977 - val_loss: 0.6603 - val_acc: 0.6160\n",
      "Epoch 5/50\n",
      "14/14 [==============================] - 4s 259ms/step - loss: 0.6605 - acc: 0.6280 - val_loss: 0.6486 - val_acc: 0.6400\n",
      "Epoch 6/50\n",
      "14/14 [==============================] - 4s 258ms/step - loss: 0.6488 - acc: 0.6331 - val_loss: 0.6409 - val_acc: 0.6293\n",
      "Epoch 7/50\n",
      "14/14 [==============================] - 4s 255ms/step - loss: 0.6452 - acc: 0.6314 - val_loss: 0.6337 - val_acc: 0.6613\n",
      "Epoch 8/50\n",
      "14/14 [==============================] - 4s 258ms/step - loss: 0.6426 - acc: 0.6337 - val_loss: 0.6315 - val_acc: 0.6387\n",
      "Epoch 9/50\n",
      "14/14 [==============================] - 4s 256ms/step - loss: 0.6382 - acc: 0.6434 - val_loss: 0.6321 - val_acc: 0.6547\n",
      "Epoch 10/50\n",
      "14/14 [==============================] - 4s 259ms/step - loss: 0.6339 - acc: 0.6394 - val_loss: 0.6248 - val_acc: 0.6627\n",
      "Epoch 11/50\n",
      "14/14 [==============================] - 4s 276ms/step - loss: 0.6243 - acc: 0.6600 - val_loss: 0.6389 - val_acc: 0.6360\n",
      "Epoch 12/50\n",
      "14/14 [==============================] - 4s 256ms/step - loss: 0.6315 - acc: 0.6429 - val_loss: 0.6225 - val_acc: 0.6573\n",
      "Epoch 13/50\n",
      "14/14 [==============================] - 4s 257ms/step - loss: 0.6120 - acc: 0.6806 - val_loss: 0.6213 - val_acc: 0.6520\n",
      "Epoch 14/50\n",
      "14/14 [==============================] - 4s 257ms/step - loss: 0.6115 - acc: 0.6720 - val_loss: 0.6977 - val_acc: 0.5853\n",
      "Epoch 15/50\n",
      "14/14 [==============================] - 4s 261ms/step - loss: 0.6277 - acc: 0.6497 - val_loss: 0.6225 - val_acc: 0.6547\n",
      "Epoch 16/50\n",
      "14/14 [==============================] - 4s 255ms/step - loss: 0.6153 - acc: 0.6657 - val_loss: 0.6373 - val_acc: 0.6440\n",
      "Epoch 17/50\n",
      "14/14 [==============================] - 4s 282ms/step - loss: 0.6043 - acc: 0.6760 - val_loss: 0.6133 - val_acc: 0.6760\n",
      "Epoch 18/50\n",
      "14/14 [==============================] - 4s 301ms/step - loss: 0.5969 - acc: 0.6863 - val_loss: 0.6283 - val_acc: 0.6560\n",
      "Epoch 19/50\n",
      "14/14 [==============================] - 4s 259ms/step - loss: 0.5917 - acc: 0.6891 - val_loss: 0.6284 - val_acc: 0.6587\n",
      "Epoch 20/50\n",
      "14/14 [==============================] - 4s 271ms/step - loss: 0.5966 - acc: 0.6897 - val_loss: 0.6112 - val_acc: 0.6813\n",
      "Epoch 21/50\n",
      "14/14 [==============================] - 4s 272ms/step - loss: 0.5901 - acc: 0.6869 - val_loss: 0.6224 - val_acc: 0.6600\n",
      "Epoch 22/50\n",
      "14/14 [==============================] - 4s 257ms/step - loss: 0.5810 - acc: 0.6983 - val_loss: 0.6357 - val_acc: 0.6547\n",
      "Epoch 23/50\n",
      "14/14 [==============================] - 4s 257ms/step - loss: 0.5902 - acc: 0.6949 - val_loss: 0.6093 - val_acc: 0.6787\n",
      "Epoch 24/50\n",
      "14/14 [==============================] - 4s 263ms/step - loss: 0.5822 - acc: 0.6920 - val_loss: 0.6367 - val_acc: 0.6613\n",
      "Epoch 25/50\n",
      "14/14 [==============================] - 4s 299ms/step - loss: 0.5697 - acc: 0.7131 - val_loss: 0.6096 - val_acc: 0.6787\n",
      "Epoch 26/50\n",
      "14/14 [==============================] - 4s 280ms/step - loss: 0.5648 - acc: 0.7143 - val_loss: 0.6441 - val_acc: 0.6453\n",
      "Epoch 27/50\n",
      "14/14 [==============================] - 4s 266ms/step - loss: 0.5701 - acc: 0.7029 - val_loss: 0.6144 - val_acc: 0.6613\n"
     ]
    }
   ],
   "source": [
    "history = model.fit(X_train_pad, y_train,\n",
    "         epochs = 50,\n",
    "         batch_size = 128,\n",
    "         verbose = 1,\n",
    "         validation_split=0.3,\n",
    "         callbacks=[es])"
   ]
  },
  {
   "cell_type": "markdown",
   "metadata": {},
   "source": [
    "❓ **Question** ❓ Evaluate your model on the test set"
   ]
  },
  {
   "cell_type": "code",
   "execution_count": 19,
   "metadata": {
    "tags": [
     "challengify"
    ]
   },
   "outputs": [
    {
     "name": "stdout",
     "output_type": "stream",
     "text": [
      "79/79 [==============================] - 3s 43ms/step - loss: 0.6248 - acc: 0.6652\n"
     ]
    },
    {
     "data": {
      "text/plain": [
       "[0.6247703433036804, 0.6651999950408936]"
      ]
     },
     "execution_count": 19,
     "metadata": {},
     "output_type": "execute_result"
    }
   ],
   "source": [
    "model.evaluate(X_test_pad, y_test)"
   ]
  },
  {
   "cell_type": "markdown",
   "metadata": {},
   "source": [
    "# Trained Word2Vec - Transfer Learning\n",
    "\n",
    "Your accuracy, while above the baseline model, might be quite low. There are multiple options to improve it, as data cleaning and improving the quality of the embedding.\n",
    "\n",
    "We won't dig into data cleaning strategies here. On the other hand, let's try to improve the quality of our embedding. But instead of just loading a larger corpus, why not benefiting from the embedding that other have learnt? Because, the quality of an embedding, i.e. the proximity of the words, can be derived from different tasks. This is exactly what transfer learning is.\n",
    "\n",
    "\n",
    "\n",
    "❓ **Question** ❓ List all the different models available in the word2vec thanks to this : "
   ]
  },
  {
   "cell_type": "code",
   "execution_count": 20,
   "metadata": {},
   "outputs": [
    {
     "name": "stdout",
     "output_type": "stream",
     "text": [
      "['fasttext-wiki-news-subwords-300', 'conceptnet-numberbatch-17-06-300', 'word2vec-ruscorpora-300', 'word2vec-google-news-300', 'glove-wiki-gigaword-50', 'glove-wiki-gigaword-100', 'glove-wiki-gigaword-200', 'glove-wiki-gigaword-300', 'glove-twitter-25', 'glove-twitter-50', 'glove-twitter-100', 'glove-twitter-200', '__testing_word2vec-matrix-synopsis']\n"
     ]
    }
   ],
   "source": [
    "import gensim.downloader as api\n",
    "print(list(api.info()['models'].keys()))"
   ]
  },
  {
   "cell_type": "markdown",
   "metadata": {},
   "source": [
    "ℹ️ You can also find the list of the models and their size on the [`gensim-data` repository](https://github.com/RaRe-Technologies/gensim-data#models)."
   ]
  },
  {
   "cell_type": "markdown",
   "metadata": {},
   "source": [
    "❓ **Question** ❓ Load one of the pre-trained word2vec embedding spaces. \n",
    "\n",
    "You can do that with `api.load(the-model-of-your-choice)`, and store it in `word2vec_transfer`\n",
    "\n",
    "<details>\n",
    "    <summary>💡 Hint</summary>\n",
    "    \n",
    "The `glove-wiki-gigaword-50` model is a good candidate to start with as it is the smaller (65 MB).\n",
    "\n",
    "</details>"
   ]
  },
  {
   "cell_type": "code",
   "execution_count": 21,
   "metadata": {
    "tags": [
     "challengify"
    ]
   },
   "outputs": [
    {
     "name": "stdout",
     "output_type": "stream",
     "text": [
      "[==================================================] 100.0% 128.1/128.1MB downloaded\n"
     ]
    }
   ],
   "source": [
    "word2vec_transfer = api.load('glove-wiki-gigaword-100')"
   ]
  },
  {
   "cell_type": "markdown",
   "metadata": {},
   "source": [
    "❓ **Question** ❓ Check the size of the vocabulary, but also the size of the embedding space."
   ]
  },
  {
   "cell_type": "code",
   "execution_count": 31,
   "metadata": {
    "tags": [
     "challengify"
    ]
   },
   "outputs": [
    {
     "data": {
      "text/plain": [
       "400000"
      ]
     },
     "execution_count": 31,
     "metadata": {},
     "output_type": "execute_result"
    }
   ],
   "source": [
    "len(word2vec_transfer.index_to_key)"
   ]
  },
  {
   "cell_type": "code",
   "execution_count": 34,
   "metadata": {},
   "outputs": [
    {
     "data": {
      "text/plain": [
       "100"
      ]
     },
     "execution_count": 34,
     "metadata": {},
     "output_type": "execute_result"
    }
   ],
   "source": [
    "word2vec_transfer.vector_size"
   ]
  },
  {
   "cell_type": "markdown",
   "metadata": {},
   "source": [
    "❓ **Question** ❓ Let's embedd `X_train` and `X_test`, as in the first question where we provided the functions to so ! (There is a slight different in the `embed_sentence_with_TF` function that we will not dig into)"
   ]
  },
  {
   "cell_type": "code",
   "execution_count": 35,
   "metadata": {},
   "outputs": [],
   "source": [
    "from tensorflow.keras.preprocessing.sequence import pad_sequences\n",
    "import numpy as np\n",
    "\n",
    "# Function to convert a sentence (list of words) into a matrix representing the words in the embedding space\n",
    "def embed_sentence_with_TF(word2vec, sentence):\n",
    "    embedded_sentence = []\n",
    "    for word in sentence:\n",
    "        if word in word2vec:\n",
    "            embedded_sentence.append(word2vec[word])\n",
    "        \n",
    "    return np.array(embedded_sentence)\n",
    "\n",
    "# Function that converts a list of sentences into a list of matrices\n",
    "def embedding(word2vec, sentences):\n",
    "    embed = []\n",
    "    \n",
    "    for sentence in sentences:\n",
    "        embedded_sentence = embed_sentence_with_TF(word2vec, sentence)\n",
    "        embed.append(embedded_sentence)\n",
    "        \n",
    "    return embed\n",
    "\n",
    "# Embed the training and test sentences\n",
    "X_train_embed_2 = embedding(word2vec_transfer, X_train)\n",
    "X_test_embed_2 = embedding(word2vec_transfer, X_test)"
   ]
  },
  {
   "cell_type": "markdown",
   "metadata": {},
   "source": [
    "❓ **Question** ❓  Do not forget to pad your results and store it in `X_train_pad_2` and `X_test_pad_2`."
   ]
  },
  {
   "cell_type": "code",
   "execution_count": 36,
   "metadata": {
    "tags": [
     "challengify"
    ]
   },
   "outputs": [],
   "source": [
    "# Pad the training and test embedded sentences\n",
    "X_train_pad_2 = pad_sequences(X_train_embed_2, dtype='float32', padding='post', maxlen=200)\n",
    "X_test_pad_2 = pad_sequences(X_test_embed_2, dtype='float32', padding='post', maxlen=200)"
   ]
  },
  {
   "cell_type": "markdown",
   "metadata": {},
   "source": [
    "❓ **Question** ❓ Reinitialize a model and fit it on your new embedded (and padded) data!  Evaluate it on your test set and compare it to your previous accuracy.\n",
    "\n",
    "❗ **Remark** ❗ The training could take some time here. You can just compute 10 epochs (this is **not** a good practice, it is just not to wait too long) and go to the next exercise while it trains - or take a break, you probably deserve it ;)"
   ]
  },
  {
   "cell_type": "code",
   "execution_count": 38,
   "metadata": {
    "tags": [
     "challengify"
    ]
   },
   "outputs": [],
   "source": [
    "model_2 = Sequential()\n",
    "model_2.add(layers.Masking(mask_value=0))\n",
    "model_2.add(layers.LSTM(20, activation=\"tanh\"))\n",
    "model_2.add(layers.Dense(10, activation=\"relu\"))\n",
    "model_2.add(layers.Dense(1, activation=\"sigmoid\"))\n",
    "\n",
    "model_2.compile(loss='binary_crossentropy', optimizer='rmsprop', metrics = ['acc'])"
   ]
  },
  {
   "cell_type": "code",
   "execution_count": 41,
   "metadata": {},
   "outputs": [
    {
     "name": "stdout",
     "output_type": "stream",
     "text": [
      "Epoch 1/50\n",
      "32/32 [==============================] - 8s 259ms/step - loss: 0.5554 - acc: 0.7235 - val_loss: 0.5552 - val_acc: 0.7100\n",
      "Epoch 2/50\n",
      "32/32 [==============================] - 8s 257ms/step - loss: 0.5619 - acc: 0.7240 - val_loss: 0.5764 - val_acc: 0.6960\n",
      "Epoch 3/50\n",
      "32/32 [==============================] - 8s 254ms/step - loss: 0.5333 - acc: 0.7385 - val_loss: 0.5348 - val_acc: 0.7540\n",
      "Epoch 4/50\n",
      "32/32 [==============================] - 8s 246ms/step - loss: 0.5316 - acc: 0.7320 - val_loss: 0.5901 - val_acc: 0.6840\n",
      "Epoch 5/50\n",
      "32/32 [==============================] - 9s 280ms/step - loss: 0.5252 - acc: 0.7485 - val_loss: 0.5239 - val_acc: 0.7360\n",
      "Epoch 6/50\n",
      "32/32 [==============================] - 8s 253ms/step - loss: 0.5195 - acc: 0.7495 - val_loss: 0.5392 - val_acc: 0.7140\n",
      "Epoch 7/50\n",
      "32/32 [==============================] - 9s 268ms/step - loss: 0.4946 - acc: 0.7670 - val_loss: 0.5328 - val_acc: 0.7240\n",
      "Epoch 8/50\n",
      "32/32 [==============================] - 9s 271ms/step - loss: 0.4826 - acc: 0.7740 - val_loss: 0.4895 - val_acc: 0.7700\n",
      "Epoch 9/50\n",
      "32/32 [==============================] - 10s 303ms/step - loss: 0.4789 - acc: 0.7735 - val_loss: 0.5166 - val_acc: 0.7680\n",
      "Epoch 10/50\n",
      "32/32 [==============================] - 8s 243ms/step - loss: 0.4712 - acc: 0.7835 - val_loss: 0.7837 - val_acc: 0.6000\n",
      "Epoch 11/50\n",
      "32/32 [==============================] - 8s 236ms/step - loss: 0.4755 - acc: 0.7855 - val_loss: 0.6548 - val_acc: 0.6580\n",
      "Epoch 12/50\n",
      "32/32 [==============================] - 7s 226ms/step - loss: 0.4570 - acc: 0.7925 - val_loss: 0.4660 - val_acc: 0.7860\n",
      "Epoch 13/50\n",
      "32/32 [==============================] - 7s 219ms/step - loss: 0.4332 - acc: 0.8030 - val_loss: 0.4963 - val_acc: 0.7780\n",
      "Epoch 14/50\n",
      "32/32 [==============================] - 7s 217ms/step - loss: 0.4113 - acc: 0.8205 - val_loss: 0.9267 - val_acc: 0.5680\n",
      "Epoch 15/50\n",
      "32/32 [==============================] - 7s 217ms/step - loss: 0.4384 - acc: 0.8040 - val_loss: 0.6599 - val_acc: 0.6820\n",
      "Epoch 16/50\n",
      "32/32 [==============================] - 7s 224ms/step - loss: 0.4251 - acc: 0.8100 - val_loss: 0.5325 - val_acc: 0.7480\n",
      "Epoch 17/50\n",
      "32/32 [==============================] - 7s 221ms/step - loss: 0.4034 - acc: 0.8215 - val_loss: 0.7059 - val_acc: 0.6680\n",
      "Epoch 18/50\n",
      "32/32 [==============================] - 7s 218ms/step - loss: 0.3907 - acc: 0.8340 - val_loss: 0.4948 - val_acc: 0.7780\n",
      "Epoch 19/50\n",
      "32/32 [==============================] - 7s 216ms/step - loss: 0.3859 - acc: 0.8355 - val_loss: 0.4424 - val_acc: 0.7880\n",
      "Epoch 20/50\n",
      "32/32 [==============================] - 7s 218ms/step - loss: 0.3866 - acc: 0.8325 - val_loss: 0.4239 - val_acc: 0.8220\n",
      "Epoch 21/50\n",
      "32/32 [==============================] - 7s 219ms/step - loss: 0.3767 - acc: 0.8345 - val_loss: 0.6734 - val_acc: 0.6620\n",
      "Epoch 22/50\n",
      "32/32 [==============================] - 7s 216ms/step - loss: 0.3587 - acc: 0.8450 - val_loss: 0.4507 - val_acc: 0.8120\n",
      "Epoch 23/50\n",
      "32/32 [==============================] - 7s 217ms/step - loss: 0.3643 - acc: 0.8435 - val_loss: 0.4331 - val_acc: 0.8000\n",
      "Epoch 24/50\n",
      "32/32 [==============================] - 7s 217ms/step - loss: 0.3337 - acc: 0.8605 - val_loss: 0.4682 - val_acc: 0.7860\n",
      "Epoch 25/50\n",
      "32/32 [==============================] - 7s 217ms/step - loss: 0.3397 - acc: 0.8605 - val_loss: 0.6237 - val_acc: 0.7360\n",
      "Epoch 26/50\n",
      "32/32 [==============================] - 7s 221ms/step - loss: 0.3411 - acc: 0.8545 - val_loss: 0.4938 - val_acc: 0.7720\n",
      "Epoch 27/50\n",
      "32/32 [==============================] - 7s 228ms/step - loss: 0.3147 - acc: 0.8700 - val_loss: 0.7781 - val_acc: 0.6340\n",
      "Epoch 28/50\n",
      "32/32 [==============================] - 7s 218ms/step - loss: 0.3303 - acc: 0.8670 - val_loss: 0.6308 - val_acc: 0.7140\n",
      "Epoch 29/50\n",
      "32/32 [==============================] - 7s 217ms/step - loss: 0.3087 - acc: 0.8775 - val_loss: 0.4246 - val_acc: 0.8340\n",
      "Epoch 30/50\n",
      "32/32 [==============================] - 7s 219ms/step - loss: 0.2876 - acc: 0.8860 - val_loss: 0.6510 - val_acc: 0.7240\n"
     ]
    }
   ],
   "source": [
    "es = EarlyStopping(patience = 10)\n",
    "\n",
    "history = model_2.fit(X_train_pad_2, y_train,\n",
    "         epochs = 50,\n",
    "         batch_size = 64,\n",
    "         verbose = 1,\n",
    "         validation_split=0.2,\n",
    "         callbacks=[es])"
   ]
  },
  {
   "cell_type": "code",
   "execution_count": 43,
   "metadata": {},
   "outputs": [
    {
     "name": "stdout",
     "output_type": "stream",
     "text": [
      "The accuracy evaluated on the test set is of 70.880%\n"
     ]
    }
   ],
   "source": [
    "res = model_2.evaluate(X_test_pad_2, y_test, verbose=0)\n",
    "\n",
    "print(f'The accuracy evaluated on the test set is of {res[1]*100:.3f}%')"
   ]
  },
  {
   "cell_type": "markdown",
   "metadata": {},
   "source": [
    "Because your new word2vec has been trained on a large corpus, it has a representation for many many words! Way more than with your small dataset, especially as you discarder words that were not present more than a given number of time in the train set. For that reason, you have way more embedded words in your train and test set, which makes each iteration longer than previously"
   ]
  }
 ],
 "metadata": {
  "kernelspec": {
   "display_name": "Python 3 (ipykernel)",
   "language": "python",
   "name": "python3"
  },
  "language_info": {
   "codemirror_mode": {
    "name": "ipython",
    "version": 3
   },
   "file_extension": ".py",
   "mimetype": "text/x-python",
   "name": "python",
   "nbconvert_exporter": "python",
   "pygments_lexer": "ipython3",
   "version": "3.8.6"
  },
  "toc": {
   "base_numbering": 1,
   "nav_menu": {},
   "number_sections": true,
   "sideBar": true,
   "skip_h1_title": false,
   "title_cell": "Table of Contents",
   "title_sidebar": "Contents",
   "toc_cell": false,
   "toc_position": {},
   "toc_section_display": true,
   "toc_window_display": false
  }
 },
 "nbformat": 4,
 "nbformat_minor": 2
}
