{
 "cells": [
  {
   "cell_type": "code",
   "execution_count": 2,
   "id": "3cae071f",
   "metadata": {},
   "outputs": [],
   "source": [
    "%load_ext autoreload\n",
    "%autoreload 2"
   ]
  },
  {
   "cell_type": "code",
   "execution_count": 3,
   "id": "859767ce",
   "metadata": {},
   "outputs": [
    {
     "name": "stderr",
     "output_type": "stream",
     "text": [
      "/tmp/ipykernel_6922/1251664015.py:6: DtypeWarning: Columns (1,2) have mixed types. Specify dtype option on import or set low_memory=False.\n",
      "  df = pd.read_csv('../raw_data/raw_en.csv')\n"
     ]
    },
    {
     "name": "stdout",
     "output_type": "stream",
     "text": [
      "<class 'pandas.core.frame.DataFrame'>\n",
      "RangeIndex: 457074 entries, 0 to 457073\n",
      "Data columns (total 8 columns):\n",
      " #   Column          Non-Null Count   Dtype  \n",
      "---  ------          --------------   -----  \n",
      " 0   name            457074 non-null  object \n",
      " 1   date            351179 non-null  object \n",
      " 2   recommendation  350678 non-null  object \n",
      " 3   review          457074 non-null  object \n",
      " 4   playing_hours   350678 non-null  float64\n",
      " 5   source          457074 non-null  object \n",
      " 6   stars           106396 non-null  float64\n",
      " 7   language        457074 non-null  object \n",
      "dtypes: float64(2), object(6)\n",
      "memory usage: 27.9+ MB\n"
     ]
    }
   ],
   "source": [
    "import pandas as pd\n",
    "import numpy as np\n",
    "import seaborn as sns\n",
    "import matplotlib.pyplot as plt\n",
    "\n",
    "df = pd.read_csv('../raw_data/raw_en.csv')\n",
    "\n",
    "df.info()"
   ]
  },
  {
   "cell_type": "code",
   "execution_count": 3,
   "id": "fbacf785",
   "metadata": {},
   "outputs": [
    {
     "data": {
      "text/plain": [
       "en    457074\n",
       "Name: language, dtype: int64"
      ]
     },
     "execution_count": 3,
     "metadata": {},
     "output_type": "execute_result"
    }
   ],
   "source": [
    "df['language'].value_counts()"
   ]
  },
  {
   "cell_type": "code",
   "execution_count": 5,
   "id": "03051fda",
   "metadata": {},
   "outputs": [],
   "source": [
    "df1 = df.head(10000)\n",
    "# creating small sample to train with"
   ]
  },
  {
   "cell_type": "code",
   "execution_count": 15,
   "id": "805a58c3",
   "metadata": {},
   "outputs": [
    {
     "name": "stderr",
     "output_type": "stream",
     "text": [
      "/tmp/ipykernel_6922/3206781970.py:14: SettingWithCopyWarning: \n",
      "A value is trying to be set on a copy of a slice from a DataFrame.\n",
      "Try using .loc[row_indexer,col_indexer] = value instead\n",
      "\n",
      "See the caveats in the documentation: https://pandas.pydata.org/pandas-docs/stable/user_guide/indexing.html#returning-a-view-versus-a-copy\n",
      "  df1['review_clean'] = pipe.transform(df1)[:,0]\n"
     ]
    }
   ],
   "source": [
    "from customerchurn.pre_pipeline import create_pre_pipe\n",
    "from customerchurn.pre_pipeline import series_prepro\n",
    "from sklearn.pipeline import make_pipeline\n",
    "from sklearn.pipeline import Pipeline\n",
    "from sklearn.compose import ColumnTransformer\n",
    "from sklearn.preprocessing import FunctionTransformer\n",
    "\n",
    "\n",
    "\n",
    "pipe = create_pre_pipe()\n",
    "\n",
    "pipe.fit(df1)\n",
    "\n",
    "df1['review_clean'] = pipe.transform(df1)[:,0]"
   ]
  },
  {
   "cell_type": "code",
   "execution_count": 14,
   "id": "cc9b0016",
   "metadata": {},
   "outputs": [
    {
     "data": {
      "text/plain": [
       "array(['gt played german reichgt declare war belgiumgt cant break belgium go francegt capitulate france order get belgiumgt get true blitzkrieg achievementthis game dad',\n",
       "       'good game although bit overpriced opinion id prefer playing game mod historical accuracy although vanilla version good aswell',\n",
       "       'review wrote one probably serious one wrote starter community game suck like every online game dont wan na talk theyre jerk wan na say suck camped blah blah blah rare get nice compliment people gamebut dont talk community either unlike online game one doesnt mic system dont worry hearing twelve year old cry baby raging nothing time talk people game beginning match start survivor end match killer survivor end chat one killer talk everyone match though mostly say gg good gameas survivor basically play every man sneaky say screw player try good team mate rescue get hook someone jerk chat match know save get hooked mostly play killer find fun playing survivor someone got ta play killer hear people enjoy playing survivor probably becuase survivor feel like horror game get team mate killer youre yourselfbut im really trying say game really great even though community suck ignore community get someone raging end say gg leave seeing didnt make argue waste time might make even mad even got last word aka gg give game wonder anyone actually read review actually take time write didnt wan na swear didnt see nothing censor heart steam like actually read let know leaving comment like someone read peice crap review yay',\n",
       "       ...,\n",
       "       'holy lag well look like great game computer though year old run game well unplayable lowest setting dont undrestand reasoning needing top graphic card play damn game play kind online game even better graphic play fine whats deal gamethe devs need consider figuring way make game playable general public shouldnt need lag way doe play skyrim warface warframe dc universe online without problem reason game kind computer requirementsi found fix tube fix lag dead daylight play fpsthat helped game play fold actually play enjoy game',\n",
       "       'cant recommend game queue friendsedit changed positive since game shaping although still ha trouble devs trying clearn deserve positive',\n",
       "       'product received free good good beacause game horror'],\n",
       "      dtype=object)"
      ]
     },
     "execution_count": 14,
     "metadata": {},
     "output_type": "execute_result"
    }
   ],
   "source": [
    "df2[:,0]"
   ]
  },
  {
   "cell_type": "code",
   "execution_count": null,
   "id": "02d040b4",
   "metadata": {},
   "outputs": [],
   "source": [
    "#when I run the"
   ]
  }
 ],
 "metadata": {
  "kernelspec": {
   "display_name": "Python 3 (ipykernel)",
   "language": "python",
   "name": "python3"
  },
  "language_info": {
   "codemirror_mode": {
    "name": "ipython",
    "version": 3
   },
   "file_extension": ".py",
   "mimetype": "text/x-python",
   "name": "python",
   "nbconvert_exporter": "python",
   "pygments_lexer": "ipython3",
   "version": "3.8.6"
  },
  "toc": {
   "base_numbering": 1,
   "nav_menu": {},
   "number_sections": true,
   "sideBar": true,
   "skip_h1_title": false,
   "title_cell": "Table of Contents",
   "title_sidebar": "Contents",
   "toc_cell": false,
   "toc_position": {},
   "toc_section_display": true,
   "toc_window_display": false
  }
 },
 "nbformat": 4,
 "nbformat_minor": 5
}
