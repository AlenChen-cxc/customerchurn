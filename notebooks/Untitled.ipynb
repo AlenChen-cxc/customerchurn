{
 "cells": [
  {
   "cell_type": "code",
   "execution_count": 1,
   "id": "859767ce",
   "metadata": {},
   "outputs": [
    {
     "name": "stderr",
     "output_type": "stream",
     "text": [
      "/tmp/ipykernel_3552/4288383160.py:6: DtypeWarning: Columns (2,3) have mixed types. Specify dtype option on import or set low_memory=False.\n",
      "  df = pd.read_csv('../raw_data/concat.csv')\n"
     ]
    },
    {
     "name": "stdout",
     "output_type": "stream",
     "text": [
      "<class 'pandas.core.frame.DataFrame'>\n",
      "RangeIndex: 575716 entries, 0 to 575715\n",
      "Data columns (total 9 columns):\n",
      " #   Column          Non-Null Count   Dtype  \n",
      "---  ------          --------------   -----  \n",
      " 0   Unnamed: 0      575716 non-null  int64  \n",
      " 1   name            575716 non-null  object \n",
      " 2   date            435396 non-null  object \n",
      " 3   recommendation  434891 non-null  object \n",
      " 4   review          574197 non-null  object \n",
      " 5   playing_hours   434891 non-null  float64\n",
      " 6   source          575716 non-null  object \n",
      " 7   stars           140825 non-null  float64\n",
      " 8   language        575716 non-null  object \n",
      "dtypes: float64(2), int64(1), object(6)\n",
      "memory usage: 39.5+ MB\n"
     ]
    }
   ],
   "source": [
    "import pandas as pd\n",
    "import numpy as np\n",
    "import seaborn as sns\n",
    "import matplotlib.pyplot as plt\n",
    "\n",
    "df = pd.read_csv('../raw_data/concat.csv')\n",
    "\n",
    "df.info()"
   ]
  },
  {
   "cell_type": "code",
   "execution_count": 3,
   "id": "fbacf785",
   "metadata": {},
   "outputs": [
    {
     "data": {
      "text/plain": [
       "en         458053\n",
       "es          14979\n",
       "so          11806\n",
       "de           8918\n",
       "af           7049\n",
       "tl           6560\n",
       "fr           5429\n",
       "ro           4735\n",
       "no           4462\n",
       "UNKNOWN      4168\n",
       "pt           4102\n",
       "da           4032\n",
       "zh-cn        4019\n",
       "ca           3968\n",
       "cy           3681\n",
       "pl           2814\n",
       "nl           2584\n",
       "ru           2463\n",
       "id           2210\n",
       "it           2168\n",
       "sw           1991\n",
       "tr           1650\n",
       "vi           1452\n",
       "et           1425\n",
       "sl           1260\n",
       "sq           1247\n",
       "ko           1167\n",
       "hu           1153\n",
       "hr           1131\n",
       "sv           1106\n",
       "fi            900\n",
       "sk            707\n",
       "cs            587\n",
       "lt            395\n",
       "th            365\n",
       "lv            296\n",
       "bg            135\n",
       "ja            120\n",
       "ar            115\n",
       "uk             79\n",
       "he             68\n",
       "mk             59\n",
       "zh-tw          54\n",
       "fa             22\n",
       "el             20\n",
       "ur              4\n",
       "kn              2\n",
       "hi              2\n",
       "bn              1\n",
       "ta              1\n",
       "ml              1\n",
       "te              1\n",
       "Name: language, dtype: int64"
      ]
     },
     "execution_count": 3,
     "metadata": {},
     "output_type": "execute_result"
    }
   ],
   "source": [
    "df['language'].value_counts()"
   ]
  },
  {
   "cell_type": "code",
   "execution_count": null,
   "id": "805a58c3",
   "metadata": {},
   "outputs": [],
   "source": []
  }
 ],
 "metadata": {
  "kernelspec": {
   "display_name": "Python 3 (ipykernel)",
   "language": "python",
   "name": "python3"
  },
  "language_info": {
   "codemirror_mode": {
    "name": "ipython",
    "version": 3
   },
   "file_extension": ".py",
   "mimetype": "text/x-python",
   "name": "python",
   "nbconvert_exporter": "python",
   "pygments_lexer": "ipython3",
   "version": "3.8.6"
  },
  "toc": {
   "base_numbering": 1,
   "nav_menu": {},
   "number_sections": true,
   "sideBar": true,
   "skip_h1_title": false,
   "title_cell": "Table of Contents",
   "title_sidebar": "Contents",
   "toc_cell": false,
   "toc_position": {},
   "toc_section_display": true,
   "toc_window_display": false
  }
 },
 "nbformat": 4,
 "nbformat_minor": 5
}
