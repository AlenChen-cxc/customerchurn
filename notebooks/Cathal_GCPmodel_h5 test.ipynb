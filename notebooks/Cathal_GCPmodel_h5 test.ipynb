{
 "cells": [
  {
   "cell_type": "code",
   "execution_count": 1,
   "id": "16a429ff",
   "metadata": {},
   "outputs": [
    {
     "name": "stderr",
     "output_type": "stream",
     "text": [
      "2022-02-24 19:52:33.804758: W tensorflow/stream_executor/platform/default/dso_loader.cc:64] Could not load dynamic library 'libcudart.so.11.0'; dlerror: libcudart.so.11.0: cannot open shared object file: No such file or directory\n",
      "2022-02-24 19:52:33.804809: I tensorflow/stream_executor/cuda/cudart_stub.cc:29] Ignore above cudart dlerror if you do not have a GPU set up on your machine.\n"
     ]
    }
   ],
   "source": [
    "import tensorflow as tf\n",
    "import os\n",
    "import tensorflow_hub as hub\n",
    "import tensorflow_text as text"
   ]
  },
  {
   "cell_type": "code",
   "execution_count": 5,
   "id": "0f8aed7e",
   "metadata": {},
   "outputs": [],
   "source": [
    "import pandas as pd \n",
    "from sklearn.model_selection import train_test_split"
   ]
  },
  {
   "cell_type": "code",
   "execution_count": 7,
   "id": "b9001513",
   "metadata": {},
   "outputs": [
    {
     "data": {
      "text/plain": [
       "['keras_metadata.pb',\n",
       " 'saved_model.pb',\n",
       " 'keras_metadata.pb:Zone.Identifier',\n",
       " 'assets',\n",
       " 'variables',\n",
       " 'saved_model.pb:Zone.Identifier']"
      ]
     },
     "execution_count": 7,
     "metadata": {},
     "output_type": "execute_result"
    }
   ],
   "source": [
    "os.listdir('../models/sentiment_model1')"
   ]
  },
  {
   "cell_type": "code",
   "execution_count": 8,
   "id": "6165a687",
   "metadata": {},
   "outputs": [
    {
     "data": {
      "text/plain": [
       "['vocab.txt:Zone.Identifier', 'vocab.txt']"
      ]
     },
     "execution_count": 8,
     "metadata": {},
     "output_type": "execute_result"
    }
   ],
   "source": [
    "os.listdir('../models/sentiment_model1/assets')"
   ]
  },
  {
   "cell_type": "code",
   "execution_count": 9,
   "id": "9beb8933",
   "metadata": {},
   "outputs": [
    {
     "data": {
      "text/plain": [
       "['variables.index:Zone.Identifier',\n",
       " 'variables.index',\n",
       " 'variables.data-00000-of-00001:Zone.Identifier',\n",
       " 'variables.data-00000-of-00001']"
      ]
     },
     "execution_count": 9,
     "metadata": {},
     "output_type": "execute_result"
    }
   ],
   "source": [
    "os.listdir('../models/sentiment_model1/variables')"
   ]
  },
  {
   "cell_type": "code",
   "execution_count": 12,
   "id": "2c727b70",
   "metadata": {},
   "outputs": [
    {
     "ename": "NotADirectoryError",
     "evalue": "[Errno 20] Not a directory: '../models/sentiment_model1/saved_model.pb'",
     "output_type": "error",
     "traceback": [
      "\u001b[0;31m---------------------------------------------------------------------------\u001b[0m",
      "\u001b[0;31mNotADirectoryError\u001b[0m                        Traceback (most recent call last)",
      "Input \u001b[0;32mIn [12]\u001b[0m, in \u001b[0;36m<module>\u001b[0;34m\u001b[0m\n\u001b[0;32m----> 1\u001b[0m \u001b[43mos\u001b[49m\u001b[38;5;241;43m.\u001b[39;49m\u001b[43mlistdir\u001b[49m\u001b[43m(\u001b[49m\u001b[38;5;124;43m'\u001b[39;49m\u001b[38;5;124;43m../models/sentiment_model1/saved_model.pb\u001b[39;49m\u001b[38;5;124;43m'\u001b[39;49m\u001b[43m)\u001b[49m\n",
      "\u001b[0;31mNotADirectoryError\u001b[0m: [Errno 20] Not a directory: '../models/sentiment_model1/saved_model.pb'"
     ]
    }
   ],
   "source": [
    "os.listdir('../models/sentiment_model1/saved_model.pb')"
   ]
  },
  {
   "cell_type": "code",
   "execution_count": 16,
   "id": "e6c935aa",
   "metadata": {},
   "outputs": [
    {
     "name": "stdout",
     "output_type": "stream",
     "text": [
      "<generator object walk at 0x7fe81967c9e0>\n"
     ]
    }
   ],
   "source": [
    "os.walk('../models/sentiment_model1')"
   ]
  },
  {
   "cell_type": "code",
   "execution_count": 26,
   "id": "a2d2ef9b",
   "metadata": {},
   "outputs": [
    {
     "name": "stdout",
     "output_type": "stream",
     "text": [
      "Parent folder: ../models/sentiment_model1\n",
      "Dirname: assets\n",
      "Parent folder: ../models/sentiment_model1\n",
      "Dirname: variables\n",
      "Parent folder: ../models/sentiment_model1\n",
      "Filename: keras_metadata.pb\n",
      "Parent folder: ../models/sentiment_model1\n",
      "Filename: saved_model.pb\n",
      "Parent folder: ../models/sentiment_model1\n",
      "Filename: keras_metadata.pb:Zone.Identifier\n",
      "Parent folder: ../models/sentiment_model1\n",
      "Filename: saved_model.pb:Zone.Identifier\n",
      "Parent folder: ../models/sentiment_model1/assets\n",
      "Filename: vocab.txt:Zone.Identifier\n",
      "Parent folder: ../models/sentiment_model1/assets\n",
      "Filename: vocab.txt\n",
      "Parent folder: ../models/sentiment_model1/variables\n",
      "Filename: variables.index:Zone.Identifier\n",
      "Parent folder: ../models/sentiment_model1/variables\n",
      "Filename: variables.index\n",
      "Parent folder: ../models/sentiment_model1/variables\n",
      "Filename: variables.data-00000-of-00001:Zone.Identifier\n",
      "Parent folder: ../models/sentiment_model1/variables\n",
      "Filename: variables.data-00000-of-00001\n",
      "['variables.index:Zone.Identifier', 'variables.index', 'variables.data-00000-of-00001:Zone.Identifier', 'variables.data-00000-of-00001']\n"
     ]
    }
   ],
   "source": [
    "for parent, dirnames, filenames in os.walk('../models/sentiment_model1'):\n",
    "    lst =[]\n",
    "    # Case1: traversal the directories\n",
    "\n",
    "    for dirname in dirnames:\n",
    "        print(\"Parent folder:\", parent)\n",
    "        print(\"Dirname:\", dirname)\n",
    "    # Case2: traversal the files\n",
    "    for filename in filenames:\n",
    "        print(\"Parent folder:\", parent)\n",
    "        print(\"Filename:\", filename)\n",
    "        lst.append(filename)\n",
    "\n",
    "print(lst)"
   ]
  },
  {
   "cell_type": "code",
   "execution_count": 27,
   "id": "0921b81c",
   "metadata": {},
   "outputs": [
    {
     "data": {
      "text/plain": [
       "['../models/sentiment_model1keras_metadata.pb',\n",
       " '../models/sentiment_model1saved_model.pb',\n",
       " '../models/sentiment_model1keras_metadata.pb:Zone.Identifier',\n",
       " '../models/sentiment_model1saved_model.pb:Zone.Identifier',\n",
       " '../models/sentiment_model1/assetsvocab.txt:Zone.Identifier',\n",
       " '../models/sentiment_model1/assetsvocab.txt',\n",
       " '../models/sentiment_model1/variablesvariables.index:Zone.Identifier',\n",
       " '../models/sentiment_model1/variablesvariables.index',\n",
       " '../models/sentiment_model1/variablesvariables.data-00000-of-00001:Zone.Identifier',\n",
       " '../models/sentiment_model1/variablesvariables.data-00000-of-00001']"
      ]
     },
     "execution_count": 27,
     "metadata": {},
     "output_type": "execute_result"
    }
   ],
   "source": [
    "ls =[]\n",
    "for parent, dirnames, filenames in os.walk('../models/sentiment_model1'):\n",
    "    for filename in filenames:\n",
    "        ls.append(parent + filename)\n",
    "        \n",
    "ls\n"
   ]
  },
  {
   "cell_type": "code",
   "execution_count": null,
   "id": "1fd3edb8",
   "metadata": {},
   "outputs": [],
   "source": []
  },
  {
   "cell_type": "code",
   "execution_count": null,
   "id": "a5ca3dd5",
   "metadata": {},
   "outputs": [],
   "source": []
  },
  {
   "cell_type": "code",
   "execution_count": 3,
   "id": "b733d783",
   "metadata": {},
   "outputs": [
    {
     "ename": "ValueError",
     "evalue": "Unknown layer: KerasLayer. Please ensure this object is passed to the `custom_objects` argument. See https://www.tensorflow.org/guide/keras/save_and_serialize#registering_the_custom_object for details.",
     "output_type": "error",
     "traceback": [
      "\u001b[0;31m---------------------------------------------------------------------------\u001b[0m",
      "\u001b[0;31mValueError\u001b[0m                                Traceback (most recent call last)",
      "Input \u001b[0;32mIn [3]\u001b[0m, in \u001b[0;36m<module>\u001b[0;34m\u001b[0m\n\u001b[0;32m----> 1\u001b[0m model \u001b[38;5;241m=\u001b[39m \u001b[43mtf\u001b[49m\u001b[38;5;241;43m.\u001b[39;49m\u001b[43mkeras\u001b[49m\u001b[38;5;241;43m.\u001b[39;49m\u001b[43mmodels\u001b[49m\u001b[38;5;241;43m.\u001b[39;49m\u001b[43mload_model\u001b[49m\u001b[43m(\u001b[49m\u001b[38;5;124;43m'\u001b[39;49m\u001b[38;5;124;43m../models/models_customerchurn_v2_my_model.h5\u001b[39;49m\u001b[38;5;124;43m'\u001b[39;49m\u001b[43m)\u001b[49m\n",
      "File \u001b[0;32m~/.pyenv/versions/3.8.6/envs/customerchurn/lib/python3.8/site-packages/keras/utils/traceback_utils.py:67\u001b[0m, in \u001b[0;36mfilter_traceback.<locals>.error_handler\u001b[0;34m(*args, **kwargs)\u001b[0m\n\u001b[1;32m     65\u001b[0m \u001b[38;5;28;01mexcept\u001b[39;00m \u001b[38;5;167;01mException\u001b[39;00m \u001b[38;5;28;01mas\u001b[39;00m e:  \u001b[38;5;66;03m# pylint: disable=broad-except\u001b[39;00m\n\u001b[1;32m     66\u001b[0m   filtered_tb \u001b[38;5;241m=\u001b[39m _process_traceback_frames(e\u001b[38;5;241m.\u001b[39m__traceback__)\n\u001b[0;32m---> 67\u001b[0m   \u001b[38;5;28;01mraise\u001b[39;00m e\u001b[38;5;241m.\u001b[39mwith_traceback(filtered_tb) \u001b[38;5;28;01mfrom\u001b[39;00m \u001b[38;5;28mNone\u001b[39m\n\u001b[1;32m     68\u001b[0m \u001b[38;5;28;01mfinally\u001b[39;00m:\n\u001b[1;32m     69\u001b[0m   \u001b[38;5;28;01mdel\u001b[39;00m filtered_tb\n",
      "File \u001b[0;32m~/.pyenv/versions/3.8.6/envs/customerchurn/lib/python3.8/site-packages/keras/utils/generic_utils.py:562\u001b[0m, in \u001b[0;36mclass_and_config_for_serialized_keras_object\u001b[0;34m(config, module_objects, custom_objects, printable_module_name)\u001b[0m\n\u001b[1;32m    560\u001b[0m \u001b[38;5;28mcls\u001b[39m \u001b[38;5;241m=\u001b[39m get_registered_object(class_name, custom_objects, module_objects)\n\u001b[1;32m    561\u001b[0m \u001b[38;5;28;01mif\u001b[39;00m \u001b[38;5;28mcls\u001b[39m \u001b[38;5;129;01mis\u001b[39;00m \u001b[38;5;28;01mNone\u001b[39;00m:\n\u001b[0;32m--> 562\u001b[0m   \u001b[38;5;28;01mraise\u001b[39;00m \u001b[38;5;167;01mValueError\u001b[39;00m(\n\u001b[1;32m    563\u001b[0m       \u001b[38;5;124mf\u001b[39m\u001b[38;5;124m'\u001b[39m\u001b[38;5;124mUnknown \u001b[39m\u001b[38;5;132;01m{\u001b[39;00mprintable_module_name\u001b[38;5;132;01m}\u001b[39;00m\u001b[38;5;124m: \u001b[39m\u001b[38;5;132;01m{\u001b[39;00mclass_name\u001b[38;5;132;01m}\u001b[39;00m\u001b[38;5;124m. Please ensure this \u001b[39m\u001b[38;5;124m'\u001b[39m\n\u001b[1;32m    564\u001b[0m       \u001b[38;5;124m'\u001b[39m\u001b[38;5;124mobject is passed to the `custom_objects` argument. See \u001b[39m\u001b[38;5;124m'\u001b[39m\n\u001b[1;32m    565\u001b[0m       \u001b[38;5;124m'\u001b[39m\u001b[38;5;124mhttps://www.tensorflow.org/guide/keras/save_and_serialize\u001b[39m\u001b[38;5;124m'\u001b[39m\n\u001b[1;32m    566\u001b[0m       \u001b[38;5;124m'\u001b[39m\u001b[38;5;124m#registering_the_custom_object for details.\u001b[39m\u001b[38;5;124m'\u001b[39m)\n\u001b[1;32m    568\u001b[0m cls_config \u001b[38;5;241m=\u001b[39m config[\u001b[38;5;124m'\u001b[39m\u001b[38;5;124mconfig\u001b[39m\u001b[38;5;124m'\u001b[39m]\n\u001b[1;32m    569\u001b[0m \u001b[38;5;66;03m# Check if `cls_config` is a list. If it is a list, return the class and the\u001b[39;00m\n\u001b[1;32m    570\u001b[0m \u001b[38;5;66;03m# associated class configs for recursively deserialization. This case will\u001b[39;00m\n\u001b[1;32m    571\u001b[0m \u001b[38;5;66;03m# happen on the old version of sequential model (e.g. `keras_version` ==\u001b[39;00m\n\u001b[1;32m    572\u001b[0m \u001b[38;5;66;03m# \"2.0.6\"), which is serialized in a different structure, for example\u001b[39;00m\n\u001b[1;32m    573\u001b[0m \u001b[38;5;66;03m# \"{'class_name': 'Sequential',\u001b[39;00m\n\u001b[1;32m    574\u001b[0m \u001b[38;5;66;03m#   'config': [{'class_name': 'Embedding', 'config': ...}, {}, ...]}\".\u001b[39;00m\n",
      "\u001b[0;31mValueError\u001b[0m: Unknown layer: KerasLayer. Please ensure this object is passed to the `custom_objects` argument. See https://www.tensorflow.org/guide/keras/save_and_serialize#registering_the_custom_object for details."
     ]
    }
   ],
   "source": [
    "model = tf.keras.models.load_model('../models/models_customerchurn_v2_my_model.h5')\n",
    "\n"
   ]
  },
  {
   "cell_type": "code",
   "execution_count": 6,
   "id": "b5b4a517",
   "metadata": {},
   "outputs": [
    {
     "name": "stderr",
     "output_type": "stream",
     "text": [
      "/tmp/ipykernel_19128/984551485.py:6: DtypeWarning: Columns (1,2) have mixed types. Specify dtype option on import or set low_memory=False.\n",
      "  df1 = pd.read_csv('../raw_data/raw_en.csv')\n"
     ]
    }
   ],
   "source": [
    "import pandas as pd\n",
    "import numpy as np\n",
    "import seaborn as sns\n",
    "import matplotlib.pyplot as plt\n",
    "\n",
    "df1 = pd.read_csv('../raw_data/raw_en.csv')"
   ]
  },
  {
   "cell_type": "code",
   "execution_count": 48,
   "id": "222ce1b8",
   "metadata": {},
   "outputs": [
    {
     "data": {
      "text/html": [
       "<div>\n",
       "<style scoped>\n",
       "    .dataframe tbody tr th:only-of-type {\n",
       "        vertical-align: middle;\n",
       "    }\n",
       "\n",
       "    .dataframe tbody tr th {\n",
       "        vertical-align: top;\n",
       "    }\n",
       "\n",
       "    .dataframe thead th {\n",
       "        text-align: right;\n",
       "    }\n",
       "</style>\n",
       "<table border=\"1\" class=\"dataframe\">\n",
       "  <thead>\n",
       "    <tr style=\"text-align: right;\">\n",
       "      <th></th>\n",
       "      <th>name</th>\n",
       "      <th>date</th>\n",
       "      <th>recommendation</th>\n",
       "      <th>review</th>\n",
       "      <th>playing_hours</th>\n",
       "      <th>source</th>\n",
       "      <th>stars</th>\n",
       "      <th>language</th>\n",
       "    </tr>\n",
       "  </thead>\n",
       "  <tbody>\n",
       "    <tr>\n",
       "      <th>0</th>\n",
       "      <td>Expansion - Hearts of Iron IV: Man the Guns</td>\n",
       "      <td>2019-02-10</td>\n",
       "      <td>Recommended</td>\n",
       "      <td>&amp;gt Played as German Reich&amp;gt Declare war on B...</td>\n",
       "      <td>578.0</td>\n",
       "      <td>steam</td>\n",
       "      <td>NaN</td>\n",
       "      <td>en</td>\n",
       "    </tr>\n",
       "    <tr>\n",
       "      <th>1</th>\n",
       "      <td>Expansion - Hearts of Iron IV: Man the Guns</td>\n",
       "      <td>2019-02-07</td>\n",
       "      <td>Recommended</td>\n",
       "      <td>Very good game although a bit overpriced in my...</td>\n",
       "      <td>892.0</td>\n",
       "      <td>steam</td>\n",
       "      <td>NaN</td>\n",
       "      <td>en</td>\n",
       "    </tr>\n",
       "    <tr>\n",
       "      <th>2</th>\n",
       "      <td>Dead by Daylight</td>\n",
       "      <td>2018-06-14</td>\n",
       "      <td>Recommended</td>\n",
       "      <td>Out of all the reviews I wrote This one is pro...</td>\n",
       "      <td>676.0</td>\n",
       "      <td>steam</td>\n",
       "      <td>NaN</td>\n",
       "      <td>en</td>\n",
       "    </tr>\n",
       "    <tr>\n",
       "      <th>3</th>\n",
       "      <td>Dead by Daylight</td>\n",
       "      <td>2017-06-20</td>\n",
       "      <td>Recommended</td>\n",
       "      <td>Disclaimer I survivor main. I play games for f...</td>\n",
       "      <td>612.0</td>\n",
       "      <td>steam</td>\n",
       "      <td>NaN</td>\n",
       "      <td>en</td>\n",
       "    </tr>\n",
       "    <tr>\n",
       "      <th>4</th>\n",
       "      <td>Dead by Daylight</td>\n",
       "      <td>2016-12-12</td>\n",
       "      <td>Recommended</td>\n",
       "      <td>ENGLISH After playing for more than two years ...</td>\n",
       "      <td>2694.0</td>\n",
       "      <td>steam</td>\n",
       "      <td>NaN</td>\n",
       "      <td>en</td>\n",
       "    </tr>\n",
       "    <tr>\n",
       "      <th>...</th>\n",
       "      <td>...</td>\n",
       "      <td>...</td>\n",
       "      <td>...</td>\n",
       "      <td>...</td>\n",
       "      <td>...</td>\n",
       "      <td>...</td>\n",
       "      <td>...</td>\n",
       "      <td>...</td>\n",
       "    </tr>\n",
       "    <tr>\n",
       "      <th>457069</th>\n",
       "      <td>zika</td>\n",
       "      <td>NaN</td>\n",
       "      <td>NaN</td>\n",
       "      <td>Trendy topic with talks from expertises in the...</td>\n",
       "      <td>NaN</td>\n",
       "      <td>coursera</td>\n",
       "      <td>4.0</td>\n",
       "      <td>en</td>\n",
       "    </tr>\n",
       "    <tr>\n",
       "      <th>457070</th>\n",
       "      <td>zika</td>\n",
       "      <td>NaN</td>\n",
       "      <td>NaN</td>\n",
       "      <td>Wonderful! Simple and clear language, good ins...</td>\n",
       "      <td>NaN</td>\n",
       "      <td>coursera</td>\n",
       "      <td>5.0</td>\n",
       "      <td>en</td>\n",
       "    </tr>\n",
       "    <tr>\n",
       "      <th>457071</th>\n",
       "      <td>zika</td>\n",
       "      <td>NaN</td>\n",
       "      <td>NaN</td>\n",
       "      <td>an interesting and fun course. thanks. dr quincy</td>\n",
       "      <td>NaN</td>\n",
       "      <td>coursera</td>\n",
       "      <td>5.0</td>\n",
       "      <td>en</td>\n",
       "    </tr>\n",
       "    <tr>\n",
       "      <th>457072</th>\n",
       "      <td>zika</td>\n",
       "      <td>NaN</td>\n",
       "      <td>NaN</td>\n",
       "      <td>very broad perspective, up to date information...</td>\n",
       "      <td>NaN</td>\n",
       "      <td>coursera</td>\n",
       "      <td>4.0</td>\n",
       "      <td>en</td>\n",
       "    </tr>\n",
       "    <tr>\n",
       "      <th>457073</th>\n",
       "      <td>zika</td>\n",
       "      <td>NaN</td>\n",
       "      <td>NaN</td>\n",
       "      <td>An informative course on the social and financ...</td>\n",
       "      <td>NaN</td>\n",
       "      <td>coursera</td>\n",
       "      <td>4.0</td>\n",
       "      <td>en</td>\n",
       "    </tr>\n",
       "  </tbody>\n",
       "</table>\n",
       "<p>457074 rows × 8 columns</p>\n",
       "</div>"
      ],
      "text/plain": [
       "                                               name        date  \\\n",
       "0       Expansion - Hearts of Iron IV: Man the Guns  2019-02-10   \n",
       "1       Expansion - Hearts of Iron IV: Man the Guns  2019-02-07   \n",
       "2                                  Dead by Daylight  2018-06-14   \n",
       "3                                  Dead by Daylight  2017-06-20   \n",
       "4                                  Dead by Daylight  2016-12-12   \n",
       "...                                             ...         ...   \n",
       "457069                                         zika         NaN   \n",
       "457070                                         zika         NaN   \n",
       "457071                                         zika         NaN   \n",
       "457072                                         zika         NaN   \n",
       "457073                                         zika         NaN   \n",
       "\n",
       "       recommendation                                             review  \\\n",
       "0         Recommended  &gt Played as German Reich&gt Declare war on B...   \n",
       "1         Recommended  Very good game although a bit overpriced in my...   \n",
       "2         Recommended  Out of all the reviews I wrote This one is pro...   \n",
       "3         Recommended  Disclaimer I survivor main. I play games for f...   \n",
       "4         Recommended  ENGLISH After playing for more than two years ...   \n",
       "...               ...                                                ...   \n",
       "457069            NaN  Trendy topic with talks from expertises in the...   \n",
       "457070            NaN  Wonderful! Simple and clear language, good ins...   \n",
       "457071            NaN   an interesting and fun course. thanks. dr quincy   \n",
       "457072            NaN  very broad perspective, up to date information...   \n",
       "457073            NaN  An informative course on the social and financ...   \n",
       "\n",
       "        playing_hours    source  stars language  \n",
       "0               578.0     steam    NaN       en  \n",
       "1               892.0     steam    NaN       en  \n",
       "2               676.0     steam    NaN       en  \n",
       "3               612.0     steam    NaN       en  \n",
       "4              2694.0     steam    NaN       en  \n",
       "...               ...       ...    ...      ...  \n",
       "457069            NaN  coursera    4.0       en  \n",
       "457070            NaN  coursera    5.0       en  \n",
       "457071            NaN  coursera    5.0       en  \n",
       "457072            NaN  coursera    4.0       en  \n",
       "457073            NaN  coursera    4.0       en  \n",
       "\n",
       "[457074 rows x 8 columns]"
      ]
     },
     "execution_count": 48,
     "metadata": {},
     "output_type": "execute_result"
    }
   ],
   "source": [
    "df1"
   ]
  },
  {
   "cell_type": "code",
   "execution_count": 47,
   "id": "fd251825",
   "metadata": {},
   "outputs": [
    {
     "data": {
      "text/plain": [
       "<bound method IndexOpsMixin.value_counts of 0         Recommended\n",
       "1         Recommended\n",
       "2         Recommended\n",
       "3         Recommended\n",
       "4         Recommended\n",
       "             ...     \n",
       "457069            NaN\n",
       "457070            NaN\n",
       "457071            NaN\n",
       "457072            NaN\n",
       "457073            NaN\n",
       "Name: recommendation, Length: 457074, dtype: object>"
      ]
     },
     "execution_count": 47,
     "metadata": {},
     "output_type": "execute_result"
    }
   ],
   "source": [
    "df1.recommendation.value_counts"
   ]
  },
  {
   "cell_type": "code",
   "execution_count": 4,
   "id": "c09dba60",
   "metadata": {},
   "outputs": [],
   "source": [
    "df2 = pd.read_csv('../raw_data/yelp_Financial Services_pos.csv')\n",
    "df3 = pd.read_csv('../raw_data/yelp_Financial Services_neg.csv')\n",
    "df4 = pd.read_csv('../raw_data/yelp_Real Estate_pos.csv')\n",
    "df5 = pd.read_csv('../raw_data/yelp_Real Estate_neg.csv')"
   ]
  },
  {
   "cell_type": "code",
   "execution_count": 10,
   "id": "63e7192f",
   "metadata": {},
   "outputs": [
    {
     "data": {
      "text/plain": [
       "0    Adulting can suck at times not to mention insu...\n",
       "1    This was the best government office experience...\n",
       "2    My work banks with this branch... so I'm there...\n",
       "3    I recently worked with Paul from Post Creek Mo...\n",
       "4    This is my first time visiting this Wells Farg...\n",
       "5    I stopped by here on a Sunday afternoon becaus...\n",
       "6    I would definitely recommend Rocky to most of ...\n",
       "7    I was searching for car insurance for my daugh...\n",
       "8    I called Greenway and they helped me out with ...\n",
       "9    This has been my personal and business branch ...\n",
       "Name: review, dtype: object"
      ]
     },
     "execution_count": 10,
     "metadata": {},
     "output_type": "execute_result"
    }
   ],
   "source": [
    "df2.head(10).review\n"
   ]
  },
  {
   "cell_type": "code",
   "execution_count": 11,
   "id": "edaa5780",
   "metadata": {},
   "outputs": [
    {
     "data": {
      "text/plain": [
       "0    Do not try to get a land loan from these peopl...\n",
       "1    Don't ever do business with State Farm! Horrib...\n",
       "2    I hate to write a poor review because the tell...\n",
       "3    I wish I could rate this location a negative n...\n",
       "4    They were our only option and treated us as su...\n",
       "5    These people don't care about their customers ...\n",
       "6    Honestly I don't know how this place has a rat...\n",
       "7    Dealing with Amplify is like a very, very, ver...\n",
       "8    Went in to cash a check written to me on an ac...\n",
       "9    Do not call that number. It's fake. It leads t...\n",
       "Name: review, dtype: object"
      ]
     },
     "execution_count": 11,
     "metadata": {},
     "output_type": "execute_result"
    }
   ],
   "source": [
    "df3.head(10).review"
   ]
  },
  {
   "cell_type": "code",
   "execution_count": 36,
   "id": "a6eed24f",
   "metadata": {},
   "outputs": [
    {
     "data": {
      "text/html": [
       "<div>\n",
       "<style scoped>\n",
       "    .dataframe tbody tr th:only-of-type {\n",
       "        vertical-align: middle;\n",
       "    }\n",
       "\n",
       "    .dataframe tbody tr th {\n",
       "        vertical-align: top;\n",
       "    }\n",
       "\n",
       "    .dataframe thead th {\n",
       "        text-align: right;\n",
       "    }\n",
       "</style>\n",
       "<table border=\"1\" class=\"dataframe\">\n",
       "  <thead>\n",
       "    <tr style=\"text-align: right;\">\n",
       "      <th></th>\n",
       "      <th>Unnamed: 0</th>\n",
       "      <th>review</th>\n",
       "      <th>recommended</th>\n",
       "    </tr>\n",
       "  </thead>\n",
       "  <tbody>\n",
       "    <tr>\n",
       "      <th>0</th>\n",
       "      <td>1788</td>\n",
       "      <td>Adulting can suck at times not to mention insu...</td>\n",
       "      <td>1</td>\n",
       "    </tr>\n",
       "    <tr>\n",
       "      <th>1</th>\n",
       "      <td>2009</td>\n",
       "      <td>This was the best government office experience...</td>\n",
       "      <td>1</td>\n",
       "    </tr>\n",
       "    <tr>\n",
       "      <th>2</th>\n",
       "      <td>5110</td>\n",
       "      <td>My work banks with this branch... so I'm there...</td>\n",
       "      <td>1</td>\n",
       "    </tr>\n",
       "    <tr>\n",
       "      <th>3</th>\n",
       "      <td>6366</td>\n",
       "      <td>I recently worked with Paul from Post Creek Mo...</td>\n",
       "      <td>1</td>\n",
       "    </tr>\n",
       "    <tr>\n",
       "      <th>4</th>\n",
       "      <td>6396</td>\n",
       "      <td>This is my first time visiting this Wells Farg...</td>\n",
       "      <td>1</td>\n",
       "    </tr>\n",
       "    <tr>\n",
       "      <th>...</th>\n",
       "      <td>...</td>\n",
       "      <td>...</td>\n",
       "      <td>...</td>\n",
       "    </tr>\n",
       "    <tr>\n",
       "      <th>14366</th>\n",
       "      <td>498119</td>\n",
       "      <td>I really like this Credit Union.  They have al...</td>\n",
       "      <td>1</td>\n",
       "    </tr>\n",
       "    <tr>\n",
       "      <th>14367</th>\n",
       "      <td>498464</td>\n",
       "      <td>I'm a Realtor and used this terrific office fo...</td>\n",
       "      <td>1</td>\n",
       "    </tr>\n",
       "    <tr>\n",
       "      <th>14368</th>\n",
       "      <td>498480</td>\n",
       "      <td>I have been doing my taxes with Dmitry for sev...</td>\n",
       "      <td>1</td>\n",
       "    </tr>\n",
       "    <tr>\n",
       "      <th>14369</th>\n",
       "      <td>498626</td>\n",
       "      <td>My wife and I just closed on our first home in...</td>\n",
       "      <td>1</td>\n",
       "    </tr>\n",
       "    <tr>\n",
       "      <th>14370</th>\n",
       "      <td>499564</td>\n",
       "      <td>Jim Saxton-State Farm is great. \\nI recently m...</td>\n",
       "      <td>1</td>\n",
       "    </tr>\n",
       "  </tbody>\n",
       "</table>\n",
       "<p>14371 rows × 3 columns</p>\n",
       "</div>"
      ],
      "text/plain": [
       "       Unnamed: 0                                             review  \\\n",
       "0            1788  Adulting can suck at times not to mention insu...   \n",
       "1            2009  This was the best government office experience...   \n",
       "2            5110  My work banks with this branch... so I'm there...   \n",
       "3            6366  I recently worked with Paul from Post Creek Mo...   \n",
       "4            6396  This is my first time visiting this Wells Farg...   \n",
       "...           ...                                                ...   \n",
       "14366      498119  I really like this Credit Union.  They have al...   \n",
       "14367      498464  I'm a Realtor and used this terrific office fo...   \n",
       "14368      498480  I have been doing my taxes with Dmitry for sev...   \n",
       "14369      498626  My wife and I just closed on our first home in...   \n",
       "14370      499564  Jim Saxton-State Farm is great. \\nI recently m...   \n",
       "\n",
       "       recommended  \n",
       "0                1  \n",
       "1                1  \n",
       "2                1  \n",
       "3                1  \n",
       "4                1  \n",
       "...            ...  \n",
       "14366            1  \n",
       "14367            1  \n",
       "14368            1  \n",
       "14369            1  \n",
       "14370            1  \n",
       "\n",
       "[14371 rows x 3 columns]"
      ]
     },
     "execution_count": 36,
     "metadata": {},
     "output_type": "execute_result"
    }
   ],
   "source": [
    "df2['recommended'] = 1\n",
    "df2"
   ]
  },
  {
   "cell_type": "code",
   "execution_count": 35,
   "id": "6921e698",
   "metadata": {},
   "outputs": [
    {
     "data": {
      "text/html": [
       "<div>\n",
       "<style scoped>\n",
       "    .dataframe tbody tr th:only-of-type {\n",
       "        vertical-align: middle;\n",
       "    }\n",
       "\n",
       "    .dataframe tbody tr th {\n",
       "        vertical-align: top;\n",
       "    }\n",
       "\n",
       "    .dataframe thead th {\n",
       "        text-align: right;\n",
       "    }\n",
       "</style>\n",
       "<table border=\"1\" class=\"dataframe\">\n",
       "  <thead>\n",
       "    <tr style=\"text-align: right;\">\n",
       "      <th></th>\n",
       "      <th>Unnamed: 0</th>\n",
       "      <th>review</th>\n",
       "      <th>recommended</th>\n",
       "    </tr>\n",
       "  </thead>\n",
       "  <tbody>\n",
       "    <tr>\n",
       "      <th>0</th>\n",
       "      <td>1001</td>\n",
       "      <td>Do not try to get a land loan from these peopl...</td>\n",
       "      <td>0</td>\n",
       "    </tr>\n",
       "    <tr>\n",
       "      <th>1</th>\n",
       "      <td>2965</td>\n",
       "      <td>Don't ever do business with State Farm! Horrib...</td>\n",
       "      <td>0</td>\n",
       "    </tr>\n",
       "    <tr>\n",
       "      <th>2</th>\n",
       "      <td>4242</td>\n",
       "      <td>I hate to write a poor review because the tell...</td>\n",
       "      <td>0</td>\n",
       "    </tr>\n",
       "    <tr>\n",
       "      <th>3</th>\n",
       "      <td>5096</td>\n",
       "      <td>I wish I could rate this location a negative n...</td>\n",
       "      <td>0</td>\n",
       "    </tr>\n",
       "    <tr>\n",
       "      <th>4</th>\n",
       "      <td>5243</td>\n",
       "      <td>They were our only option and treated us as su...</td>\n",
       "      <td>0</td>\n",
       "    </tr>\n",
       "    <tr>\n",
       "      <th>...</th>\n",
       "      <td>...</td>\n",
       "      <td>...</td>\n",
       "      <td>...</td>\n",
       "    </tr>\n",
       "    <tr>\n",
       "      <th>14164</th>\n",
       "      <td>498789</td>\n",
       "      <td>Don't know what happened to this bank. It used...</td>\n",
       "      <td>0</td>\n",
       "    </tr>\n",
       "    <tr>\n",
       "      <th>14165</th>\n",
       "      <td>499555</td>\n",
       "      <td>Frontline Insurance is the worst company of an...</td>\n",
       "      <td>0</td>\n",
       "    </tr>\n",
       "    <tr>\n",
       "      <th>14166</th>\n",
       "      <td>499648</td>\n",
       "      <td>I mistakenly sent money through mobile money w...</td>\n",
       "      <td>0</td>\n",
       "    </tr>\n",
       "    <tr>\n",
       "      <th>14167</th>\n",
       "      <td>499729</td>\n",
       "      <td>This should be a private bank!! Don't put the ...</td>\n",
       "      <td>0</td>\n",
       "    </tr>\n",
       "    <tr>\n",
       "      <th>14168</th>\n",
       "      <td>499760</td>\n",
       "      <td>failed, customer service support is rude and d...</td>\n",
       "      <td>0</td>\n",
       "    </tr>\n",
       "  </tbody>\n",
       "</table>\n",
       "<p>14169 rows × 3 columns</p>\n",
       "</div>"
      ],
      "text/plain": [
       "       Unnamed: 0                                             review  \\\n",
       "0            1001  Do not try to get a land loan from these peopl...   \n",
       "1            2965  Don't ever do business with State Farm! Horrib...   \n",
       "2            4242  I hate to write a poor review because the tell...   \n",
       "3            5096  I wish I could rate this location a negative n...   \n",
       "4            5243  They were our only option and treated us as su...   \n",
       "...           ...                                                ...   \n",
       "14164      498789  Don't know what happened to this bank. It used...   \n",
       "14165      499555  Frontline Insurance is the worst company of an...   \n",
       "14166      499648  I mistakenly sent money through mobile money w...   \n",
       "14167      499729  This should be a private bank!! Don't put the ...   \n",
       "14168      499760  failed, customer service support is rude and d...   \n",
       "\n",
       "       recommended  \n",
       "0                0  \n",
       "1                0  \n",
       "2                0  \n",
       "3                0  \n",
       "4                0  \n",
       "...            ...  \n",
       "14164            0  \n",
       "14165            0  \n",
       "14166            0  \n",
       "14167            0  \n",
       "14168            0  \n",
       "\n",
       "[14169 rows x 3 columns]"
      ]
     },
     "execution_count": 35,
     "metadata": {},
     "output_type": "execute_result"
    }
   ],
   "source": [
    "df3['recommended'] = 0\n",
    "df3"
   ]
  },
  {
   "cell_type": "code",
   "execution_count": 14,
   "id": "6489e6ef",
   "metadata": {},
   "outputs": [
    {
     "data": {
      "text/plain": [
       "0    Erika was amazing! After months of trying to f...\n",
       "1    My husband and I were referred to Sean by a fr...\n",
       "2    Mike was recommended by our agent and did not ...\n",
       "3    I moved to the Pearl about 2 months ago and I ...\n",
       "4    The Regents team is incredible. Although I cou...\n",
       "5    I enjoy living at Avana! The complex is in a g...\n",
       "6    I don't know what we would have done if we did...\n",
       "7    My wife and I have been searching for apartmen...\n",
       "8    I actually enjoy living here. Sure, the prices...\n",
       "9    These guys rocked! They gave me a courtesy cal...\n",
       "Name: review, dtype: object"
      ]
     },
     "execution_count": 14,
     "metadata": {},
     "output_type": "execute_result"
    }
   ],
   "source": [
    "df4.head(10).review\n"
   ]
  },
  {
   "cell_type": "code",
   "execution_count": 16,
   "id": "9003653c",
   "metadata": {},
   "outputs": [
    {
     "data": {
      "text/plain": [
       "0    For electricity bill mishap: It might be Natio...\n",
       "1    Do not try to get a land loan from these peopl...\n",
       "2    Don't live here. Don't do. It's not worth it. ...\n",
       "3    Where do I start... I would give Zero stars fo...\n",
       "4    Gables Rock Springs does a lot of false advert...\n",
       "5    The amenities aren't amazing but they aren't t...\n",
       "6    Don't be fooled by the nice little neighborhoo...\n",
       "7    We were looking to rent a house.  We email and...\n",
       "8    Honestly I don't know how this place has a rat...\n",
       "9    Disconnected electric car charging stations fo...\n",
       "Name: review, dtype: object"
      ]
     },
     "execution_count": 16,
     "metadata": {},
     "output_type": "execute_result"
    }
   ],
   "source": [
    "df5.head(10).review\n"
   ]
  },
  {
   "cell_type": "code",
   "execution_count": 18,
   "id": "7612f7e4",
   "metadata": {},
   "outputs": [
    {
     "data": {
      "text/html": [
       "<div>\n",
       "<style scoped>\n",
       "    .dataframe tbody tr th:only-of-type {\n",
       "        vertical-align: middle;\n",
       "    }\n",
       "\n",
       "    .dataframe tbody tr th {\n",
       "        vertical-align: top;\n",
       "    }\n",
       "\n",
       "    .dataframe thead th {\n",
       "        text-align: right;\n",
       "    }\n",
       "</style>\n",
       "<table border=\"1\" class=\"dataframe\">\n",
       "  <thead>\n",
       "    <tr style=\"text-align: right;\">\n",
       "      <th></th>\n",
       "      <th>Unnamed: 0</th>\n",
       "      <th>review</th>\n",
       "    </tr>\n",
       "  </thead>\n",
       "  <tbody>\n",
       "    <tr>\n",
       "      <th>0</th>\n",
       "      <td>27</td>\n",
       "      <td>Erika was amazing! After months of trying to f...</td>\n",
       "    </tr>\n",
       "    <tr>\n",
       "      <th>1</th>\n",
       "      <td>226</td>\n",
       "      <td>My husband and I were referred to Sean by a fr...</td>\n",
       "    </tr>\n",
       "    <tr>\n",
       "      <th>2</th>\n",
       "      <td>311</td>\n",
       "      <td>Mike was recommended by our agent and did not ...</td>\n",
       "    </tr>\n",
       "    <tr>\n",
       "      <th>3</th>\n",
       "      <td>315</td>\n",
       "      <td>I moved to the Pearl about 2 months ago and I ...</td>\n",
       "    </tr>\n",
       "    <tr>\n",
       "      <th>4</th>\n",
       "      <td>467</td>\n",
       "      <td>The Regents team is incredible. Although I cou...</td>\n",
       "    </tr>\n",
       "    <tr>\n",
       "      <th>...</th>\n",
       "      <td>...</td>\n",
       "      <td>...</td>\n",
       "    </tr>\n",
       "    <tr>\n",
       "      <th>53156</th>\n",
       "      <td>499666</td>\n",
       "      <td>They were a pleasure to work with and tried th...</td>\n",
       "    </tr>\n",
       "    <tr>\n",
       "      <th>53157</th>\n",
       "      <td>499819</td>\n",
       "      <td>We cannot say enough great things about Jenn! ...</td>\n",
       "    </tr>\n",
       "    <tr>\n",
       "      <th>53158</th>\n",
       "      <td>499947</td>\n",
       "      <td>Shout out to Jose the Maintenance Man! He had ...</td>\n",
       "    </tr>\n",
       "    <tr>\n",
       "      <th>53159</th>\n",
       "      <td>499957</td>\n",
       "      <td>My agent Deneen Newton is amazing. She answere...</td>\n",
       "    </tr>\n",
       "    <tr>\n",
       "      <th>53160</th>\n",
       "      <td>499977</td>\n",
       "      <td>The entire staff at 1660 was very professional...</td>\n",
       "    </tr>\n",
       "  </tbody>\n",
       "</table>\n",
       "<p>53161 rows × 2 columns</p>\n",
       "</div>"
      ],
      "text/plain": [
       "       Unnamed: 0                                             review\n",
       "0              27  Erika was amazing! After months of trying to f...\n",
       "1             226  My husband and I were referred to Sean by a fr...\n",
       "2             311  Mike was recommended by our agent and did not ...\n",
       "3             315  I moved to the Pearl about 2 months ago and I ...\n",
       "4             467  The Regents team is incredible. Although I cou...\n",
       "...           ...                                                ...\n",
       "53156      499666  They were a pleasure to work with and tried th...\n",
       "53157      499819  We cannot say enough great things about Jenn! ...\n",
       "53158      499947  Shout out to Jose the Maintenance Man! He had ...\n",
       "53159      499957  My agent Deneen Newton is amazing. She answere...\n",
       "53160      499977  The entire staff at 1660 was very professional...\n",
       "\n",
       "[53161 rows x 2 columns]"
      ]
     },
     "execution_count": 18,
     "metadata": {},
     "output_type": "execute_result"
    }
   ],
   "source": [
    "df4"
   ]
  },
  {
   "cell_type": "code",
   "execution_count": 19,
   "id": "e79cfc8b",
   "metadata": {},
   "outputs": [
    {
     "data": {
      "text/html": [
       "<div>\n",
       "<style scoped>\n",
       "    .dataframe tbody tr th:only-of-type {\n",
       "        vertical-align: middle;\n",
       "    }\n",
       "\n",
       "    .dataframe tbody tr th {\n",
       "        vertical-align: top;\n",
       "    }\n",
       "\n",
       "    .dataframe thead th {\n",
       "        text-align: right;\n",
       "    }\n",
       "</style>\n",
       "<table border=\"1\" class=\"dataframe\">\n",
       "  <thead>\n",
       "    <tr style=\"text-align: right;\">\n",
       "      <th></th>\n",
       "      <th>Unnamed: 0</th>\n",
       "      <th>review</th>\n",
       "    </tr>\n",
       "  </thead>\n",
       "  <tbody>\n",
       "    <tr>\n",
       "      <th>0</th>\n",
       "      <td>179</td>\n",
       "      <td>For electricity bill mishap: It might be Natio...</td>\n",
       "    </tr>\n",
       "    <tr>\n",
       "      <th>1</th>\n",
       "      <td>1001</td>\n",
       "      <td>Do not try to get a land loan from these peopl...</td>\n",
       "    </tr>\n",
       "    <tr>\n",
       "      <th>2</th>\n",
       "      <td>1213</td>\n",
       "      <td>Don't live here. Don't do. It's not worth it. ...</td>\n",
       "    </tr>\n",
       "    <tr>\n",
       "      <th>3</th>\n",
       "      <td>1465</td>\n",
       "      <td>Where do I start... I would give Zero stars fo...</td>\n",
       "    </tr>\n",
       "    <tr>\n",
       "      <th>4</th>\n",
       "      <td>3324</td>\n",
       "      <td>Gables Rock Springs does a lot of false advert...</td>\n",
       "    </tr>\n",
       "    <tr>\n",
       "      <th>...</th>\n",
       "      <td>...</td>\n",
       "      <td>...</td>\n",
       "    </tr>\n",
       "    <tr>\n",
       "      <th>41794</th>\n",
       "      <td>499534</td>\n",
       "      <td>Just found out that they broke into our apartm...</td>\n",
       "    </tr>\n",
       "    <tr>\n",
       "      <th>41795</th>\n",
       "      <td>499705</td>\n",
       "      <td>I was informed that I would be contacted... I ...</td>\n",
       "    </tr>\n",
       "    <tr>\n",
       "      <th>41796</th>\n",
       "      <td>499735</td>\n",
       "      <td>I MIGHT give this place 2.5 stars if I could. ...</td>\n",
       "    </tr>\n",
       "    <tr>\n",
       "      <th>41797</th>\n",
       "      <td>499750</td>\n",
       "      <td>DO NOT RENT HERE, and here is why\\n1- Before I...</td>\n",
       "    </tr>\n",
       "    <tr>\n",
       "      <th>41798</th>\n",
       "      <td>499864</td>\n",
       "      <td>Oh boy, where to begin with this place. Ill st...</td>\n",
       "    </tr>\n",
       "  </tbody>\n",
       "</table>\n",
       "<p>41799 rows × 2 columns</p>\n",
       "</div>"
      ],
      "text/plain": [
       "       Unnamed: 0                                             review\n",
       "0             179  For electricity bill mishap: It might be Natio...\n",
       "1            1001  Do not try to get a land loan from these peopl...\n",
       "2            1213  Don't live here. Don't do. It's not worth it. ...\n",
       "3            1465  Where do I start... I would give Zero stars fo...\n",
       "4            3324  Gables Rock Springs does a lot of false advert...\n",
       "...           ...                                                ...\n",
       "41794      499534  Just found out that they broke into our apartm...\n",
       "41795      499705  I was informed that I would be contacted... I ...\n",
       "41796      499735  I MIGHT give this place 2.5 stars if I could. ...\n",
       "41797      499750  DO NOT RENT HERE, and here is why\\n1- Before I...\n",
       "41798      499864  Oh boy, where to begin with this place. Ill st...\n",
       "\n",
       "[41799 rows x 2 columns]"
      ]
     },
     "execution_count": 19,
     "metadata": {},
     "output_type": "execute_result"
    }
   ],
   "source": [
    "df5"
   ]
  },
  {
   "cell_type": "code",
   "execution_count": 37,
   "id": "5948fd29",
   "metadata": {},
   "outputs": [],
   "source": [
    "# Stack the DataFrames on top of each other\n",
    "df_fin = pd.concat([df2, df3], axis=0)"
   ]
  },
  {
   "cell_type": "code",
   "execution_count": 49,
   "id": "eb50f9e3",
   "metadata": {},
   "outputs": [
    {
     "data": {
      "text/html": [
       "<div>\n",
       "<style scoped>\n",
       "    .dataframe tbody tr th:only-of-type {\n",
       "        vertical-align: middle;\n",
       "    }\n",
       "\n",
       "    .dataframe tbody tr th {\n",
       "        vertical-align: top;\n",
       "    }\n",
       "\n",
       "    .dataframe thead th {\n",
       "        text-align: right;\n",
       "    }\n",
       "</style>\n",
       "<table border=\"1\" class=\"dataframe\">\n",
       "  <thead>\n",
       "    <tr style=\"text-align: right;\">\n",
       "      <th></th>\n",
       "      <th>Unnamed: 0</th>\n",
       "      <th>review</th>\n",
       "      <th>recommended</th>\n",
       "    </tr>\n",
       "  </thead>\n",
       "  <tbody>\n",
       "    <tr>\n",
       "      <th>0</th>\n",
       "      <td>1788</td>\n",
       "      <td>Adulting can suck at times not to mention insu...</td>\n",
       "      <td>1</td>\n",
       "    </tr>\n",
       "    <tr>\n",
       "      <th>1</th>\n",
       "      <td>2009</td>\n",
       "      <td>This was the best government office experience...</td>\n",
       "      <td>1</td>\n",
       "    </tr>\n",
       "    <tr>\n",
       "      <th>2</th>\n",
       "      <td>5110</td>\n",
       "      <td>My work banks with this branch... so I'm there...</td>\n",
       "      <td>1</td>\n",
       "    </tr>\n",
       "    <tr>\n",
       "      <th>3</th>\n",
       "      <td>6366</td>\n",
       "      <td>I recently worked with Paul from Post Creek Mo...</td>\n",
       "      <td>1</td>\n",
       "    </tr>\n",
       "    <tr>\n",
       "      <th>4</th>\n",
       "      <td>6396</td>\n",
       "      <td>This is my first time visiting this Wells Farg...</td>\n",
       "      <td>1</td>\n",
       "    </tr>\n",
       "    <tr>\n",
       "      <th>...</th>\n",
       "      <td>...</td>\n",
       "      <td>...</td>\n",
       "      <td>...</td>\n",
       "    </tr>\n",
       "    <tr>\n",
       "      <th>14164</th>\n",
       "      <td>498789</td>\n",
       "      <td>Don't know what happened to this bank. It used...</td>\n",
       "      <td>0</td>\n",
       "    </tr>\n",
       "    <tr>\n",
       "      <th>14165</th>\n",
       "      <td>499555</td>\n",
       "      <td>Frontline Insurance is the worst company of an...</td>\n",
       "      <td>0</td>\n",
       "    </tr>\n",
       "    <tr>\n",
       "      <th>14166</th>\n",
       "      <td>499648</td>\n",
       "      <td>I mistakenly sent money through mobile money w...</td>\n",
       "      <td>0</td>\n",
       "    </tr>\n",
       "    <tr>\n",
       "      <th>14167</th>\n",
       "      <td>499729</td>\n",
       "      <td>This should be a private bank!! Don't put the ...</td>\n",
       "      <td>0</td>\n",
       "    </tr>\n",
       "    <tr>\n",
       "      <th>14168</th>\n",
       "      <td>499760</td>\n",
       "      <td>failed, customer service support is rude and d...</td>\n",
       "      <td>0</td>\n",
       "    </tr>\n",
       "  </tbody>\n",
       "</table>\n",
       "<p>28540 rows × 3 columns</p>\n",
       "</div>"
      ],
      "text/plain": [
       "       Unnamed: 0                                             review  \\\n",
       "0            1788  Adulting can suck at times not to mention insu...   \n",
       "1            2009  This was the best government office experience...   \n",
       "2            5110  My work banks with this branch... so I'm there...   \n",
       "3            6366  I recently worked with Paul from Post Creek Mo...   \n",
       "4            6396  This is my first time visiting this Wells Farg...   \n",
       "...           ...                                                ...   \n",
       "14164      498789  Don't know what happened to this bank. It used...   \n",
       "14165      499555  Frontline Insurance is the worst company of an...   \n",
       "14166      499648  I mistakenly sent money through mobile money w...   \n",
       "14167      499729  This should be a private bank!! Don't put the ...   \n",
       "14168      499760  failed, customer service support is rude and d...   \n",
       "\n",
       "       recommended  \n",
       "0                1  \n",
       "1                1  \n",
       "2                1  \n",
       "3                1  \n",
       "4                1  \n",
       "...            ...  \n",
       "14164            0  \n",
       "14165            0  \n",
       "14166            0  \n",
       "14167            0  \n",
       "14168            0  \n",
       "\n",
       "[28540 rows x 3 columns]"
      ]
     },
     "execution_count": 49,
     "metadata": {},
     "output_type": "execute_result"
    }
   ],
   "source": [
    "df_fin"
   ]
  },
  {
   "cell_type": "code",
   "execution_count": 50,
   "id": "dae806fd",
   "metadata": {},
   "outputs": [],
   "source": [
    "df_fin = df_fin.drop(columns='Unnamed: 0')"
   ]
  },
  {
   "cell_type": "code",
   "execution_count": 51,
   "id": "a22aeffc",
   "metadata": {},
   "outputs": [
    {
     "data": {
      "text/html": [
       "<div>\n",
       "<style scoped>\n",
       "    .dataframe tbody tr th:only-of-type {\n",
       "        vertical-align: middle;\n",
       "    }\n",
       "\n",
       "    .dataframe tbody tr th {\n",
       "        vertical-align: top;\n",
       "    }\n",
       "\n",
       "    .dataframe thead th {\n",
       "        text-align: right;\n",
       "    }\n",
       "</style>\n",
       "<table border=\"1\" class=\"dataframe\">\n",
       "  <thead>\n",
       "    <tr style=\"text-align: right;\">\n",
       "      <th></th>\n",
       "      <th>review</th>\n",
       "      <th>recommended</th>\n",
       "    </tr>\n",
       "  </thead>\n",
       "  <tbody>\n",
       "    <tr>\n",
       "      <th>0</th>\n",
       "      <td>Adulting can suck at times not to mention insu...</td>\n",
       "      <td>1</td>\n",
       "    </tr>\n",
       "    <tr>\n",
       "      <th>1</th>\n",
       "      <td>This was the best government office experience...</td>\n",
       "      <td>1</td>\n",
       "    </tr>\n",
       "    <tr>\n",
       "      <th>2</th>\n",
       "      <td>My work banks with this branch... so I'm there...</td>\n",
       "      <td>1</td>\n",
       "    </tr>\n",
       "    <tr>\n",
       "      <th>3</th>\n",
       "      <td>I recently worked with Paul from Post Creek Mo...</td>\n",
       "      <td>1</td>\n",
       "    </tr>\n",
       "    <tr>\n",
       "      <th>4</th>\n",
       "      <td>This is my first time visiting this Wells Farg...</td>\n",
       "      <td>1</td>\n",
       "    </tr>\n",
       "    <tr>\n",
       "      <th>...</th>\n",
       "      <td>...</td>\n",
       "      <td>...</td>\n",
       "    </tr>\n",
       "    <tr>\n",
       "      <th>14164</th>\n",
       "      <td>Don't know what happened to this bank. It used...</td>\n",
       "      <td>0</td>\n",
       "    </tr>\n",
       "    <tr>\n",
       "      <th>14165</th>\n",
       "      <td>Frontline Insurance is the worst company of an...</td>\n",
       "      <td>0</td>\n",
       "    </tr>\n",
       "    <tr>\n",
       "      <th>14166</th>\n",
       "      <td>I mistakenly sent money through mobile money w...</td>\n",
       "      <td>0</td>\n",
       "    </tr>\n",
       "    <tr>\n",
       "      <th>14167</th>\n",
       "      <td>This should be a private bank!! Don't put the ...</td>\n",
       "      <td>0</td>\n",
       "    </tr>\n",
       "    <tr>\n",
       "      <th>14168</th>\n",
       "      <td>failed, customer service support is rude and d...</td>\n",
       "      <td>0</td>\n",
       "    </tr>\n",
       "  </tbody>\n",
       "</table>\n",
       "<p>28540 rows × 2 columns</p>\n",
       "</div>"
      ],
      "text/plain": [
       "                                                  review  recommended\n",
       "0      Adulting can suck at times not to mention insu...            1\n",
       "1      This was the best government office experience...            1\n",
       "2      My work banks with this branch... so I'm there...            1\n",
       "3      I recently worked with Paul from Post Creek Mo...            1\n",
       "4      This is my first time visiting this Wells Farg...            1\n",
       "...                                                  ...          ...\n",
       "14164  Don't know what happened to this bank. It used...            0\n",
       "14165  Frontline Insurance is the worst company of an...            0\n",
       "14166  I mistakenly sent money through mobile money w...            0\n",
       "14167  This should be a private bank!! Don't put the ...            0\n",
       "14168  failed, customer service support is rude and d...            0\n",
       "\n",
       "[28540 rows x 2 columns]"
      ]
     },
     "execution_count": 51,
     "metadata": {},
     "output_type": "execute_result"
    }
   ],
   "source": [
    "df_fin"
   ]
  },
  {
   "cell_type": "code",
   "execution_count": 57,
   "id": "185e5ae8",
   "metadata": {},
   "outputs": [],
   "source": [
    "df_fin.to_csv('../raw_data/fin_yelp', index=False)"
   ]
  },
  {
   "cell_type": "code",
   "execution_count": 58,
   "id": "33c29e9d",
   "metadata": {},
   "outputs": [],
   "source": [
    "df_finy = pd.read_csv('../raw_data/fin_yelp')"
   ]
  },
  {
   "cell_type": "code",
   "execution_count": 59,
   "id": "db668eb3",
   "metadata": {},
   "outputs": [
    {
     "data": {
      "text/html": [
       "<div>\n",
       "<style scoped>\n",
       "    .dataframe tbody tr th:only-of-type {\n",
       "        vertical-align: middle;\n",
       "    }\n",
       "\n",
       "    .dataframe tbody tr th {\n",
       "        vertical-align: top;\n",
       "    }\n",
       "\n",
       "    .dataframe thead th {\n",
       "        text-align: right;\n",
       "    }\n",
       "</style>\n",
       "<table border=\"1\" class=\"dataframe\">\n",
       "  <thead>\n",
       "    <tr style=\"text-align: right;\">\n",
       "      <th></th>\n",
       "      <th>review</th>\n",
       "      <th>recommended</th>\n",
       "    </tr>\n",
       "  </thead>\n",
       "  <tbody>\n",
       "    <tr>\n",
       "      <th>0</th>\n",
       "      <td>Adulting can suck at times not to mention insu...</td>\n",
       "      <td>1</td>\n",
       "    </tr>\n",
       "    <tr>\n",
       "      <th>1</th>\n",
       "      <td>This was the best government office experience...</td>\n",
       "      <td>1</td>\n",
       "    </tr>\n",
       "    <tr>\n",
       "      <th>2</th>\n",
       "      <td>My work banks with this branch... so I'm there...</td>\n",
       "      <td>1</td>\n",
       "    </tr>\n",
       "    <tr>\n",
       "      <th>3</th>\n",
       "      <td>I recently worked with Paul from Post Creek Mo...</td>\n",
       "      <td>1</td>\n",
       "    </tr>\n",
       "    <tr>\n",
       "      <th>4</th>\n",
       "      <td>This is my first time visiting this Wells Farg...</td>\n",
       "      <td>1</td>\n",
       "    </tr>\n",
       "    <tr>\n",
       "      <th>...</th>\n",
       "      <td>...</td>\n",
       "      <td>...</td>\n",
       "    </tr>\n",
       "    <tr>\n",
       "      <th>28535</th>\n",
       "      <td>Don't know what happened to this bank. It used...</td>\n",
       "      <td>0</td>\n",
       "    </tr>\n",
       "    <tr>\n",
       "      <th>28536</th>\n",
       "      <td>Frontline Insurance is the worst company of an...</td>\n",
       "      <td>0</td>\n",
       "    </tr>\n",
       "    <tr>\n",
       "      <th>28537</th>\n",
       "      <td>I mistakenly sent money through mobile money w...</td>\n",
       "      <td>0</td>\n",
       "    </tr>\n",
       "    <tr>\n",
       "      <th>28538</th>\n",
       "      <td>This should be a private bank!! Don't put the ...</td>\n",
       "      <td>0</td>\n",
       "    </tr>\n",
       "    <tr>\n",
       "      <th>28539</th>\n",
       "      <td>failed, customer service support is rude and d...</td>\n",
       "      <td>0</td>\n",
       "    </tr>\n",
       "  </tbody>\n",
       "</table>\n",
       "<p>28540 rows × 2 columns</p>\n",
       "</div>"
      ],
      "text/plain": [
       "                                                  review  recommended\n",
       "0      Adulting can suck at times not to mention insu...            1\n",
       "1      This was the best government office experience...            1\n",
       "2      My work banks with this branch... so I'm there...            1\n",
       "3      I recently worked with Paul from Post Creek Mo...            1\n",
       "4      This is my first time visiting this Wells Farg...            1\n",
       "...                                                  ...          ...\n",
       "28535  Don't know what happened to this bank. It used...            0\n",
       "28536  Frontline Insurance is the worst company of an...            0\n",
       "28537  I mistakenly sent money through mobile money w...            0\n",
       "28538  This should be a private bank!! Don't put the ...            0\n",
       "28539  failed, customer service support is rude and d...            0\n",
       "\n",
       "[28540 rows x 2 columns]"
      ]
     },
     "execution_count": 59,
     "metadata": {},
     "output_type": "execute_result"
    }
   ],
   "source": [
    "df_finy"
   ]
  },
  {
   "cell_type": "code",
   "execution_count": 3,
   "id": "d1e95a6f",
   "metadata": {},
   "outputs": [
    {
     "name": "stderr",
     "output_type": "stream",
     "text": [
      "2022-02-24 19:52:44.041232: W tensorflow/stream_executor/platform/default/dso_loader.cc:64] Could not load dynamic library 'libcuda.so.1'; dlerror: libcuda.so.1: cannot open shared object file: No such file or directory\n",
      "2022-02-24 19:52:44.041301: W tensorflow/stream_executor/cuda/cuda_driver.cc:269] failed call to cuInit: UNKNOWN ERROR (303)\n",
      "2022-02-24 19:52:44.041347: I tensorflow/stream_executor/cuda/cuda_diagnostics.cc:156] kernel driver does not appear to be running on this host (DESKTOP-1CG9GS9): /proc/driver/nvidia/version does not exist\n",
      "2022-02-24 19:52:44.041684: I tensorflow/core/platform/cpu_feature_guard.cc:151] This TensorFlow binary is optimized with oneAPI Deep Neural Network Library (oneDNN) to use the following CPU instructions in performance-critical operations:  AVX2 FMA\n",
      "To enable them in other operations, rebuild TensorFlow with the appropriate compiler flags.\n"
     ]
    }
   ],
   "source": [
    "gcp_model = tf.keras.models.load_model('../models/Financial_Services_model')"
   ]
  },
  {
   "cell_type": "code",
   "execution_count": 7,
   "id": "bf169b71",
   "metadata": {},
   "outputs": [],
   "source": [
    "df_financial = pd.read_csv('../raw_data/data_yelp_heading_split_yelp_Financial_Services')"
   ]
  },
  {
   "cell_type": "code",
   "execution_count": 8,
   "id": "b92b7cb5",
   "metadata": {},
   "outputs": [],
   "source": [
    "X = df_financial['review']\n",
    "y = df_financial['recommendation'].apply(lambda x: 0\n",
    "                                            if x == 'Not Recommended' else 1)"
   ]
  },
  {
   "cell_type": "code",
   "execution_count": 9,
   "id": "29cc02d5",
   "metadata": {},
   "outputs": [],
   "source": [
    "X_train, X_test, y_train, y_test = train_test_split(X,\n",
    "                                                            y,\n",
    "                                                            test_size=0.33,\n",
    "                                                            random_state=42)"
   ]
  },
  {
   "cell_type": "code",
   "execution_count": 10,
   "id": "3871de9f",
   "metadata": {},
   "outputs": [],
   "source": [
    "y_pred = gcp_model.predict(X_test)"
   ]
  },
  {
   "cell_type": "code",
   "execution_count": 15,
   "id": "4f270561",
   "metadata": {},
   "outputs": [
    {
     "name": "stdout",
     "output_type": "stream",
     "text": [
      "295/295 [==============================] - 627s 2s/step - loss: 0.2619 - accuracy: 0.8943 - recall: 0.8863 - precision: 0.8983 - auc: 0.9576\n"
     ]
    }
   ],
   "source": [
    "evaluation = gcp_model.evaluate(X_test,y_test)"
   ]
  },
  {
   "cell_type": "code",
   "execution_count": null,
   "id": "c1ed0bd9",
   "metadata": {},
   "outputs": [],
   "source": []
  }
 ],
 "metadata": {
  "kernelspec": {
   "display_name": "Python 3 (ipykernel)",
   "language": "python",
   "name": "python3"
  },
  "language_info": {
   "codemirror_mode": {
    "name": "ipython",
    "version": 3
   },
   "file_extension": ".py",
   "mimetype": "text/x-python",
   "name": "python",
   "nbconvert_exporter": "python",
   "pygments_lexer": "ipython3",
   "version": "3.8.6"
  },
  "toc": {
   "base_numbering": 1,
   "nav_menu": {},
   "number_sections": true,
   "sideBar": true,
   "skip_h1_title": false,
   "title_cell": "Table of Contents",
   "title_sidebar": "Contents",
   "toc_cell": false,
   "toc_position": {},
   "toc_section_display": true,
   "toc_window_display": false
  }
 },
 "nbformat": 4,
 "nbformat_minor": 5
}
