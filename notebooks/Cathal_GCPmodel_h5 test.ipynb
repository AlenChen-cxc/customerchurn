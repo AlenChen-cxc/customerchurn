{
 "cells": [
  {
   "cell_type": "code",
   "execution_count": 4,
   "id": "16a429ff",
   "metadata": {},
   "outputs": [],
   "source": [
    "import tensorflow as tf\n",
    "import os"
   ]
  },
  {
   "cell_type": "code",
   "execution_count": 7,
   "id": "b9001513",
   "metadata": {},
   "outputs": [
    {
     "data": {
      "text/plain": [
       "['keras_metadata.pb',\n",
       " 'saved_model.pb',\n",
       " 'keras_metadata.pb:Zone.Identifier',\n",
       " 'assets',\n",
       " 'variables',\n",
       " 'saved_model.pb:Zone.Identifier']"
      ]
     },
     "execution_count": 7,
     "metadata": {},
     "output_type": "execute_result"
    }
   ],
   "source": [
    "os.listdir('../models/sentiment_model1')"
   ]
  },
  {
   "cell_type": "code",
   "execution_count": 8,
   "id": "6165a687",
   "metadata": {},
   "outputs": [
    {
     "data": {
      "text/plain": [
       "['vocab.txt:Zone.Identifier', 'vocab.txt']"
      ]
     },
     "execution_count": 8,
     "metadata": {},
     "output_type": "execute_result"
    }
   ],
   "source": [
    "os.listdir('../models/sentiment_model1/assets')"
   ]
  },
  {
   "cell_type": "code",
   "execution_count": 9,
   "id": "9beb8933",
   "metadata": {},
   "outputs": [
    {
     "data": {
      "text/plain": [
       "['variables.index:Zone.Identifier',\n",
       " 'variables.index',\n",
       " 'variables.data-00000-of-00001:Zone.Identifier',\n",
       " 'variables.data-00000-of-00001']"
      ]
     },
     "execution_count": 9,
     "metadata": {},
     "output_type": "execute_result"
    }
   ],
   "source": [
    "os.listdir('../models/sentiment_model1/variables')"
   ]
  },
  {
   "cell_type": "code",
   "execution_count": 12,
   "id": "2c727b70",
   "metadata": {},
   "outputs": [
    {
     "ename": "NotADirectoryError",
     "evalue": "[Errno 20] Not a directory: '../models/sentiment_model1/saved_model.pb'",
     "output_type": "error",
     "traceback": [
      "\u001b[0;31m---------------------------------------------------------------------------\u001b[0m",
      "\u001b[0;31mNotADirectoryError\u001b[0m                        Traceback (most recent call last)",
      "Input \u001b[0;32mIn [12]\u001b[0m, in \u001b[0;36m<module>\u001b[0;34m\u001b[0m\n\u001b[0;32m----> 1\u001b[0m \u001b[43mos\u001b[49m\u001b[38;5;241;43m.\u001b[39;49m\u001b[43mlistdir\u001b[49m\u001b[43m(\u001b[49m\u001b[38;5;124;43m'\u001b[39;49m\u001b[38;5;124;43m../models/sentiment_model1/saved_model.pb\u001b[39;49m\u001b[38;5;124;43m'\u001b[39;49m\u001b[43m)\u001b[49m\n",
      "\u001b[0;31mNotADirectoryError\u001b[0m: [Errno 20] Not a directory: '../models/sentiment_model1/saved_model.pb'"
     ]
    }
   ],
   "source": [
    "os.listdir('../models/sentiment_model1/saved_model.pb')"
   ]
  },
  {
   "cell_type": "code",
   "execution_count": 16,
   "id": "e6c935aa",
   "metadata": {},
   "outputs": [
    {
     "name": "stdout",
     "output_type": "stream",
     "text": [
      "<generator object walk at 0x7fe81967c9e0>\n"
     ]
    }
   ],
   "source": [
    "os.walk('../models/sentiment_model1')"
   ]
  },
  {
   "cell_type": "code",
   "execution_count": 26,
   "id": "a2d2ef9b",
   "metadata": {},
   "outputs": [
    {
     "name": "stdout",
     "output_type": "stream",
     "text": [
      "Parent folder: ../models/sentiment_model1\n",
      "Dirname: assets\n",
      "Parent folder: ../models/sentiment_model1\n",
      "Dirname: variables\n",
      "Parent folder: ../models/sentiment_model1\n",
      "Filename: keras_metadata.pb\n",
      "Parent folder: ../models/sentiment_model1\n",
      "Filename: saved_model.pb\n",
      "Parent folder: ../models/sentiment_model1\n",
      "Filename: keras_metadata.pb:Zone.Identifier\n",
      "Parent folder: ../models/sentiment_model1\n",
      "Filename: saved_model.pb:Zone.Identifier\n",
      "Parent folder: ../models/sentiment_model1/assets\n",
      "Filename: vocab.txt:Zone.Identifier\n",
      "Parent folder: ../models/sentiment_model1/assets\n",
      "Filename: vocab.txt\n",
      "Parent folder: ../models/sentiment_model1/variables\n",
      "Filename: variables.index:Zone.Identifier\n",
      "Parent folder: ../models/sentiment_model1/variables\n",
      "Filename: variables.index\n",
      "Parent folder: ../models/sentiment_model1/variables\n",
      "Filename: variables.data-00000-of-00001:Zone.Identifier\n",
      "Parent folder: ../models/sentiment_model1/variables\n",
      "Filename: variables.data-00000-of-00001\n",
      "['variables.index:Zone.Identifier', 'variables.index', 'variables.data-00000-of-00001:Zone.Identifier', 'variables.data-00000-of-00001']\n"
     ]
    }
   ],
   "source": [
    "for parent, dirnames, filenames in os.walk('../models/sentiment_model1'):\n",
    "    lst =[]\n",
    "    # Case1: traversal the directories\n",
    "\n",
    "    for dirname in dirnames:\n",
    "        print(\"Parent folder:\", parent)\n",
    "        print(\"Dirname:\", dirname)\n",
    "    # Case2: traversal the files\n",
    "    for filename in filenames:\n",
    "        print(\"Parent folder:\", parent)\n",
    "        print(\"Filename:\", filename)\n",
    "        lst.append(filename)\n",
    "\n",
    "print(lst)"
   ]
  },
  {
   "cell_type": "code",
   "execution_count": 27,
   "id": "0921b81c",
   "metadata": {},
   "outputs": [
    {
     "data": {
      "text/plain": [
       "['../models/sentiment_model1keras_metadata.pb',\n",
       " '../models/sentiment_model1saved_model.pb',\n",
       " '../models/sentiment_model1keras_metadata.pb:Zone.Identifier',\n",
       " '../models/sentiment_model1saved_model.pb:Zone.Identifier',\n",
       " '../models/sentiment_model1/assetsvocab.txt:Zone.Identifier',\n",
       " '../models/sentiment_model1/assetsvocab.txt',\n",
       " '../models/sentiment_model1/variablesvariables.index:Zone.Identifier',\n",
       " '../models/sentiment_model1/variablesvariables.index',\n",
       " '../models/sentiment_model1/variablesvariables.data-00000-of-00001:Zone.Identifier',\n",
       " '../models/sentiment_model1/variablesvariables.data-00000-of-00001']"
      ]
     },
     "execution_count": 27,
     "metadata": {},
     "output_type": "execute_result"
    }
   ],
   "source": [
    "ls =[]\n",
    "for parent, dirnames, filenames in os.walk('../models/sentiment_model1'):\n",
    "    for filename in filenames:\n",
    "        ls.append(parent + filename)\n",
    "        \n",
    "ls\n"
   ]
  },
  {
   "cell_type": "code",
   "execution_count": null,
   "id": "1fd3edb8",
   "metadata": {},
   "outputs": [],
   "source": []
  },
  {
   "cell_type": "code",
   "execution_count": null,
   "id": "a5ca3dd5",
   "metadata": {},
   "outputs": [],
   "source": []
  },
  {
   "cell_type": "code",
   "execution_count": 3,
   "id": "b733d783",
   "metadata": {},
   "outputs": [
    {
     "ename": "ValueError",
     "evalue": "Unknown layer: KerasLayer. Please ensure this object is passed to the `custom_objects` argument. See https://www.tensorflow.org/guide/keras/save_and_serialize#registering_the_custom_object for details.",
     "output_type": "error",
     "traceback": [
      "\u001b[0;31m---------------------------------------------------------------------------\u001b[0m",
      "\u001b[0;31mValueError\u001b[0m                                Traceback (most recent call last)",
      "Input \u001b[0;32mIn [3]\u001b[0m, in \u001b[0;36m<module>\u001b[0;34m\u001b[0m\n\u001b[0;32m----> 1\u001b[0m model \u001b[38;5;241m=\u001b[39m \u001b[43mtf\u001b[49m\u001b[38;5;241;43m.\u001b[39;49m\u001b[43mkeras\u001b[49m\u001b[38;5;241;43m.\u001b[39;49m\u001b[43mmodels\u001b[49m\u001b[38;5;241;43m.\u001b[39;49m\u001b[43mload_model\u001b[49m\u001b[43m(\u001b[49m\u001b[38;5;124;43m'\u001b[39;49m\u001b[38;5;124;43m../models/models_customerchurn_v2_my_model.h5\u001b[39;49m\u001b[38;5;124;43m'\u001b[39;49m\u001b[43m)\u001b[49m\n",
      "File \u001b[0;32m~/.pyenv/versions/3.8.6/envs/customerchurn/lib/python3.8/site-packages/keras/utils/traceback_utils.py:67\u001b[0m, in \u001b[0;36mfilter_traceback.<locals>.error_handler\u001b[0;34m(*args, **kwargs)\u001b[0m\n\u001b[1;32m     65\u001b[0m \u001b[38;5;28;01mexcept\u001b[39;00m \u001b[38;5;167;01mException\u001b[39;00m \u001b[38;5;28;01mas\u001b[39;00m e:  \u001b[38;5;66;03m# pylint: disable=broad-except\u001b[39;00m\n\u001b[1;32m     66\u001b[0m   filtered_tb \u001b[38;5;241m=\u001b[39m _process_traceback_frames(e\u001b[38;5;241m.\u001b[39m__traceback__)\n\u001b[0;32m---> 67\u001b[0m   \u001b[38;5;28;01mraise\u001b[39;00m e\u001b[38;5;241m.\u001b[39mwith_traceback(filtered_tb) \u001b[38;5;28;01mfrom\u001b[39;00m \u001b[38;5;28mNone\u001b[39m\n\u001b[1;32m     68\u001b[0m \u001b[38;5;28;01mfinally\u001b[39;00m:\n\u001b[1;32m     69\u001b[0m   \u001b[38;5;28;01mdel\u001b[39;00m filtered_tb\n",
      "File \u001b[0;32m~/.pyenv/versions/3.8.6/envs/customerchurn/lib/python3.8/site-packages/keras/utils/generic_utils.py:562\u001b[0m, in \u001b[0;36mclass_and_config_for_serialized_keras_object\u001b[0;34m(config, module_objects, custom_objects, printable_module_name)\u001b[0m\n\u001b[1;32m    560\u001b[0m \u001b[38;5;28mcls\u001b[39m \u001b[38;5;241m=\u001b[39m get_registered_object(class_name, custom_objects, module_objects)\n\u001b[1;32m    561\u001b[0m \u001b[38;5;28;01mif\u001b[39;00m \u001b[38;5;28mcls\u001b[39m \u001b[38;5;129;01mis\u001b[39;00m \u001b[38;5;28;01mNone\u001b[39;00m:\n\u001b[0;32m--> 562\u001b[0m   \u001b[38;5;28;01mraise\u001b[39;00m \u001b[38;5;167;01mValueError\u001b[39;00m(\n\u001b[1;32m    563\u001b[0m       \u001b[38;5;124mf\u001b[39m\u001b[38;5;124m'\u001b[39m\u001b[38;5;124mUnknown \u001b[39m\u001b[38;5;132;01m{\u001b[39;00mprintable_module_name\u001b[38;5;132;01m}\u001b[39;00m\u001b[38;5;124m: \u001b[39m\u001b[38;5;132;01m{\u001b[39;00mclass_name\u001b[38;5;132;01m}\u001b[39;00m\u001b[38;5;124m. Please ensure this \u001b[39m\u001b[38;5;124m'\u001b[39m\n\u001b[1;32m    564\u001b[0m       \u001b[38;5;124m'\u001b[39m\u001b[38;5;124mobject is passed to the `custom_objects` argument. See \u001b[39m\u001b[38;5;124m'\u001b[39m\n\u001b[1;32m    565\u001b[0m       \u001b[38;5;124m'\u001b[39m\u001b[38;5;124mhttps://www.tensorflow.org/guide/keras/save_and_serialize\u001b[39m\u001b[38;5;124m'\u001b[39m\n\u001b[1;32m    566\u001b[0m       \u001b[38;5;124m'\u001b[39m\u001b[38;5;124m#registering_the_custom_object for details.\u001b[39m\u001b[38;5;124m'\u001b[39m)\n\u001b[1;32m    568\u001b[0m cls_config \u001b[38;5;241m=\u001b[39m config[\u001b[38;5;124m'\u001b[39m\u001b[38;5;124mconfig\u001b[39m\u001b[38;5;124m'\u001b[39m]\n\u001b[1;32m    569\u001b[0m \u001b[38;5;66;03m# Check if `cls_config` is a list. If it is a list, return the class and the\u001b[39;00m\n\u001b[1;32m    570\u001b[0m \u001b[38;5;66;03m# associated class configs for recursively deserialization. This case will\u001b[39;00m\n\u001b[1;32m    571\u001b[0m \u001b[38;5;66;03m# happen on the old version of sequential model (e.g. `keras_version` ==\u001b[39;00m\n\u001b[1;32m    572\u001b[0m \u001b[38;5;66;03m# \"2.0.6\"), which is serialized in a different structure, for example\u001b[39;00m\n\u001b[1;32m    573\u001b[0m \u001b[38;5;66;03m# \"{'class_name': 'Sequential',\u001b[39;00m\n\u001b[1;32m    574\u001b[0m \u001b[38;5;66;03m#   'config': [{'class_name': 'Embedding', 'config': ...}, {}, ...]}\".\u001b[39;00m\n",
      "\u001b[0;31mValueError\u001b[0m: Unknown layer: KerasLayer. Please ensure this object is passed to the `custom_objects` argument. See https://www.tensorflow.org/guide/keras/save_and_serialize#registering_the_custom_object for details."
     ]
    }
   ],
   "source": [
    "model = tf.keras.models.load_model('../models/models_customerchurn_v2_my_model.h5')\n",
    "\n"
   ]
  },
  {
   "cell_type": "code",
   "execution_count": null,
   "id": "b5b4a517",
   "metadata": {},
   "outputs": [],
   "source": []
  }
 ],
 "metadata": {
  "kernelspec": {
   "display_name": "Python 3 (ipykernel)",
   "language": "python",
   "name": "python3"
  },
  "language_info": {
   "codemirror_mode": {
    "name": "ipython",
    "version": 3
   },
   "file_extension": ".py",
   "mimetype": "text/x-python",
   "name": "python",
   "nbconvert_exporter": "python",
   "pygments_lexer": "ipython3",
   "version": "3.8.6"
  },
  "toc": {
   "base_numbering": 1,
   "nav_menu": {},
   "number_sections": true,
   "sideBar": true,
   "skip_h1_title": false,
   "title_cell": "Table of Contents",
   "title_sidebar": "Contents",
   "toc_cell": false,
   "toc_position": {},
   "toc_section_display": true,
   "toc_window_display": false
  }
 },
 "nbformat": 4,
 "nbformat_minor": 5
}
